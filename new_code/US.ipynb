{
 "cells": [
  {
   "cell_type": "code",
   "execution_count": 1,
   "metadata": {},
   "outputs": [],
   "source": [
    "import numpy as np"
   ]
  },
  {
   "cell_type": "markdown",
   "metadata": {},
   "source": [
    "# US Exercise\n",
    "\n",
    "We are going to use the data calibrated to the US economy to evaluate the impact of technology and labor supply shocks. "
   ]
  },
  {
   "cell_type": "code",
   "execution_count": null,
   "metadata": {},
   "outputs": [],
   "source": [
    "data_dir = 'data/clean/'\n",
    "dfA      = pd.read_csv(data_dir + 'A.csv')\n",
    "dfParam  = pd.read_csv(data_dir + 'params.csv')\n",
    "dfLshare = pd.read_csv(data_dir + 'labor_share.csv')\n",
    "dfLabor_market_monthly= pd.read_csv(data_dir + 'labor_market_monthly.csv')\n",
    "dfLabor_market_monthly.date = pd.to_datetime(dfLabor_market_monthly.date)\n",
    "dfLabor_market_monthly = dfLabor_market_monthly.sort_values(by=['date', 'BEA_sector'])\n",
    "dfLabor_market_monthly = dfLabor_market_monthly.dropna(axis=0)\n",
    "\n",
    "# reformatting parameters\n",
    "A = np.array(dfA.iloc[:, 1:], dtype='float64')\n",
    "φ = np.array(dfParam.φ)\n",
    "λ = np.array(dfParam.λ)\n",
    "λ_alt = np.array(dfParam.λ_alt)\n",
    "\n",
    "α = np.array(dfParam.α)\n",
    "θ = np.array(dfParam.θ)\n",
    "θ_alt = np.array(dfParam.θ)\n",
    "γ = np.array(dfParam.γ)"
   ]
  },
  {
   "cell_type": "code",
   "execution_count": 2,
   "metadata": {},
   "outputs": [],
   "source": [
    "# Size of network\n",
    "J = 4 \n",
    "\n",
    "# Sampling input-output matrix entries \n",
    "μ = np.zeros(J+1)\n",
    "Σ = np.eye(J+1)\n",
    "z_draws = np.random.multivariate_normal(μ, Σ, J+1)\n",
    "elasticity_draws = np.exp(z_draws)/np.sum(np.exp(z_draws),1).reshape((J+1,1))\n",
    "\n",
    "# Elasticities\n",
    "epsD = elasticity_draws[0,:-1]/np.sum(elasticity_draws[0,:-1])\n",
    "Omega = elasticity_draws[1:,:-1]\n",
    "Psi = np.linalg.inv(np.eye(J)-Omega)\n",
    "epsN = np.diag(elasticity_draws[1:,-1])\n",
    "\n",
    "# Drawing elasticity of matching function wrt to U\n",
    "ν = np.random.uniform(size=J)\n",
    "curlyQ = np.diag(-ν)\n",
    "curlyF =  np.eye(J) + curlyQ"
   ]
  },
  {
   "cell_type": "markdown",
   "metadata": {},
   "source": [
    "Finally, we need recruiter producer ratios $\\tau_j(\\theta_j)$ in each sector. Landais, Michaillat, and Saez (2018) find that the share of recruiters in the US workforce averages around 2.3 percent. I sample recruiter producer ratios uniformly on the interval $[0,0.046]$ to roughly match this fact."
   ]
  },
  {
   "cell_type": "code",
   "execution_count": 3,
   "metadata": {},
   "outputs": [
    {
     "data": {
      "text/plain": [
       "array([[0.01857811, 0.        , 0.        , 0.        ],\n",
       "       [0.        , 0.02767437, 0.        , 0.        ],\n",
       "       [0.        , 0.        , 0.00146646, 0.        ],\n",
       "       [0.        , 0.        , 0.        , 0.04083065]])"
      ]
     },
     "execution_count": 3,
     "metadata": {},
     "output_type": "execute_result"
    }
   ],
   "source": [
    "tau = np.diag(np.random.uniform(low=0,high=0.046,size=J))\n",
    "tau"
   ]
  },
  {
   "cell_type": "markdown",
   "metadata": {},
   "source": [
    "## Defining shocks\n",
    "We are interested in the response of sector level and aggregate output and employment to technology shocks $d\\log\\bm{A}$ and labor force shocks $d\\log \\bm{H}$. The code below defines the shocks we feed into the model."
   ]
  },
  {
   "cell_type": "code",
   "execution_count": 4,
   "metadata": {},
   "outputs": [],
   "source": [
    "# Technology shocks\n",
    "dlog_A = 0.01*np.ones(J)\n",
    "dlog_H = 0.01*np.zeros(J)"
   ]
  },
  {
   "cell_type": "markdown",
   "metadata": {},
   "source": [
    "## Defining how wages adjust\n",
    "Since there are mutual gains from trade once an unemployed worker and a firm meet, wages are not pinned down uniquely in models featuring search and matching frictions in the labor market. We must therefore impose a wage schedule, an assumption about how wages change in response to fundamentals, in order to close the model. \n",
    "\n",
    "In particular, we need to specify the elasticity of wages to technology shocks and labor force shocks in each sector, $\\left\\{\\left\\{\\varepsilon^{w_j}_{A_{ji}},\\varepsilon^{w_j}_{H_{ji}}\\right\\}_{i=1}^{J}\\right\\}_{j=1}^{J}$. For instance, a simple, but unrealistic, assumption is that wages respond positively to own sector productivity and negatively to own sector labor force, but do not respond to changes in other sectors. In general, we express changes in wages as a function of changes in productivity and the labor force. \n",
    "\\begin{align}\n",
    "    d\\log \\bm{w} &= \\bm{\\Lambda_{A}} d\\log \\bm{A} + \\bm{\\Lambda_{H}} d\\log \\bm{H} \\tag{1}\n",
    "\\end{align}\n",
    "Where $\\bm{\\Lambda_{A}}$ contains wage elasticities to productivity changes and $\\bm{\\Lambda_{H}}$ contains wage elasticities to labor force changes."
   ]
  },
  {
   "cell_type": "code",
   "execution_count": 5,
   "metadata": {},
   "outputs": [
    {
     "data": {
      "text/plain": [
       "array([[1.96654215, 0.        , 0.        , 0.        ],\n",
       "       [0.        , 1.45220152, 0.        , 0.        ],\n",
       "       [0.        , 0.        , 1.84644965, 0.        ],\n",
       "       [0.        , 0.        , 0.        , 1.14286024]])"
      ]
     },
     "execution_count": 5,
     "metadata": {},
     "output_type": "execute_result"
    }
   ],
   "source": [
    "# Wage elasticities\n",
    "epsW_A = np.diag(np.random.uniform(low=0,high=2,size=J))\n",
    "epsW_H = np.diag(np.random.uniform(low=-2,high=0,size=J))\n",
    "epsW_A"
   ]
  },
  {
   "cell_type": "code",
   "execution_count": 6,
   "metadata": {},
   "outputs": [],
   "source": [
    "# Calculating the log change in wages\n",
    "def WageFunc(dlog_A, dlog_H, epsW_A, epsW_H):\n",
    "    dlog_w = epsW_A @ dlog_A + epsW_H @ dlog_H\n",
    "    return dlog_w"
   ]
  },
  {
   "cell_type": "code",
   "execution_count": 7,
   "metadata": {},
   "outputs": [
    {
     "data": {
      "text/plain": [
       "array([0.01966542, 0.01452202, 0.0184645 , 0.0114286 ])"
      ]
     },
     "execution_count": 7,
     "metadata": {},
     "output_type": "execute_result"
    }
   ],
   "source": [
    "#How wages change\n",
    "dlog_w = WageFunc(dlog_A, dlog_H, epsW_A, epsW_H)\n",
    "dlog_w"
   ]
  },
  {
   "cell_type": "markdown",
   "metadata": {},
   "source": [
    "## Tightness propagation\n",
    "We with wage changes in hand, we solve for first order changes in tightness in terms of $d\\log\\bm{A}$, $d\\log\\bm{H}$, and $d\\log\\bm{w}$. The general formula for changes in tightness, treating sector 1 prices as the numeraire, is\n",
    "\\begin{align}\n",
    "    d \\log \\bm{\\theta} &=\\left(\\text{diag}\\left(\\bm{\\mathcal{F}}\\right)-\\bm{\\Xi_{\\theta}}\\right)^{-1}\\left(\\left(\\bm{I} - \\bm{\\Psi} \\text{diag}\\left(\\bm{\\varepsilon^f_N}\\right)\\right) \\left(d\\log \\bm{\\varepsilon^f_N} + d\\log \\bm{\\lambda} - d\\log \\bm{H}\\right) + \\bm{\\Xi_{A}} d\\log \\bm{A}\\right) \\nonumber \\\\\n",
    "    &- \\left(\\text{diag}\\left(\\bm{\\mathcal{F}}\\right)-\\bm{\\Xi_{\\theta}}\\right)^{-1} \\left(\\bm{I}-\\bm{\\Xi}_{w}\\right)d\\log \\bm{w} \\tag{2}\n",
    "\\end{align}\n",
    "Where \n",
    "\\begin{align*}\n",
    "    \\bm{\\Xi_{A}} &= \\begin{bmatrix}\n",
    "        \\Psi_1 \\\\\n",
    "        \\bm{0} \\\\\n",
    "        \\vdots \\\\\n",
    "        \\bm{0}\n",
    "    \\end{bmatrix}, \\, \\bm{\\Xi_\\theta} = \\begin{bmatrix}\n",
    "        \\Psi_1 \\text{diag}(\\varepsilon^{f}_{N})\\left(\\text{diag}(\\varepsilon^{\\mathcal{F}}_{\\theta}) + \\text{diag}(\\tau)\\text{diag}(\\varepsilon^{\\mathcal{Q}}_{\\theta})\\right) \\\\\n",
    "        \\Psi_2 \\text{diag}(\\varepsilon^{f}_{N}) \\text{diag}(\\varepsilon^{\\mathcal{F}}_{\\theta}) \\\\\n",
    "        \\vdots \\\\\n",
    "        \\Psi_J \\text{diag}(\\varepsilon^{f}_{N}) \\text{diag}(\\varepsilon^{\\mathcal{F}}_{\\theta})\n",
    "    \\end{bmatrix}, \\bm{\\Xi_{w}} = \\begin{bmatrix}\n",
    "        \\bm{0} \\\\\n",
    "        \\Psi_2 \\text{diag}(\\varepsilon^{f}_{N}) \\\\\n",
    "        \\vdots\\\\\n",
    "        \\Psi_J \\text{diag}(\\varepsilon^{f}_{N})\n",
    "    \\end{bmatrix}\n",
    "\\end{align*}"
   ]
  },
  {
   "cell_type": "code",
   "execution_count": 8,
   "metadata": {},
   "outputs": [],
   "source": [
    "def ThetaFunc(dlog_A, dlog_H, dlog_w, dlog_epsN, dlog_lam, Psi, curlyF, curlyQ, epsN, tau, num=0):\n",
    "    \n",
    "    # Creating matrices\n",
    "    Xi_a = np.zeros_like(Psi)\n",
    "    Xi_a[num,:] = Psi[num,:]\n",
    "\n",
    "    Xi_theta = Psi @ epsN @ curlyF\n",
    "    Xi_theta[num,:] = Xi_theta[num,:] + Psi[num,:] @ epsN @ tau @ curlyQ\n",
    "\n",
    "    Xi_w = Psi @ epsN \n",
    "    Xi_w[num,:] = 0\n",
    "\n",
    "    I = np.eye(Psi.shape[0])\n",
    "\n",
    "    # Contribution of different components\n",
    "    Cw = np.linalg.inv(curlyF - Xi_theta) @ (I - Xi_w)\n",
    "    Ca = np.linalg.inv(curlyF - Xi_theta) @ Xi_a \n",
    "    Ch = np.linalg.inv(curlyF - Xi_theta) @ (I - Psi @ epsN)\n",
    "\n",
    "    # Change in tightness\n",
    "    dlog_theta = Ch @ (dlog_epsN + dlog_lam - dlog_H) + Ca @ dlog_A - Cw @ dlog_w\n",
    "\n",
    "    return dlog_theta"
   ]
  },
  {
   "cell_type": "markdown",
   "metadata": {},
   "source": [
    "Assuming Cobb-Douglas production implies $d\\log\\bm{\\varepsilon^f_N} = d\\log \\bm{\\lambda} = 0$."
   ]
  },
  {
   "cell_type": "code",
   "execution_count": 9,
   "metadata": {},
   "outputs": [
    {
     "data": {
      "text/plain": [
       "array([ 2.92851566,  4.33216931,  2.62834351, 13.31995885])"
      ]
     },
     "execution_count": 9,
     "metadata": {},
     "output_type": "execute_result"
    }
   ],
   "source": [
    "dlog_epsN = np.zeros_like(dlog_A)\n",
    "dlog_lam = np.zeros_like(dlog_A)\n",
    "dlog_theta = ThetaFunc(dlog_A, dlog_H, dlog_w, dlog_epsN, dlog_lam, Psi, curlyF, curlyQ, epsN, tau)\n",
    "dlog_theta"
   ]
  },
  {
   "cell_type": "markdown",
   "metadata": {},
   "source": [
    "## Price and output propagation\n",
    "With changes in tightness in hand, we can now work out how prices and sectoral production changes in response to technology and labor force shocks. Price changes are given by \n",
    "\\begin{align}\n",
    "    d \\log \\bm{p} &=\\bm{\\Psi} \\left(\n",
    "        \\text{diag}\\left(\\bm{\\varepsilon^{f}_{N}}\\right) d\\log\\bm{w} -\\text{diag}\\left(\\bm{\\varepsilon^{f}_{N}}\\right)\\text{diag}\\left(\\bm{\\tau}\\right)\\text{diag}\\left(\\bm{\\varepsilon^{\\mathcal{Q}}_{\\theta}}\\right)d\\log\\bm{\\theta} - d\\log \\bm{A} \\right) \\tag{3}\n",
    "\\end{align}\n",
    "Since we have assumed that sector one is the numerair, we need to check that price changes are consistent with this assumption. Unfortunately, below it looks like they are not, which means we may have to think a bit harder about the pricing equation. "
   ]
  },
  {
   "cell_type": "code",
   "execution_count": 10,
   "metadata": {},
   "outputs": [],
   "source": [
    "def PriceFunc(dlog_A, dlog_w, Psi, curlyQ, epsN, tau):\n",
    "    # Contributions of different components\n",
    "    Cw = Psi @ epsN \n",
    "    Ct = Psi @ epsN @ tau @ curlyQ\n",
    "    Ca = Psi\n",
    "    # Price changes\n",
    "    dlog_p = Cw @ dlog_w - Ct @ dlog_theta - Ca @dlog_A\n",
    "    return dlog_p"
   ]
  },
  {
   "cell_type": "code",
   "execution_count": 11,
   "metadata": {},
   "outputs": [
    {
     "data": {
      "text/plain": [
       "array([-1.28425048e-13, -2.48671686e-03,  4.71561775e-03,  3.72007269e-02])"
      ]
     },
     "execution_count": 11,
     "metadata": {},
     "output_type": "execute_result"
    }
   ],
   "source": [
    "dlog_p = PriceFunc(dlog_A, dlog_w, Psi, curlyQ, epsN, tau)\n",
    "dlog_p"
   ]
  },
  {
   "cell_type": "markdown",
   "metadata": {},
   "source": [
    "And output changes are given by\n",
    "\\begin{align}\n",
    "    d\\log \\bm{y} &= \\bm{\\Psi}\\left(d\\log\\bm{A} + \\text{diag}\\left(\\bm{\\varepsilon^{f}_{N}}\\right)\\left(\\text{diag}\\left(\\bm{\\mathcal{F}}\\right)+\\text{diag}\\left(\\bm{\\tau}\\right)\\text{diag}\\left(\\bm{\\varepsilon^{\\mathcal{Q}}_{\\theta}}\\right)\\right)d\\log \\bm{\\theta} + \\text{diag}\\left(\\bm{\\varepsilon^{f}_{N}}\\right) d\\log\\bm{H}\\right) \\nonumber\\\\\n",
    "    &-\\bm{\\Psi} \\text{diag}\\left(\\bm{\\varepsilon^{f}_{N}}\\right) d\\log \\bm{\\varepsilon^{f}_{N}} + \\left(\\bm{I} - \\bm{\\Psi}\\text{diag}\\left(\\bm{\\varepsilon^{f}_{N}}\\right)\\right) d\\log \\bm{\\lambda} \\tag{4}\n",
    "\\end{align}\n"
   ]
  },
  {
   "cell_type": "code",
   "execution_count": 12,
   "metadata": {},
   "outputs": [],
   "source": [
    "def OutputFunc(dlog_A, dlog_H, dlog_theta, dlog_epsN, dlog_lam, Psi, curlyQ, curlyF, epsN, tau):\n",
    "    # Contributions of different coponents\n",
    "    Ca = Psi\n",
    "    Ct = Psi @ epsN @ (curlyF + tau @ curlyQ) \n",
    "    Ch = Psi @ epsN \n",
    "    I = np.eye(Psi.shape[0])\n",
    "\n",
    "    # Changes in output\n",
    "    dlog_y = Ca @ dlog_A + Ct @ dlog_theta + Ch @ (dlog_H-dlog_epsN) + (I - Ch) @ dlog_lam \n",
    "\n",
    "    return dlog_y"
   ]
  },
  {
   "cell_type": "code",
   "execution_count": 13,
   "metadata": {},
   "outputs": [
    {
     "data": {
      "text/plain": [
       "array([2.45693237, 2.45941908, 2.45221675, 2.41973164])"
      ]
     },
     "execution_count": 13,
     "metadata": {},
     "output_type": "execute_result"
    }
   ],
   "source": [
    "dlog_y = OutputFunc(dlog_A, dlog_H, dlog_theta, dlog_epsN, dlog_lam, Psi, curlyQ, curlyF, epsN, tau)\n",
    "dlog_y"
   ]
  },
  {
   "cell_type": "code",
   "execution_count": 14,
   "metadata": {},
   "outputs": [
    {
     "data": {
      "text/plain": [
       "array([2.45693237, 2.45693237, 2.45693237, 2.45693237])"
      ]
     },
     "execution_count": 14,
     "metadata": {},
     "output_type": "execute_result"
    }
   ],
   "source": [
    "# Change in nominal GDP\n",
    "dlog_p + dlog_y"
   ]
  },
  {
   "cell_type": "markdown",
   "metadata": {},
   "source": [
    "We can now check consistency. We should get the same change in labor by either calculating the change in labor supply\n",
    "\\begin{align}\n",
    "    d\\log \\bm{L^s} = \\text{diag}\\left(\\mathcal{F}\\right) d\\log \\bm{\\theta} + d\\log \\bm{H} \\tag{5}\n",
    "\\end{align}\n",
    "Or the change in labor demand\n",
    "\\begin{align}\n",
    "    d\\log \\bm{L^d} = d\\log \\bm{\\varepsilon^{f}_N} + d\\log \\bm{p} + d\\log\\bm{y} - d\\log\\bm{w} \\tag{6}\n",
    "\\end{align}"
   ]
  },
  {
   "cell_type": "code",
   "execution_count": 15,
   "metadata": {},
   "outputs": [],
   "source": [
    "def LaborSupply(dlog_H,dlog_theta,curlyF):\n",
    "    dlog_Ls = curlyF @ dlog_theta + dlog_H\n",
    "    return dlog_Ls\n",
    "    \n",
    "def LaborDemand(dlog_w, dlog_p, dlog_y, dlog_epsN):\n",
    "    dlog_Ld = dlog_epsN + dlog_p + dlog_y - dlog_w\n",
    "    return dlog_Ld"
   ]
  },
  {
   "cell_type": "markdown",
   "metadata": {},
   "source": [
    "Consistency requires\n",
    "\\begin{align*}\n",
    "    d\\log \\bm{L^d} - d\\log\\bm{L^s} = 0\n",
    "\\end{align*}"
   ]
  },
  {
   "cell_type": "code",
   "execution_count": 16,
   "metadata": {},
   "outputs": [
    {
     "data": {
      "text/plain": [
       "array([-1.28341782e-13,  0.00000000e+00,  4.44089210e-16, -4.44089210e-16])"
      ]
     },
     "execution_count": 16,
     "metadata": {},
     "output_type": "execute_result"
    }
   ],
   "source": [
    "LaborDemand(dlog_w, dlog_p, dlog_y, dlog_epsN) - LaborSupply(dlog_H,dlog_theta,curlyF)"
   ]
  },
  {
   "cell_type": "markdown",
   "metadata": {},
   "source": [
    "## Unemployment\n",
    "We can use changes in tightness and the labor force to calculate changes in employment. \n",
    "\\begin{align}\n",
    "    d\\log \\bm{L} = \\text{diag}\\left(\\mathcal{F}\\right) d\\log \\bm{\\theta} + d\\log \\bm{H} \\tag{5}\n",
    "\\end{align}"
   ]
  },
  {
   "cell_type": "code",
   "execution_count": 17,
   "metadata": {},
   "outputs": [
    {
     "data": {
      "text/plain": [
       "array([2.43726695, 2.44241035, 2.43846787, 2.44550376])"
      ]
     },
     "execution_count": 17,
     "metadata": {},
     "output_type": "execute_result"
    }
   ],
   "source": [
    "dlog_L = LaborSupply(dlog_H,dlog_theta,curlyF)\n",
    "dlog_L"
   ]
  },
  {
   "cell_type": "markdown",
   "metadata": {},
   "source": [
    "Unemployment in sector $j$ is $U_j = H_j - L_j$. The unemployment rate in sector $j$ is $u_j = \\frac{H_j-L_j}{H_j}$.\n"
   ]
  },
  {
   "cell_type": "code",
   "execution_count": null,
   "metadata": {},
   "outputs": [],
   "source": []
  },
  {
   "cell_type": "markdown",
   "metadata": {},
   "source": [
    "## Aggregation"
   ]
  },
  {
   "cell_type": "code",
   "execution_count": null,
   "metadata": {},
   "outputs": [],
   "source": []
  }
 ],
 "metadata": {
  "kernelspec": {
   "display_name": "Python 3 (ipykernel)",
   "language": "python",
   "name": "python3"
  },
  "language_info": {
   "codemirror_mode": {
    "name": "ipython",
    "version": 3
   },
   "file_extension": ".py",
   "mimetype": "text/x-python",
   "name": "python",
   "nbconvert_exporter": "python",
   "pygments_lexer": "ipython3",
   "version": "3.9.7"
  },
  "vscode": {
   "interpreter": {
    "hash": "fbfaa7553469519299698c7576cfa5da0b434ea4638d3b56a3f047f0de3b7cd5"
   }
  }
 },
 "nbformat": 4,
 "nbformat_minor": 4
}
