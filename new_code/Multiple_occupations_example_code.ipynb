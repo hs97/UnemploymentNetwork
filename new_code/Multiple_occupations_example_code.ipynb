{
 "cells": [
  {
   "cell_type": "code",
   "execution_count": 1,
   "metadata": {},
   "outputs": [],
   "source": [
    "import numpy as np"
   ]
  },
  {
   "attachments": {},
   "cell_type": "markdown",
   "metadata": {},
   "source": [
    "$\\newcommand{\\diag}[1]{\\text{diag}\\left(#1\\right)}$\n",
    "\n",
    "# An extension to multiple occupations\n",
    "\n",
    "Suppose that instead of separate sector level labor markets there are $\\mathcal{O}$ occupations. Firms in each sector can use any occupation $o$ type labor in production. Our standard framework is the special case where there is exactly one occupation per sector and firms use only their own sector occupation as an input into production. \n",
    "\n",
    "## Simulating needed data\n",
    "\n",
    "For now, I assume production functions are Cobb-Douglass, households have Cobb-Douglas preferences over final consumption goods, and the matching function is Cobb-Douglas. In principle, we don't need to be so restrictive about the functional forms of production and matching. Instead all of the relevant information about production technologies is captured by the levels and changes of the elasticities outline below. Any two production functions with the same elasticities and changes in elasticities would generate the same responses to shocks.\n",
    "\n",
    "For each sector $i$, we need the elasticity of production of good $j$ with respect to the intermediate input from each other sector $j$, $\\varepsilon^{f_i}_{x_{ij}}$, and the elasticity of production with respect to occupation $o$ labor input $N_{io}$, $\\varepsilon^{f_i}_{N_{io}}$. I sample elasticites of production on the unit simplex using an exponential transformation of the normal distribution. To start, for each industry, draw\n",
    "\\begin{align*}\n",
    "    \\left(z_{i1}, \\cdots,z_{iJ},z_{N_{i1}}, \\cdots, z_{N_{i\\mathcal{O}}}\\right) \\sim N\\left(\\mu,\\Sigma\\right)\n",
    "\\end{align*}\n",
    "Then define\n",
    "\\begin{align*}\n",
    "    \\varepsilon^{f_i}_{x_{i1}} = \\frac{e^{z_{i1}}}{\\sum_{o=1}^{\\mathcal{O}}e^{z_{N_{io}}}+\\sum_{j=1}^{J}e^{z_{ij}}}\n",
    "\\end{align*}\n",
    "And equivalently for all other sectors. We also need the elasticities of demand with respect to sector $i$'s output, $\\varepsilon^{\\mathcal{D}}_{c_i}$. Notice that we can treat the final demand as another production sector that uses no labor input. We can sample the demand elasticities using the same procedure outlined above.\n",
    "\n",
    "Finally, I sample the matching elasticity with respect to vacancies from a uniform distribution on $[0,1]$. \n",
    "\n",
    "We let $\\Omega$ be the matrix of input elasticities for each sector and $\\Psi = (\\bm{I}-\\bm{\\Omega})^{-1}$ be the Leontif inverse."
   ]
  },
  {
   "cell_type": "code",
   "execution_count": 2,
   "metadata": {},
   "outputs": [
    {
     "data": {
      "text/plain": [
       "array([1., 1., 1., 1.])"
      ]
     },
     "execution_count": 2,
     "metadata": {},
     "output_type": "execute_result"
    }
   ],
   "source": [
    "# Size of network\n",
    "J = 4 # number of sectors\n",
    "O = 2 # number of occupations\n",
    "\n",
    "# Sampling input-output matrix entries \n",
    "μ = np.zeros(J+O)\n",
    "Σ = np.eye(J+O)\n",
    "z_draws = np.random.multivariate_normal(μ, Σ, J+1)\n",
    "elasticity_draws = np.exp(z_draws)/np.sum(np.exp(z_draws),1).reshape((J+1,1))\n",
    "\n",
    "# Elasticities\n",
    "epsD = elasticity_draws[0,:-O]/np.sum(elasticity_draws[0,:-O])\n",
    "epsD = epsD.reshape(J,1)\n",
    "Omega = elasticity_draws[1:,:-O]\n",
    "Psi = np.linalg.inv(np.eye(J)-Omega)\n",
    "epsN = elasticity_draws[1:,J:]\n",
    "\n",
    "# Drawing elasticity of matching function wrt to U\n",
    "ν = np.random.uniform(size=O)\n",
    "epsQ =  -ν.reshape((O,1))\n",
    "epsF = np.ones((O,1)) + epsQ\n",
    "epsQ = epsQ.reshape((O,1))\n",
    "epsF = epsF.reshape((O,1))\n",
    "curlyQ = np.diag(epsQ.flatten())\n",
    "curlyF =  np.diag(epsF.flatten())\n",
    "\n",
    "np.sum(Omega,1) + np.sum(epsN,1) # checking constant returns holds"
   ]
  },
  {
   "attachments": {},
   "cell_type": "markdown",
   "metadata": {},
   "source": [
    "We need recruiter producer ratios $\\tau_o(\\theta_o)$ in each occupational labor market. Landais, Michaillat, and Saez (2018) find that the share of recruiters in the US workforce averages around 2.3 percent. I sample recruiter producer ratios uniformly on the interval $[0,0.046]$ to roughly match this fact."
   ]
  },
  {
   "cell_type": "code",
   "execution_count": 3,
   "metadata": {},
   "outputs": [
    {
     "data": {
      "text/plain": [
       "array([[0.01588763, 0.        ],\n",
       "       [0.        , 0.02885142]])"
      ]
     },
     "execution_count": 3,
     "metadata": {},
     "output_type": "execute_result"
    }
   ],
   "source": [
    "tau = np.random.uniform(low=0,high=0.046,size=(O,1))\n",
    "curlyT = np.diag(tau.flatten())\n",
    "curlyT"
   ]
  },
  {
   "attachments": {},
   "cell_type": "markdown",
   "metadata": {},
   "source": [
    "Finally, in addition to the data we need assuming one occupation per sector, we need data on employment by sector-occupation pair at the initial equilibrium. For each $i$ and $o$ we need\n",
    "\\begin{align*}\n",
    "    l_{io} = \\frac{\\varepsilon^{f_i}_{N_{io}}p_i y_i}{w_o}\n",
    "\\end{align*}\n",
    "For the purposes of this simple example, we assume that all prices, wages, and quantities are the same and normalized to $1$. This implies that $l_{io} = \\varepsilon^{f_i}_{N_{io}}$. "
   ]
  },
  {
   "cell_type": "code",
   "execution_count": 4,
   "metadata": {},
   "outputs": [],
   "source": [
    "# labor usage at initial equilibrium\n",
    "l = epsN\n",
    "curlyL = l.T/np.sum(l.T,1).reshape((O,1)) "
   ]
  },
  {
   "cell_type": "markdown",
   "metadata": {},
   "source": [
    "## Defining shocks\n",
    "We are interested in the response of sector level and aggregate output and employment to technology shocks $d\\log\\bm{A}$ and labor force shocks $d\\log \\bm{H}$. The code below defines the shocks we feed into the model."
   ]
  },
  {
   "cell_type": "code",
   "execution_count": 5,
   "metadata": {},
   "outputs": [],
   "source": [
    "# Technology shocks\n",
    "dlog_A = 0.01*np.ones((J,1))\n",
    "dlog_H = 0.01*np.zeros((O,1))"
   ]
  },
  {
   "attachments": {},
   "cell_type": "markdown",
   "metadata": {},
   "source": [
    "## Defining how wages adjust\n",
    "Since there are mutual gains from trade once an unemployed worker and a firm meet, wages are not pinned down uniquely in models featuring search and matching frictions in the labor market. We must therefore impose a wage schedule, an assumption about how wages change in response to fundamentals, in order to close the model. \n",
    "\n",
    "Let $w_o$ be the nominal occupation $o$ wage. It turns out to be convenient to write everything in terms of wages net of occupation share weighted sectoral prices $d\\log \\bm{w} - \\bm{\\mathcal{L}} d\\log \\bm{p}$, where \n",
    "\\begin{align*}\n",
    "    \\bm{\\mathcal{L}} = \\begin{bmatrix}\n",
    "        \\frac{l_{11}}{L^d_1} & \\frac{l_{21}}{L^d_{1}} & \\cdots & \\frac{l_{J1}}{L^d_{1}} \\\\\n",
    "        \\frac{l_{12}}{L^d_2} & \\frac{l_{22}}{L^d_2} & \\cdots  & \\frac{l_{J2}}{L^d_2} \\\\\n",
    "         \\vdots & \\vdots & \\ddots & \\vdots \\\\\n",
    "        \\frac{l_{1\\mathcal{O}}}{L^d_{\\mathcal{O}}} & \\frac{l_{2\\mathcal{O}}}{L^d_{\\mathcal{O}}} & \\cdots & \\frac{l_{J\\mathcal{O}}}{L^d_{\\mathcal{O}}}\n",
    "    \\end{bmatrix}\n",
    "\\end{align*}\n",
    "\n",
    "We need to specify the elasticity of adjusted wages to technology shocks and labor force shocks in each sector, $\\left\\{\\left\\{\\varepsilon^{w_o}_{A_{oi}}\\right\\}_{i=1}^{J},\\left\\{\\varepsilon^{w_o}_{H_{ok}}\\right\\}_{k=1}^{\\mathcal{O}}\\right\\}_{o=1}^{\\mathcal{O}}$. For instance, a simple assumption is that the response of wages to productivity shocks is proportional to $\\varepsilon^{f_i}_{N_{io}}$ and how adjusted wages respond to labor force changes is proportional to $\\varepsilon^{Q_o}_{\\theta_o}$. In general, we express changes in wages as a function of changes in productivity and the labor force. \n",
    "\\begin{align}\n",
    "    d\\log \\bm{w} - \\bm{\\mathcal{L}}d\\log\\bm{p}&= \\bm{\\Lambda_{A}} d\\log \\bm{A} + \\bm{\\Lambda_{H}} d\\log \\bm{H} \\tag{1}\n",
    "\\end{align}\n",
    "Where $\\bm{\\Lambda_{A}}$ contains wage elasticities to productivity changes and $\\bm{\\Lambda_{H}}$ contains wage elasticities to labor force changes. We consider the class of wage schedules such that \n",
    "\\begin{align*}\n",
    "    d\\log\\bm{w} - \\bm{\\mathcal{L}} d\\log\\bm{p} &= \\gamma_A\\bm{\\mathcal{L}} \\bm{\\Psi} d\\log A + \\gamma_H \\left[\\bm{\\mathcal{L}}\\bm{\\Psi}\\bm{\\varepsilon^f_N}-\\bm{I}\\right] d\\log\\bm{H}\n",
    "\\end{align*}\n",
    "Hulten's theorem holds as special case of this assumption where production and preferences are Cobb-Douglas, $\\gamma_A = 1$, and $d\\log\\bm{H} = 0$. Therefore, this assumption allows us to explore the quantitative implications of deviations from the Hulten knife edge case by varying $\\gamma_A$ and $\\gamma_H$. Clearly, even allowing for general $\\gamma_A$ and $\\gamma_H$, this is a very restrictive assumption about how wages change. We view it as a convenient expositional tool.  "
   ]
  },
  {
   "cell_type": "code",
   "execution_count": 40,
   "metadata": {},
   "outputs": [],
   "source": [
    "def WageElasticityFunc(gamma_A, gamma_H, Psi, curlyL, epsN):\n",
    "    epsW_A = gamma_A * curlyL @ Psi\n",
    "    epsW_H = gamma_H * (curlyL @ Psi @ epsN - np.eye(curlyL.shape[0]))\n",
    "    return epsW_A, epsW_H"
   ]
  },
  {
   "cell_type": "code",
   "execution_count": 45,
   "metadata": {},
   "outputs": [
    {
     "data": {
      "text/plain": [
       "array([[0., 0., 0., 0.],\n",
       "       [0., 0., 0., 0.]])"
      ]
     },
     "execution_count": 45,
     "metadata": {},
     "output_type": "execute_result"
    }
   ],
   "source": [
    "# Wage elasticities\n",
    "epsW_A, epsW_H = WageElasticityFunc(1, 1, Psi, curlyL, epsN)\n",
    "epsW_A"
   ]
  },
  {
   "cell_type": "code",
   "execution_count": 7,
   "metadata": {},
   "outputs": [],
   "source": [
    "# Calculating the log change in wages\n",
    "def WageFunc(dlog_A, dlog_H, epsW_A, epsW_H):\n",
    "    dlog_wR = epsW_A @ dlog_A + epsW_H @ dlog_H\n",
    "    return dlog_wR"
   ]
  },
  {
   "cell_type": "code",
   "execution_count": 8,
   "metadata": {},
   "outputs": [
    {
     "data": {
      "text/plain": [
       "array([[0.04989758],\n",
       "       [0.03758793]])"
      ]
     },
     "execution_count": 8,
     "metadata": {},
     "output_type": "execute_result"
    }
   ],
   "source": [
    "#How wages change\n",
    "dlog_wR = WageFunc(dlog_A, dlog_H, epsW_A, epsW_H)\n",
    "dlog_wR"
   ]
  },
  {
   "attachments": {},
   "cell_type": "markdown",
   "metadata": {},
   "source": [
    "\n",
    "## Tightness propagation\n",
    "We with wage changes in hand, we solve for first order changes in tightness in terms of $d\\log\\bm{A}$, $d\\log\\bm{H}$, and $d\\log\\bm{w}$. The general formula for changes in tightness is\n",
    "\\begin{align}\n",
    "    d\\log\\bm{\\theta} &= \\left[\\bm{\\mathcal{F}}-\\bm{\\Xi_{\\theta}}\\right]^{-1}\\left[\\bm{\\mathcal{L}}\\bm{\\Psi}d\\log\\bm{A} - \\left[d\\log\\bm{w}-\\bm{\\mathcal{L}} d\\log\\bm{p}\\right] + \\left[\\bm{\\mathcal{L}\\Psi \\varepsilon^{f}_{N}}-\\bm{I}\\right]d\\log\\bm{H}\\right] \\nonumber\\\\\n",
    "    &+ \\left[\\bm{\\mathcal{F}}-\\bm{\\Xi_{\\theta}}\\right]^{-1} \\left[\\diag{\\bm{\\mathcal{L}}d\\log\\bm{\\varepsilon^f_N}} +\\bm{\\mathcal{L}}\\bm{\\Psi}\\left[\\left(\\diag{\\bm{\\Omega}\\bm{1}} - \\bm{\\Omega}\\right)d\\log \\bm{\\lambda}-d\\log \\bm{\\mathcal{E}} \\right] \\right] \\tag{2}\n",
    "\\end{align}\n",
    "Where $\\bm{\\Xi_{\\theta}} = \\bm{\\mathcal{L}}\\bm{\\Psi}\\bm{\\varepsilon^{f}_N}\\left[\\bm{\\mathcal{F}}+\\bm{\\mathcal{Q\\Tau}}\\right]$ and $d\\log\\bm{\\mathcal{E}} = \\diag{\\bm{\\varepsilon^f_N}d\\log{\\bm{\\varepsilon^f_N}}'}$. Notice, all terms in the second line are zero assuming Cobb-Douglas production technology. "
   ]
  },
  {
   "cell_type": "code",
   "execution_count": 9,
   "metadata": {},
   "outputs": [],
   "source": [
    "def curlyEFunc(dlog_epsN,epsN):\n",
    "    J = epsN.shape[0]\n",
    "    curlyE = np.diag(epsN @ dlog_epsN.T).reshape(J,1)\n",
    "    return curlyE"
   ]
  },
  {
   "cell_type": "code",
   "execution_count": 10,
   "metadata": {},
   "outputs": [],
   "source": [
    "def ThetaFunc(dlog_A, dlog_H, dlog_wR, dlog_epsN, dlog_lam, Psi, Omega, curlyF, curlyQ, curlyT, curlyE, curlyL, epsN):\n",
    "    O = dlog_H.shape[0]\n",
    "    \n",
    "    # Creating matrices\n",
    "\n",
    "    Xi = curlyL @ Psi @ epsN @ (curlyF + curlyQ @ curlyT)\n",
    "    inv_mat = np.linalg.inv(curlyF - Xi)\n",
    "    I = np.eye(O)\n",
    "    \n",
    "    # Contribution of different components\n",
    "    Cw = -inv_mat \n",
    "    Ca = inv_mat @ curlyL @ Psi\n",
    "    Ch = inv_mat @ (curlyL @ Psi @ epsN - I)\n",
    "    Ce = -inv_mat @ curlyL @ Psi\n",
    "    Cλ = inv_mat @ curlyL @ Psi @ (np.diag(np.sum(Omega,1)) - Omega)\n",
    "\n",
    "    # Change in tightness\n",
    "    dlog_theta = Cw @ dlog_wR + Ch @ dlog_H + inv_mat @ np.diag(curlyL @ dlog_epsN).reshape((O,1)) + Cλ @ dlog_lam + Ce @ curlyE + Ca @ dlog_A\n",
    "    \n",
    "    return dlog_theta"
   ]
  },
  {
   "cell_type": "markdown",
   "metadata": {},
   "source": [
    "Assuming Cobb-Douglas production implies $d\\log\\bm{\\varepsilon^f_N} = d\\log \\bm{\\lambda} = 0$."
   ]
  },
  {
   "cell_type": "code",
   "execution_count": 11,
   "metadata": {},
   "outputs": [
    {
     "data": {
      "text/plain": [
       "array([[0.],\n",
       "       [0.],\n",
       "       [0.],\n",
       "       [0.]])"
      ]
     },
     "execution_count": 11,
     "metadata": {},
     "output_type": "execute_result"
    }
   ],
   "source": [
    "dlog_epsN = np.zeros((J,O))\n",
    "curlyE = curlyEFunc(dlog_epsN,epsN)\n",
    "curlyE"
   ]
  },
  {
   "cell_type": "code",
   "execution_count": 12,
   "metadata": {},
   "outputs": [
    {
     "data": {
      "text/plain": [
       "array([[-0.04012872],\n",
       "       [-0.16726611]])"
      ]
     },
     "execution_count": 12,
     "metadata": {},
     "output_type": "execute_result"
    }
   ],
   "source": [
    "dlog_lam = np.zeros_like(dlog_A)\n",
    "dlog_theta = ThetaFunc(dlog_A, dlog_H, dlog_wR, dlog_epsN, dlog_lam, Psi, Omega, curlyF, curlyQ, curlyT, curlyE, curlyL, epsN)\n",
    "dlog_theta "
   ]
  },
  {
   "attachments": {},
   "cell_type": "markdown",
   "metadata": {},
   "source": [
    "## Price and output propagation\n",
    "With changes in tightness in hand, we can now work out how prices and sectoral production changes in response to technology and labor force shocks. Price changes are given by \n",
    "\\begin{align}\n",
    "           \\left(\\bm{I} - \\bm{\\Psi \\varepsilon^{f}_N\\mathcal{L}}\\right)d\\log\\bm{p} &= \\bm{\\Psi}\\left[\\bm{\\varepsilon^{f}_{N}}\\left[d\\log\\bm{w}-\\bm{\\mathcal{L}}d\\log\\bm{p}-\\bm{\\mathcal{Q}\\mathcal{\\Tau}}d\\log\\bm{\\theta}\\right]-d\\log\\bm{A}\\right] \\tag{3}\n",
    "\\end{align}\n",
    "In general, in order to identify price changes, we will need to select a numeraire since the matrix $\\left(\\bm{I} - \\bm{\\Psi \\varepsilon^{f}_N\\mathcal{L}}\\right)$ is not invertible. "
   ]
  },
  {
   "cell_type": "code",
   "execution_count": 14,
   "metadata": {},
   "outputs": [],
   "source": [
    "def PriceFunc(dlog_A, dlog_wR, dlog_theta, Psi, curlyQ, epsN, curlyT, curlyL, num = 0):\n",
    "    # Contributions of different components\n",
    "    Cw = Psi @ epsN\n",
    "    Ctheta = -Cw @ curlyQ @ curlyT\n",
    "    Ca = -Psi\n",
    "    # Imposing numeraire\n",
    "    Cw[num, :] = 0\n",
    "    Ctheta[num, :] = 0\n",
    "    Ca[num, :] = 0\n",
    "    # Inverse matrix\n",
    "    Xi = np.eye(Psi.shape[0]) - Psi @ epsN @ curlyL\n",
    "    Xi[num, :] = 0\n",
    "    Xi[num, num] = 1\n",
    "    inv_mat = np.linalg.inv(Xi)\n",
    "\n",
    "    # Price changes\n",
    "    dlog_p = inv_mat @ (Cw @ dlog_wR + Ctheta @ dlog_theta + Ca @ dlog_A)\n",
    "    return dlog_p\n"
   ]
  },
  {
   "cell_type": "code",
   "execution_count": 18,
   "metadata": {},
   "outputs": [
    {
     "data": {
      "text/plain": [
       "array([[ 0.        ],\n",
       "       [ 0.00310563],\n",
       "       [ 0.00442684],\n",
       "       [-0.00622718]])"
      ]
     },
     "execution_count": 18,
     "metadata": {},
     "output_type": "execute_result"
    }
   ],
   "source": [
    "dlog_p = PriceFunc(dlog_A, dlog_wR, dlog_theta, Psi, curlyQ, epsN, curlyT, curlyL, num=0)\n",
    "dlog_p"
   ]
  },
  {
   "attachments": {},
   "cell_type": "markdown",
   "metadata": {},
   "source": [
    "And output changes are given by\n",
    "\\begin{align}\n",
    "       d\\log \\bm{y} &= \\bm{\\Psi}\\left(d\\log\\bm{A} + \\bm{\\varepsilon^{f}_{N}}\\left(\\bm{\\mathcal{F}}+\\bm{\\mathcal{Q}} \\bm{\\mathcal{\\Tau}}\\right)d\\log \\bm{\\theta} + \\bm{\\varepsilon^{f}_{N}} d\\log\\bm{H}\\right)\\nonumber \\\\\n",
    "    &-\\bm{\\Psi}d\\log \\bm{\\mathcal{E}} + \\bm{\\Psi}\\left(\\diag{\\bm{\\Omega}\\bm{1}} - \\bm{\\Omega}\\right)d\\log \\bm{\\lambda} \\tag{4}\n",
    "\\end{align}\n"
   ]
  },
  {
   "cell_type": "code",
   "execution_count": 19,
   "metadata": {},
   "outputs": [],
   "source": [
    "def OutputFunc(dlog_A, dlog_H, dlog_theta, dlog_lam, Psi, Omega, curlyQ, curlyF, epsN, curlyT, curlyE):\n",
    "    # Contributions of different coponents\n",
    "    Ca = Psi\n",
    "    Ch = Psi @ epsN\n",
    "    Ctheta = Ch @ (curlyF + curlyQ @ curlyT)\n",
    "    Ce = -Psi\n",
    "    Cλ = Psi @ (np.diag(np.sum(Omega,1)) - Omega)\n",
    "    \n",
    "    # Output changes\n",
    "    dlog_y = Ca @ dlog_A + Ctheta @ dlog_theta + Ch @ dlog_H + Ce @ curlyE + Cλ @ dlog_lam\n",
    "\n",
    "    return dlog_y"
   ]
  },
  {
   "cell_type": "code",
   "execution_count": 20,
   "metadata": {},
   "outputs": [
    {
     "data": {
      "text/plain": [
       "array([[0.01332981],\n",
       "       [0.01022418],\n",
       "       [0.00890297],\n",
       "       [0.01955699]])"
      ]
     },
     "execution_count": 20,
     "metadata": {},
     "output_type": "execute_result"
    }
   ],
   "source": [
    "dlog_y = OutputFunc(dlog_A, dlog_H, dlog_theta, dlog_lam, Psi, Omega, curlyQ, curlyF, epsN, curlyT, curlyE)\n",
    "dlog_y"
   ]
  },
  {
   "cell_type": "markdown",
   "metadata": {},
   "source": [
    "With Cobb-Douglas production, real output should change by the same amount in each sector. This provides an overall check of our code given the Cobb-Douglas assumption."
   ]
  },
  {
   "cell_type": "code",
   "execution_count": 21,
   "metadata": {},
   "outputs": [
    {
     "data": {
      "text/plain": [
       "array([[0.01332981],\n",
       "       [0.01332981],\n",
       "       [0.01332981],\n",
       "       [0.01332981]])"
      ]
     },
     "execution_count": 21,
     "metadata": {},
     "output_type": "execute_result"
    }
   ],
   "source": [
    "# Change in nominal GDP\n",
    "dlog_p + dlog_y"
   ]
  },
  {
   "attachments": {},
   "cell_type": "markdown",
   "metadata": {},
   "source": [
    "We can now check consistency. We should get the same change in labor by either calculating the change in labor supply\n",
    "\\begin{align}\n",
    "    d\\log \\bm{L^s} = \\text{diag}\\left(\\mathcal{F}\\right) d\\log \\bm{\\theta} + d\\log \\bm{H} \\tag{5}\n",
    "\\end{align}\n",
    "Or the change in labor demand\n",
    "\\begin{align}\n",
    "d\\log \\bm{L^d} = \\bm{\\mathcal{L}} d\\log\\bm{y} + \\diag{\\bm{\\mathcal{L}}d\\log \\bm{\\varepsilon^f_N}} - \\left[d\\log\\bm{w} -\\bm{\\mathcal{L}} d\\log\\bm{p}\\right] \\tag{6}\n",
    "\\end{align}"
   ]
  },
  {
   "cell_type": "code",
   "execution_count": 25,
   "metadata": {},
   "outputs": [],
   "source": [
    "def LaborSupply(dlog_H,dlog_theta,curlyF):\n",
    "    dlog_Ls = curlyF @ dlog_theta + dlog_H\n",
    "    return dlog_Ls\n",
    "\n",
    "def LaborDemand(dlog_wR, dlog_y, dlog_p, dlog_epsN, curlyL):\n",
    "    O = dlog_wR.shape[0]\n",
    "    dlog_Ld = curlyL @ dlog_y + np.diag(curlyL @ dlog_epsN).reshape((O,1)) - dlog_wR\n",
    "    return dlog_Ld"
   ]
  },
  {
   "cell_type": "markdown",
   "metadata": {},
   "source": [
    "Consistency requires\n",
    "\\begin{align*}\n",
    "    d\\log \\bm{L^d} - d\\log\\bm{L^s} = 0\n",
    "\\end{align*}"
   ]
  },
  {
   "cell_type": "code",
   "execution_count": 26,
   "metadata": {},
   "outputs": [
    {
     "data": {
      "text/plain": [
       "array([[-6.9388939e-18],\n",
       "       [ 6.9388939e-18]])"
      ]
     },
     "execution_count": 26,
     "metadata": {},
     "output_type": "execute_result"
    }
   ],
   "source": [
    "LaborDemand(dlog_wR, dlog_y, dlog_p, dlog_epsN, curlyL) - LaborSupply(dlog_H,dlog_theta,curlyF)"
   ]
  },
  {
   "attachments": {},
   "cell_type": "markdown",
   "metadata": {},
   "source": [
    "The aggregate response of output to technology and labor supply shocks is given by \n",
    "\\begin{align}\n",
    "   d\\log Y = \\bm{\\varepsilon^{\\mathcal{D}}_{c}}' \\left[ d\\log \\bm{\\varepsilon^{\\mathcal{D}}_{c}}+d\\log\\bm{y}-d\\log\\bm{\\lambda}\\right] \\tag{7}\n",
    "\\end{align}"
   ]
  },
  {
   "cell_type": "code",
   "execution_count": 79,
   "metadata": {},
   "outputs": [],
   "source": [
    "def AggOutputFunc(dlog_y, dlog_lam, dlog_epsD, epsD):\n",
    "    dlog_aggY = epsD.T @ (dlog_epsD + dlog_y - dlog_lam)\n",
    "    return dlog_aggY"
   ]
  },
  {
   "attachments": {},
   "cell_type": "markdown",
   "metadata": {},
   "source": [
    "Assuming Cobb-Douglas, $d\\log\\bm{\\varepsilon^{\\mathcal{D}}_{c}}=0$. "
   ]
  },
  {
   "cell_type": "code",
   "execution_count": 81,
   "metadata": {},
   "outputs": [
    {
     "data": {
      "text/plain": [
       "array([[4.13797772]])"
      ]
     },
     "execution_count": 81,
     "metadata": {},
     "output_type": "execute_result"
    }
   ],
   "source": [
    "dlog_epsD = np.zeros_like(dlog_y)\n",
    "dlog_aggY = AggOutputFunc(dlog_y, dlog_lam, dlog_epsD, epsD)\n",
    "dlog_aggY"
   ]
  },
  {
   "attachments": {},
   "cell_type": "markdown",
   "metadata": {},
   "source": [
    "## Special case with one occupation per sector\n",
    "Basic setup."
   ]
  },
  {
   "cell_type": "code",
   "execution_count": 75,
   "metadata": {},
   "outputs": [
    {
     "data": {
      "text/plain": [
       "array([1., 1., 1., 1.])"
      ]
     },
     "execution_count": 75,
     "metadata": {},
     "output_type": "execute_result"
    }
   ],
   "source": [
    "# Size of network\n",
    "J = 4 # number of sectors\n",
    "O = J # number of occupations\n",
    "\n",
    "# Sampling input-output matrix entries \n",
    "μ = np.zeros(J+O)\n",
    "Σ = np.eye(J+O)\n",
    "z_draws = np.random.multivariate_normal(μ, Σ, J+1)\n",
    "elasticity_draws = np.exp(z_draws)/np.sum(np.exp(z_draws),1).reshape((J+1,1))\n",
    "\n",
    "# Elasticities\n",
    "epsD = elasticity_draws[0,:-O]/np.sum(elasticity_draws[0,:-O])\n",
    "epsD = epsD.reshape(J,1)\n",
    "Omega = elasticity_draws[1:,:-O]\n",
    "Psi = np.linalg.inv(np.eye(J)-Omega)\n",
    "epsN = np.diag(np.sum(elasticity_draws[1:,J:],1))\n",
    "l = epsN\n",
    "\n",
    "# Drawing elasticity of matching function wrt to U\n",
    "ν = np.random.uniform(size=O)\n",
    "epsQ =  -ν.reshape((O,1))\n",
    "epsF = np.ones((O,1)) + epsQ\n",
    "epsQ = epsQ.reshape((O,1))\n",
    "epsF = epsF.reshape((O,1))\n",
    "curlyQ = np.diag(epsQ.flatten())\n",
    "curlyF =  np.diag(epsF.flatten())\n",
    "\n",
    "np.sum(Omega,1) + np.sum(epsN,1) # checking constant returns holds"
   ]
  },
  {
   "cell_type": "code",
   "execution_count": 76,
   "metadata": {},
   "outputs": [
    {
     "data": {
      "text/plain": [
       "array([[0.02319921, 0.        , 0.        , 0.        ],\n",
       "       [0.        , 0.00769664, 0.        , 0.        ],\n",
       "       [0.        , 0.        , 0.0038407 , 0.        ],\n",
       "       [0.        , 0.        , 0.        , 0.0154689 ]])"
      ]
     },
     "execution_count": 76,
     "metadata": {},
     "output_type": "execute_result"
    }
   ],
   "source": [
    "tau = np.random.uniform(low=0,high=0.046,size=(O,1))\n",
    "curlyT = np.diag(tau.flatten())\n",
    "curlyT"
   ]
  },
  {
   "attachments": {},
   "cell_type": "markdown",
   "metadata": {},
   "source": [
    "Wage changes."
   ]
  },
  {
   "cell_type": "code",
   "execution_count": 77,
   "metadata": {},
   "outputs": [
    {
     "data": {
      "text/plain": [
       "array([[0.],\n",
       "       [0.],\n",
       "       [0.],\n",
       "       [0.]])"
      ]
     },
     "execution_count": 77,
     "metadata": {},
     "output_type": "execute_result"
    }
   ],
   "source": [
    "# Wage elasticities\n",
    "epsW_A = np.random.uniform(low=0,high=2,size=(O,J))\n",
    "epsW_H = np.random.uniform(low=-2,high=0,size=(O,O))\n",
    "\n",
    "# Technology shocks\n",
    "dlog_A = 0.01*np.ones((J,1))\n",
    "dlog_H = 0.01*np.zeros((O,1))\n",
    "\n",
    "dlog_w = WageFunc(dlog_A, dlog_H, epsW_A, epsW_H)\n",
    "dlog_w = np.zeros_like(dlog_w)\n",
    "dlog_w"
   ]
  },
  {
   "attachments": {},
   "cell_type": "markdown",
   "metadata": {},
   "source": [
    "Changes in tightness."
   ]
  },
  {
   "cell_type": "code",
   "execution_count": 78,
   "metadata": {},
   "outputs": [
    {
     "ename": "TypeError",
     "evalue": "ThetaFunc() missing 1 required positional argument: 'epsN'",
     "output_type": "error",
     "traceback": [
      "\u001b[0;31m---------------------------------------------------------------------------\u001b[0m",
      "\u001b[0;31mTypeError\u001b[0m                                 Traceback (most recent call last)",
      "\u001b[1;32m/Users/finnschule/Dropbox/BrownPhD/2nd Year/2nd Semester/Empirical Macro/UnemploymentNetwork/new_code/Multiple_occupations_example_code.ipynb Cell 43\u001b[0m in \u001b[0;36m<cell line: 5>\u001b[0;34m()\u001b[0m\n\u001b[1;32m      <a href='vscode-notebook-cell:/Users/finnschule/Dropbox/BrownPhD/2nd%20Year/2nd%20Semester/Empirical%20Macro/UnemploymentNetwork/new_code/Multiple_occupations_example_code.ipynb#X56sZmlsZQ%3D%3D?line=1'>2</a>\u001b[0m curlyE \u001b[39m=\u001b[39m curlyEFunc(dlog_epsN,epsN)\n\u001b[1;32m      <a href='vscode-notebook-cell:/Users/finnschule/Dropbox/BrownPhD/2nd%20Year/2nd%20Semester/Empirical%20Macro/UnemploymentNetwork/new_code/Multiple_occupations_example_code.ipynb#X56sZmlsZQ%3D%3D?line=2'>3</a>\u001b[0m dlog_lam \u001b[39m=\u001b[39m np\u001b[39m.\u001b[39mzeros_like(dlog_A)\n\u001b[0;32m----> <a href='vscode-notebook-cell:/Users/finnschule/Dropbox/BrownPhD/2nd%20Year/2nd%20Semester/Empirical%20Macro/UnemploymentNetwork/new_code/Multiple_occupations_example_code.ipynb#X56sZmlsZQ%3D%3D?line=4'>5</a>\u001b[0m dlog_theta \u001b[39m=\u001b[39m ThetaFunc(dlog_A, dlog_H, dlog_w, dlog_epsN, dlog_lam, Psi, curlyF, curlyQ, curlyT, curlyE, l, epsN, num \u001b[39m=\u001b[39;49m \u001b[39m0\u001b[39;49m)\n\u001b[1;32m      <a href='vscode-notebook-cell:/Users/finnschule/Dropbox/BrownPhD/2nd%20Year/2nd%20Semester/Empirical%20Macro/UnemploymentNetwork/new_code/Multiple_occupations_example_code.ipynb#X56sZmlsZQ%3D%3D?line=5'>6</a>\u001b[0m dlog_theta\n",
      "\u001b[0;31mTypeError\u001b[0m: ThetaFunc() missing 1 required positional argument: 'epsN'"
     ]
    }
   ],
   "source": [
    "\n",
    "dlog_epsN = np.zeros((J,O))\n",
    "curlyE = curlyEFunc(dlog_epsN,epsN)\n",
    "dlog_lam = np.zeros_like(dlog_A)\n",
    "\n",
    "dlog_theta = ThetaFunc(dlog_A, dlog_H, dlog_w, dlog_epsN, dlog_lam, Psi, Omega, curlyF, curlyQ, curlyT, curlyE, curlyL, epsN, num=0)\n",
    "dlog_theta"
   ]
  },
  {
   "attachments": {},
   "cell_type": "markdown",
   "metadata": {},
   "source": [
    "Changes in prices."
   ]
  },
  {
   "cell_type": "code",
   "execution_count": null,
   "metadata": {},
   "outputs": [
    {
     "data": {
      "text/plain": [
       "array([[-1.70002901e-16],\n",
       "       [-1.60978718e-02],\n",
       "       [-2.21109558e-02],\n",
       "       [-8.86068649e-03]])"
      ]
     },
     "execution_count": 83,
     "metadata": {},
     "output_type": "execute_result"
    }
   ],
   "source": [
    "dlog_p = PriceFunc(dlog_A, dlog_w, dlog_theta, Psi, curlyQ, epsN, curlyT)\n",
    "dlog_p"
   ]
  },
  {
   "attachments": {},
   "cell_type": "markdown",
   "metadata": {},
   "source": [
    "Changes in Output."
   ]
  },
  {
   "cell_type": "code",
   "execution_count": null,
   "metadata": {},
   "outputs": [
    {
     "data": {
      "text/plain": [
       "array([[0.04055621],\n",
       "       [0.05665408],\n",
       "       [0.06266716],\n",
       "       [0.04941689]])"
      ]
     },
     "execution_count": 84,
     "metadata": {},
     "output_type": "execute_result"
    }
   ],
   "source": [
    "dlog_y = OutputFunc(dlog_A, dlog_H, dlog_theta, dlog_lam, Psi, curlyQ, curlyF, epsN, curlyT, curlyE)\n",
    "dlog_y"
   ]
  },
  {
   "attachments": {},
   "cell_type": "markdown",
   "metadata": {},
   "source": [
    "Checking results."
   ]
  },
  {
   "cell_type": "code",
   "execution_count": null,
   "metadata": {},
   "outputs": [
    {
     "data": {
      "text/plain": [
       "array([[0.04055621],\n",
       "       [0.04055621],\n",
       "       [0.04055621],\n",
       "       [0.04055621]])"
      ]
     },
     "execution_count": 85,
     "metadata": {},
     "output_type": "execute_result"
    }
   ],
   "source": [
    "dlog_p + dlog_y"
   ]
  },
  {
   "cell_type": "code",
   "execution_count": null,
   "metadata": {},
   "outputs": [
    {
     "data": {
      "text/plain": [
       "array([[-1.80411242e-16],\n",
       "       [ 0.00000000e+00],\n",
       "       [ 1.38777878e-17],\n",
       "       [ 0.00000000e+00]])"
      ]
     },
     "execution_count": 86,
     "metadata": {},
     "output_type": "execute_result"
    }
   ],
   "source": [
    "LaborDemand(dlog_w, dlog_y, dlog_p, dlog_epsN, l) - LaborSupply(dlog_H,dlog_theta,curlyF)"
   ]
  }
 ],
 "metadata": {
  "kernelspec": {
   "display_name": "Python 3 (ipykernel)",
   "language": "python",
   "name": "python3"
  },
  "language_info": {
   "codemirror_mode": {
    "name": "ipython",
    "version": 3
   },
   "file_extension": ".py",
   "mimetype": "text/x-python",
   "name": "python",
   "nbconvert_exporter": "python",
   "pygments_lexer": "ipython3",
   "version": "3.8.12"
  },
  "vscode": {
   "interpreter": {
    "hash": "fbfaa7553469519299698c7576cfa5da0b434ea4638d3b56a3f047f0de3b7cd5"
   }
  }
 },
 "nbformat": 4,
 "nbformat_minor": 4
}
