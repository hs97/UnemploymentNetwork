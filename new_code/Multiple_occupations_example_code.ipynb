{
 "cells": [
  {
   "cell_type": "code",
   "execution_count": 53,
   "metadata": {},
   "outputs": [],
   "source": [
    "import numpy as np"
   ]
  },
  {
   "attachments": {},
   "cell_type": "markdown",
   "metadata": {},
   "source": [
    "$\\newcommand{\\diag}[1]{\\text{diag}\\left(#1\\right)}$\n",
    "\n",
    "# An extension to multiple occupations\n",
    "\n",
    "Suppose that instead of separate sector level labor markets there are $\\mathcal{O}$ occupations. Firms in each sector can use any occupation $o$ type labor in production. Our standard framework is the special case where there is exactly one occupation per sector and firms use only their own sector occupation as an input into production. \n",
    "\n",
    "## Simulating needed data\n",
    "\n",
    "For now, I assume production functions are Cobb-Douglass, households have Cobb-Douglas preferences over final consumption goods, and the matching function is Cobb-Douglas. In principle, we don't need to be so restrictive about the functional forms of production and matching. Instead all of the relevant information about production technologies is captured by the levels and changes of the elasticities outline below. Any two production functions with the same elasticities and changes in elasticities would generate the same responses to shocks.\n",
    "\n",
    "For each sector $i$, we need the elasticity of production of good $j$ with respect to the intermediate input from each other sector $j$, $\\varepsilon^{f_i}_{x_{ij}}$, and the elasticity of production with respect to occupation $o$ labor input $N_{io}$, $\\varepsilon^{f_i}_{N_{io}}$. I sample elasticites of production on the unit simplex using an exponential transformation of the normal distribution. To start, for each industry, draw\n",
    "\\begin{align*}\n",
    "    \\left(z_{i1}, \\cdots,z_{iJ},z_{N_{i1}}, \\cdots, z_{N_{i\\mathcal{O}}}\\right) \\sim N\\left(\\mu,\\Sigma\\right)\n",
    "\\end{align*}\n",
    "Then define\n",
    "\\begin{align*}\n",
    "    \\varepsilon^{f_i}_{x_{i1}} = \\frac{e^{z_{i1}}}{\\sum_{o=1}^{\\mathcal{O}}e^{z_{N_{io}}}+\\sum_{j=1}^{J}e^{z_{ij}}}\n",
    "\\end{align*}\n",
    "And equivalently for all other sectors. We also need the elasticities of demand with respect to sector $i$'s output, $\\varepsilon^{\\mathcal{D}}_{c_i}$. Notice that we can treat the final demand as another production sector that uses no labor input. We can sample the demand elasticities using the same procedure outlined above.\n",
    "\n",
    "Finally, I sample the matching elasticity with respect to vacancies from a uniform distribution on $[0,1]$. \n",
    "\n",
    "We let $\\Omega$ be the matrix of input elasticities for each sector and $\\Psi = (\\bm{I}-\\bm{\\Omega})^{-1}$ be the Leontif inverse."
   ]
  },
  {
   "cell_type": "code",
   "execution_count": 54,
   "metadata": {},
   "outputs": [
    {
     "data": {
      "text/plain": [
       "array([1., 1., 1., 1.])"
      ]
     },
     "execution_count": 54,
     "metadata": {},
     "output_type": "execute_result"
    }
   ],
   "source": [
    "# Size of network\n",
    "J = 4 # number of sectors\n",
    "O = 2 # number of occupations\n",
    "\n",
    "# Sampling input-output matrix entries \n",
    "μ = np.zeros(J+O)\n",
    "Σ = np.eye(J+O)\n",
    "z_draws = np.random.multivariate_normal(μ, Σ, J+1)\n",
    "elasticity_draws = np.exp(z_draws)/np.sum(np.exp(z_draws),1).reshape((J+1,1))\n",
    "\n",
    "# Elasticities\n",
    "epsD = elasticity_draws[0,:-O]/np.sum(elasticity_draws[0,:-O])\n",
    "epsD = epsD.reshape(J,1)\n",
    "Omega = elasticity_draws[1:,:-O]\n",
    "Psi = np.linalg.inv(np.eye(J)-Omega)\n",
    "epsN = elasticity_draws[1:,J:]\n",
    "\n",
    "# Drawing elasticity of matching function wrt to U\n",
    "ν = np.random.uniform(size=O)\n",
    "epsQ =  -ν.reshape((O,1))\n",
    "epsF = np.ones((O,1)) + epsQ\n",
    "epsQ = epsQ.reshape((O,1))\n",
    "epsF = epsF.reshape((O,1))\n",
    "curlyQ = np.diag(epsQ.flatten())\n",
    "curlyF =  np.diag(epsF.flatten())\n",
    "\n",
    "np.sum(Omega,1) + np.sum(epsN,1) # checking constant returns holds"
   ]
  },
  {
   "attachments": {},
   "cell_type": "markdown",
   "metadata": {},
   "source": [
    "We need recruiter producer ratios $\\tau_o(\\theta_o)$ in each occupational labor market. Landais, Michaillat, and Saez (2018) find that the share of recruiters in the US workforce averages around 2.3 percent. I sample recruiter producer ratios uniformly on the interval $[0,0.046]$ to roughly match this fact."
   ]
  },
  {
   "cell_type": "code",
   "execution_count": 55,
   "metadata": {},
   "outputs": [
    {
     "data": {
      "text/plain": [
       "array([[0.03606975, 0.        ],\n",
       "       [0.        , 0.02503446]])"
      ]
     },
     "execution_count": 55,
     "metadata": {},
     "output_type": "execute_result"
    }
   ],
   "source": [
    "tau = np.random.uniform(low=0,high=0.046,size=(O,1))\n",
    "curlyT = np.diag(tau.flatten())\n",
    "curlyT"
   ]
  },
  {
   "attachments": {},
   "cell_type": "markdown",
   "metadata": {},
   "source": [
    "Finally, in addition to the data we need assuming one occupation per sector, we need data on employment by sector-occupation pair at the initial equilibrium. For each $i$ and $o$ we need\n",
    "\\begin{align*}\n",
    "    l_{io} = \\frac{\\varepsilon^{f_i}_{N_{io}}p_i y_i}{w_o}\n",
    "\\end{align*}\n",
    "For the purposes of this simple example, we assume that all prices, wages, and quantities are the same and normalized to $1$. This implies that $l_{io} = \\varepsilon^{f_i}_{N_{io}}$. "
   ]
  },
  {
   "cell_type": "code",
   "execution_count": 56,
   "metadata": {},
   "outputs": [],
   "source": [
    "# labor usage at initial equilibrium\n",
    "l = epsN\n",
    "curlyL = l.T/np.sum(l.T,1).reshape((O,1)) "
   ]
  },
  {
   "cell_type": "markdown",
   "metadata": {},
   "source": [
    "## Defining shocks\n",
    "We are interested in the response of sector level and aggregate output and employment to technology shocks $d\\log\\bm{A}$ and labor force shocks $d\\log \\bm{H}$. The code below defines the shocks we feed into the model."
   ]
  },
  {
   "cell_type": "code",
   "execution_count": 57,
   "metadata": {},
   "outputs": [],
   "source": [
    "# Technology shocks\n",
    "dlog_A = 0.01*np.ones((J,1))\n",
    "dlog_H = 0.01*np.zeros((O,1))"
   ]
  },
  {
   "attachments": {},
   "cell_type": "markdown",
   "metadata": {},
   "source": [
    "## Defining how wages adjust\n",
    "Since there are mutual gains from trade once an unemployed worker and a firm meet, wages are not pinned down uniquely in models featuring search and matching frictions in the labor market. We must therefore impose a wage schedule, an assumption about how wages change in response to fundamentals, in order to close the model. \n",
    "\n",
    "Let $w_o$ be the nominal occupation $o$ wage. \n",
    "\n",
    "We need to specify the elasticity of wages to technology shocks and labor force shocks in each sector, $\\left\\{\\left\\{\\varepsilon^{w_o}_{A_{oi}}\\right\\}_{i=1}^{J},\\left\\{\\varepsilon^{w_o}_{H_{ok}}\\right\\}_{k=1}^{\\mathcal{O}}\\right\\}_{o=1}^{\\mathcal{O}}$. For instance, a simple assumption is that the response of wages to productivity shocks is proportional to $\\varepsilon^{f_i}_{N_{io}}$ and how wages respond to labor force changes is proportional to $\\varepsilon^{Q_o}_{\\theta_o}$. In general, we express changes in wages as a function of changes in productivity and the labor force. \n",
    "\\begin{align}\n",
    "    d\\log \\bm{w} &= \\bm{\\Lambda_{A}} d\\log \\bm{A} + \\bm{\\Lambda_{H}} d\\log \\bm{H} \\tag{1}\n",
    "\\end{align}\n",
    "Where $\\bm{\\Lambda_{A}}$ contains wage elasticities to productivity changes and $\\bm{\\Lambda_{H}}$ contains wage elasticities to labor force changes."
   ]
  },
  {
   "cell_type": "code",
   "execution_count": 58,
   "metadata": {},
   "outputs": [
    {
     "data": {
      "text/plain": [
       "array([[0.51933847, 1.9378739 , 0.09631458, 0.7658432 ],\n",
       "       [0.21221041, 1.27871262, 1.44841686, 1.28584799]])"
      ]
     },
     "execution_count": 58,
     "metadata": {},
     "output_type": "execute_result"
    }
   ],
   "source": [
    "# Wage elasticities\n",
    "epsW_A = np.random.uniform(low=0,high=2,size=(O,J))\n",
    "epsW_H = np.random.uniform(low=-2,high=0,size=(O,O))\n",
    "epsW_A"
   ]
  },
  {
   "cell_type": "code",
   "execution_count": 59,
   "metadata": {},
   "outputs": [],
   "source": [
    "# Calculating the log change in wages\n",
    "def WageFunc(dlog_A, dlog_H, epsW_A, epsW_H):\n",
    "    dlog_w = epsW_A @ dlog_A + epsW_H @ dlog_H\n",
    "    return dlog_w"
   ]
  },
  {
   "cell_type": "code",
   "execution_count": 60,
   "metadata": {},
   "outputs": [
    {
     "data": {
      "text/plain": [
       "array([[0.],\n",
       "       [0.]])"
      ]
     },
     "execution_count": 60,
     "metadata": {},
     "output_type": "execute_result"
    }
   ],
   "source": [
    "#How wages change\n",
    "dlog_w = WageFunc(dlog_A, dlog_H, epsW_A, epsW_H)\n",
    "dlog_w = np.zeros_like(dlog_w)\n",
    "dlog_w"
   ]
  },
  {
   "attachments": {},
   "cell_type": "markdown",
   "metadata": {},
   "source": [
    "\n",
    "## Tightness propagation\n",
    "We with wage changes in hand, we solve for first order changes in tightness in terms of $d\\log\\bm{A}$, $d\\log\\bm{H}$, and $d\\log\\bm{w}$. The general formula for changes in tightness, treating sector $j$ prices as the numeraire, is\n",
    "\\begin{align}\n",
    "  d\\log \\bm{\\theta} &=  \\left[\\diag{\\bm{\\varepsilon^{\\mathcal{F}}_{\\theta}}} -\\bm{\\Xi_{\\theta}}\\right]^{-1}\\left[\\left[\\left(\\bm{\\Xi}-\\bm{\\mu_j}\\bm{\\Xi_j}\\right)\\bm{\\varepsilon^f_{N}}  - \\bm{\\mu} \\right] d\\log \\bm{w} + \\left[\\bm{\\Xi}\\bm{\\varepsilon^f_{N}}-\\bm{I}\\right]d\\log\\bm{H} + \\bm{\\Xi_j}d\\log\\bm{A} \\right] \\nonumber\\\\\n",
    "    &+  \\left[\\diag{\\bm{\\varepsilon^{\\mathcal{F}}_{\\theta}}} -\\bm{\\Xi_{\\theta}}\\right]^{-1}\\left[\\sum_{i=1}^{J} \\bm{\\mu_i}d\\log {\\bm{\\varepsilon^{f_i}_{N_i}}}'+\\bm{\\Xi} \\left[ \\left(\\diag{\\bm{\\Omega}\\bm{1}} - \\bm{\\Omega}\\right)d\\log \\bm{\\lambda} -d\\log \\bm{\\mathcal{E}}\\right] \\right]  \\tag{2}\n",
    "\\end{align}\n",
    "Where \n",
    "\\begin{align*}\n",
    "    \\bm{\\Xi_\\theta}  &=  \\left[\\bm{\\Xi}\\bm{\\varepsilon^{f}_{N}}\\bm{\\mathcal{F}} + \\bm{\\mu_j}\\bm{\\Xi_j}\\bm{\\varepsilon^{f}_{N}\\bm{\\mathcal{Q \\Tau}}}\\right] \\\\\n",
    "    \\bm{\\Xi} &= \\sum_{i=1}^{J} \\bm{\\mu_i}\\bm{\\Xi_i} \\\\ \n",
    "    \\bm{\\mu} &= \\sum_{i=1}^{J} \\bm{\\mu_i} \\\\\n",
    "    \\bm{\\Xi_i} &= \\begin{bmatrix} \\bm{\\Psi_{i}}' & \\cdots & \\bm{\\Psi_i}'\\end{bmatrix}_{J \\times  \\mathcal{O}}'\\\\\n",
    "    \\bm{\\mu_i} &= \\diag{\\begin{bmatrix} \\frac{l_{i1}}{L^d_1} & \\cdots & \\frac{l_{i\\mathcal{O}}}{L^d_{\\mathcal{O}}}\\end{bmatrix}}\n",
    "\\end{align*}\n",
    "$\\bm{1}$ is a $J\\times 1 $ vector of ones and  $d\\log \\bm{\\mathcal{E}}$ is the $J\\times 1$ vector of diagonal elements of $\\bm{\\varepsilon^{f}_{N}} d\\log {\\bm{\\varepsilon^{f}_{N}}}'$."
   ]
  },
  {
   "cell_type": "code",
   "execution_count": 61,
   "metadata": {},
   "outputs": [],
   "source": [
    "def curlyEFunc(dlog_epsN,epsN):\n",
    "    J = epsN.shape[0]\n",
    "    curlyE = np.diag(epsN @ dlog_epsN.T).reshape(J,1)\n",
    "    return curlyE\n",
    "\n",
    "def ThetaFunc2(dlog_A, dlog_H, dlog_w, dlog_epsN, dlog_lam, Psi, Omega, curlyF, curlyQ, curlyT, curlyE, l, epsN, num=0):\n",
    "\n",
    "    J = dlog_A.shape[0]\n",
    "    O = dlog_H.shape[0]\n",
    "    # Creating matrices\n",
    "    Mu = np.zeros((O,O))\n",
    "    Xi = np.zeros((O,J))\n",
    "    for i in range(J):\n",
    "        Mu = Mu + np.diag(l[i,:] / np.sum(l,0))\n",
    "        Xi = Xi + (np.diag(l[i,:] / np.sum(l,0))) @ np.tile(Psi[i,:],(O,1))\n",
    "    \n",
    "    Mu_j = np.diag(l[num,:] / np.sum(l,0))\n",
    "    Xi_j = np.tile(Psi[num,:],(O,1))\n",
    "    Xi_theta = Xi @ epsN @ curlyF + Mu_j @ Xi_j @ epsN @ curlyQ @ curlyT\n",
    "    I = np.eye(O)\n",
    "    inv_mat = np.linalg.inv(curlyF - Xi_theta)\n",
    "\n",
    "    # Contribution of different components\n",
    "    Cw = inv_mat @ ((Xi - Mu_j @ Xi_j) @ epsN - Mu)\n",
    "    Ca = inv_mat @ Mu_j @ Xi_j\n",
    "    Ch = inv_mat @ (Xi @ epsN - I)\n",
    "    Ce = -inv_mat @ Xi\n",
    "    Cλ = inv_mat @ Xi @ (np.diag(np.sum(Omega,1)) - Omega)\n",
    "\n",
    "    # Change in tightness\n",
    "    dlog_theta = Cw @ dlog_w + Ch @ dlog_H + inv_mat @ np.sum(dlog_epsN.T,1).reshape((O,1)) + Cλ @ dlog_lam + Ce @ curlyE + Ca @ dlog_A\n",
    "\n",
    "    return dlog_theta"
   ]
  },
  {
   "attachments": {},
   "cell_type": "markdown",
   "metadata": {},
   "source": [
    "Alternatively, we can write things more compactly using $\\bm{\\mathcal{L}}$, the $\\mathcal{O}\\times J$ matrix of sectoral labor shares. We can write\n",
    "\\begin{align*}\n",
    "     d\\log \\bm{\\theta} &=  \\left[\\bm{\\mathcal{F}} -\\bm{\\Xi_{\\theta}}\\right]^{-1}\\left[\\left[\\left[\\bm{\\mathcal{L}}-\\bm{\\mathcal{L}_j}\\right]\\bm{\\Psi}\\bm{\\varepsilon^f_N}-\\diag{\\bm{\\mathcal{L}1}}\\right] d\\log \\bm{w} + \\left[\\bm{\\mathcal{L}}\\bm{\\Psi}\\bm{\\varepsilon^f_{N}}-\\bm{I}\\right]d\\log\\bm{H} + \\bm{\\mathcal{L}_j \\Psi}d\\log\\bm{A} \\right] \\\\\n",
    "    &+  \\left[\\bm{\\mathcal{F}}  -\\bm{\\Xi_{\\theta}}\\right]^{-1}\\left[\\diag{\\bm{\\mathcal{L}} d\\log \\bm{\\varepsilon^f_{N}}}+\\bm{\\mathcal{L}}\\bm{\\Psi} \\left[ \\left(\\diag{\\bm{\\Omega}\\bm{1}} - \\bm{\\Omega}\\right)d\\log \\bm{\\lambda} -d\\log \\bm{\\mathcal{E}}\\right] \\right] \n",
    "\\end{align*}\n",
    "Where $\\bm{\\Xi_{\\theta}} =  \\left[\\bm{\\mathcal{L}}\\bm{\\Psi}\\bm{\\varepsilon^f_{N}}\\bm{\\mathcal{F}}+\\bm{\\mathcal{L}_j}\\bm{\\Psi}\\bm{\\varepsilon^f_N}\\bm{\\mathcal{Q\\Tau}}\\right] $ and \n",
    "\\begin{align*}\n",
    "    \\bm{\\mathcal{L}} = \\begin{bmatrix}\n",
    "        \\frac{l_{11}}{L^d_1} & \\frac{l_{21}}{L^d_{1}} & \\cdots & \\frac{l_{J1}}{L^d_{1}} \\\\\n",
    "        \\frac{l_{12}}{L^d_2} & \\frac{l_{22}}{L^d_2} & \\cdots  & \\frac{l_{J2}}{L^d_2} \\\\\n",
    "         \\vdots & \\vdots & \\ddots & \\vdots \\\\\n",
    "        \\frac{l_{1\\mathcal{O}}}{L^d_{\\mathcal{O}}} & \\frac{l_{2\\mathcal{O}}}{L^d_{\\mathcal{O}}} & \\cdots & \\frac{l_{J\\mathcal{O}}}{L^d_{\\mathcal{O}}}\n",
    "    \\end{bmatrix},\\, \\bm{\\mathcal{L}_j} = \\begin{bmatrix}\n",
    "        0 & \\cdots & \\frac{l_{j1}}{L^d_{1}} & \\cdots & 0 \\\\\n",
    "        0 &\\cdots & \\frac{l_{j2}}{L^d_2} & \\cdots  & 0 \\\\\n",
    "         \\vdots & \\ddots & \\vdots & \\ddots & \\vdots \\\\\n",
    "        0 & \\cdots & \\frac{l_{j\\mathcal{O}}}{L^d_{\\mathcal{O}}} & \\cdots & 0\n",
    "    \\end{bmatrix}\n",
    "\\end{align*}\n",
    "\n",
    "\n"
   ]
  },
  {
   "cell_type": "code",
   "execution_count": 62,
   "metadata": {},
   "outputs": [],
   "source": [
    "def ThetaFunc(dlog_A, dlog_H, dlog_w, dlog_epsN, dlog_lam, Psi, Omega, curlyF, curlyQ, curlyT, curlyE, curlyL, epsN, num=0):\n",
    "    J = dlog_A.shape[0]\n",
    "    O = dlog_H.shape[0]\n",
    "    \n",
    "    # Creating matrices\n",
    "    curlyL_j = np.zeros_like(curlyL)\n",
    "    curlyL_j[:,num] = curlyL[:,num]\n",
    "    Xi = curlyL @ Psi @ epsN @ curlyF + curlyL_j @ Psi @ epsN @ curlyQ @ curlyT \n",
    "    inv_mat = np.linalg.inv(curlyF - Xi)\n",
    "    I = np.eye(O)\n",
    "    \n",
    "    # Contribution of different components\n",
    "    Cw = inv_mat @ ((curlyL-curlyL_j) @ Psi @ epsN - np.diag(np.sum(curlyL,1)))\n",
    "    Ca = inv_mat @ curlyL_j @ Psi\n",
    "    Ch = inv_mat @ (curlyL @ Psi @ epsN - I)\n",
    "    Ce = -inv_mat @ curlyL @ Psi\n",
    "    Cλ = inv_mat @ curlyL @ Psi @ (np.diag(np.sum(Omega,1)) - Omega)\n",
    "\n",
    "    # Change in tightness\n",
    "    dlog_theta = Cw @ dlog_w + Ch @ dlog_H + inv_mat @ np.diag(curlyL @ dlog_epsN).reshape((O,1)) + Cλ @ dlog_lam + Ce @ curlyE + Ca @ dlog_A\n",
    "    \n",
    "    return dlog_theta"
   ]
  },
  {
   "cell_type": "markdown",
   "metadata": {},
   "source": [
    "Assuming Cobb-Douglas production implies $d\\log\\bm{\\varepsilon^f_N} = d\\log \\bm{\\lambda} = 0$."
   ]
  },
  {
   "cell_type": "code",
   "execution_count": 63,
   "metadata": {},
   "outputs": [
    {
     "data": {
      "text/plain": [
       "array([[0.],\n",
       "       [0.],\n",
       "       [0.],\n",
       "       [0.]])"
      ]
     },
     "execution_count": 63,
     "metadata": {},
     "output_type": "execute_result"
    }
   ],
   "source": [
    "dlog_epsN = np.zeros((J,O))\n",
    "curlyE = curlyEFunc(dlog_epsN,epsN)\n",
    "curlyE"
   ]
  },
  {
   "attachments": {},
   "cell_type": "markdown",
   "metadata": {},
   "source": [
    "Below we compare the two methods to check for consistency, starting with the top method."
   ]
  },
  {
   "cell_type": "code",
   "execution_count": 64,
   "metadata": {},
   "outputs": [
    {
     "data": {
      "text/plain": [
       "array([[4.30734349],\n",
       "       [7.65753787]])"
      ]
     },
     "execution_count": 64,
     "metadata": {},
     "output_type": "execute_result"
    }
   ],
   "source": [
    "dlog_lam = np.zeros_like(dlog_A)\n",
    "dlog_theta2 = ThetaFunc2(dlog_A, dlog_H, dlog_w, dlog_epsN, dlog_lam, Psi, Omega, curlyF, curlyQ, curlyT, curlyE, l, epsN, num=0)\n",
    "dlog_theta2 "
   ]
  },
  {
   "cell_type": "code",
   "execution_count": 65,
   "metadata": {},
   "outputs": [
    {
     "data": {
      "text/plain": [
       "array([[4.30734349],\n",
       "       [7.65753787]])"
      ]
     },
     "execution_count": 65,
     "metadata": {},
     "output_type": "execute_result"
    }
   ],
   "source": [
    "dlog_theta = ThetaFunc(dlog_A, dlog_H, dlog_w, dlog_epsN, dlog_lam, Psi, Omega, curlyF, curlyQ, curlyT, curlyE, curlyL, epsN, num=0)\n",
    "dlog_theta "
   ]
  },
  {
   "cell_type": "code",
   "execution_count": 66,
   "metadata": {},
   "outputs": [
    {
     "data": {
      "text/plain": [
       "array([[ 0.0000000e+00],\n",
       "       [-8.8817842e-16]])"
      ]
     },
     "execution_count": 66,
     "metadata": {},
     "output_type": "execute_result"
    }
   ],
   "source": [
    "dlog_theta-dlog_theta2"
   ]
  },
  {
   "attachments": {},
   "cell_type": "markdown",
   "metadata": {},
   "source": [
    "## Price and output propagation\n",
    "With changes in tightness in hand, we can now work out how prices and sectoral production changes in response to technology and labor force shocks. Price changes are given by \n",
    "\\begin{align}\n",
    "        d\\log \\bm{p} = \\bm{\\Psi} \\left[\\bm{\\varepsilon^{f}_{N}} \\left[d\\log \\bm{w} - \\bm{\\mathcal{Q}} \\bm{\\mathcal{\\Tau} }d\\log\\bm{\\theta}\\right] - d\\log \\bm{A}\\right] \\tag{3}\n",
    "\\end{align}"
   ]
  },
  {
   "cell_type": "code",
   "execution_count": 67,
   "metadata": {},
   "outputs": [],
   "source": [
    "def PriceFunc(dlog_A, dlog_w, dlog_theta, Psi, curlyQ, epsN, curlyT):\n",
    "    # Contributions of different components\n",
    "    Cw = Psi @ epsN\n",
    "    Ctheta = -Cw @ curlyQ @ curlyT\n",
    "    Ca = -Psi\n",
    "\n",
    "    # Price changes\n",
    "    dlog_p = Cw @ dlog_w + Ctheta @ dlog_theta + Ca @ dlog_A\n",
    "    return dlog_p\n"
   ]
  },
  {
   "cell_type": "code",
   "execution_count": 68,
   "metadata": {},
   "outputs": [
    {
     "data": {
      "text/plain": [
       "array([[ 4.57273108e-15],\n",
       "       [-5.18762383e-04],\n",
       "       [-1.00202090e-04],\n",
       "       [ 3.68657745e-02]])"
      ]
     },
     "execution_count": 68,
     "metadata": {},
     "output_type": "execute_result"
    }
   ],
   "source": [
    "dlog_p = PriceFunc(dlog_A, dlog_w, dlog_theta, Psi, curlyQ, epsN, curlyT)\n",
    "dlog_p"
   ]
  },
  {
   "attachments": {},
   "cell_type": "markdown",
   "metadata": {},
   "source": [
    "And output changes are given by\n",
    "\\begin{align}\n",
    "       d\\log \\bm{y} &= \\bm{\\Psi}\\left(d\\log\\bm{A} + \\bm{\\varepsilon^{f}_{N}}\\left(\\bm{\\mathcal{F}}+\\bm{\\mathcal{Q}} \\bm{\\mathcal{\\Tau}}\\right)d\\log \\bm{\\theta} + \\bm{\\varepsilon^{f}_{N}} d\\log\\bm{H}\\right)\\nonumber \\\\\n",
    "    &-\\bm{\\Psi}d\\log \\bm{\\mathcal{E}} + \\bm{\\Psi}\\left(\\diag{\\bm{\\Omega}\\bm{1}} - \\bm{\\Omega}\\right)d\\log \\bm{\\lambda} \\tag{4}\n",
    "\\end{align}\n"
   ]
  },
  {
   "cell_type": "code",
   "execution_count": 69,
   "metadata": {},
   "outputs": [],
   "source": [
    "def OutputFunc(dlog_A, dlog_H, dlog_theta, dlog_lam, Psi, Omega, curlyQ, curlyF, epsN, curlyT, curlyE):\n",
    "    # Contributions of different coponents\n",
    "    Ca = Psi\n",
    "    Ch = Psi @ epsN\n",
    "    Ctheta = Ch @ (curlyF + curlyQ @ curlyT)\n",
    "    Ce = -Psi\n",
    "    Cλ = Psi @ (np.diag(np.sum(Omega,1)) - Omega)\n",
    "    \n",
    "    # Output changes\n",
    "    dlog_y = Ca @ dlog_A + Ctheta @ dlog_theta + Ch @ dlog_H + Ce @ curlyE + Cλ @ dlog_lam\n",
    "\n",
    "    return dlog_y"
   ]
  },
  {
   "cell_type": "code",
   "execution_count": 70,
   "metadata": {},
   "outputs": [
    {
     "data": {
      "text/plain": [
       "array([[4.14690841],\n",
       "       [4.14742717],\n",
       "       [4.14700861],\n",
       "       [4.11004263]])"
      ]
     },
     "execution_count": 70,
     "metadata": {},
     "output_type": "execute_result"
    }
   ],
   "source": [
    "dlog_y = OutputFunc(dlog_A, dlog_H, dlog_theta, dlog_lam, Psi, Omega, curlyQ, curlyF, epsN, curlyT, curlyE)\n",
    "dlog_y"
   ]
  },
  {
   "cell_type": "markdown",
   "metadata": {},
   "source": [
    "With Cobb-Douglas production, real output should change by the same amount in each sector. This provides an overall check of our code given the Cobb-Douglas assumption."
   ]
  },
  {
   "cell_type": "code",
   "execution_count": 71,
   "metadata": {},
   "outputs": [
    {
     "data": {
      "text/plain": [
       "array([[4.14690841],\n",
       "       [4.14690841],\n",
       "       [4.14690841],\n",
       "       [4.14690841]])"
      ]
     },
     "execution_count": 71,
     "metadata": {},
     "output_type": "execute_result"
    }
   ],
   "source": [
    "# Change in nominal GDP\n",
    "dlog_p + dlog_y"
   ]
  },
  {
   "attachments": {},
   "cell_type": "markdown",
   "metadata": {},
   "source": [
    "We can now check consistency. We should get the same change in labor by either calculating the change in labor supply\n",
    "\\begin{align}\n",
    "    d\\log \\bm{L^s} = \\text{diag}\\left(\\mathcal{F}\\right) d\\log \\bm{\\theta} + d\\log \\bm{H} \\tag{5}\n",
    "\\end{align}\n",
    "Or the change in labor demand\n",
    "\\begin{align}\n",
    "    d\\log \\bm{L^d} = -J d\\log \\bm{w} + \\sum_{i=1}^{J}\\left[d\\log \\bm{\\varepsilon^{f_i}_{N_i}} + d\\log \\bm{p_i} + d\\log\\bm{y_i}\\right]\\tag{6}\n",
    "\\end{align}\n",
    "Alternatively using $\\bm{\\mathcal{L}}$, we can write\n",
    "\\begin{align*}\n",
    "d\\log \\bm{L^d} = \\bm{\\mathcal{L}} \\left[d\\log\\bm{p}+d\\log\\bm{y}\\right] + \\diag{\\bm{\\mathcal{L}}d\\log \\bm{\\varepsilon^f_N}} - d\\log\\bm{w}\n",
    "\\end{align*}"
   ]
  },
  {
   "cell_type": "code",
   "execution_count": 72,
   "metadata": {},
   "outputs": [],
   "source": [
    "def LaborSupply(dlog_H,dlog_theta,curlyF):\n",
    "    dlog_Ls = curlyF @ dlog_theta + dlog_H\n",
    "    return dlog_Ls\n",
    "    \n",
    "def LaborDemand2(dlog_w, dlog_y, dlog_p, dlog_epsN, l):\n",
    "    O = dlog_w.shape[0]\n",
    "    J = dlog_y.shape[0]\n",
    "    dlog_Ld = np.zeros((O,1))\n",
    "    for o in range(O):\n",
    "        for i in range(J):\n",
    "            dlog_Ld[o,:] = dlog_Ld[o,:] + l[i,o]/np.sum(l[:,o]) * (dlog_epsN[i,o]  + dlog_y[i,:] + dlog_p[i,:] - dlog_w[o,:])\n",
    "    return dlog_Ld\n",
    "\n",
    "def LaborDemand(dlog_w, dlog_y, dlog_p, dlog_epsN, curlyL):\n",
    "    O = dlog_w.shape[0]\n",
    "    dlog_Ld = curlyL @ (dlog_p + dlog_y) + np.diag(curlyL @ dlog_epsN).reshape((O,1)) - dlog_w\n",
    "    return dlog_Ld"
   ]
  },
  {
   "cell_type": "markdown",
   "metadata": {},
   "source": [
    "Consistency requires\n",
    "\\begin{align*}\n",
    "    d\\log \\bm{L^d} - d\\log\\bm{L^s} = 0\n",
    "\\end{align*}"
   ]
  },
  {
   "cell_type": "code",
   "execution_count": 73,
   "metadata": {},
   "outputs": [
    {
     "data": {
      "text/plain": [
       "array([[0.0000000e+00],\n",
       "       [8.8817842e-16]])"
      ]
     },
     "execution_count": 73,
     "metadata": {},
     "output_type": "execute_result"
    }
   ],
   "source": [
    "LaborDemand2(dlog_w, dlog_y, dlog_p, dlog_epsN, l) - LaborSupply(dlog_H,dlog_theta,curlyF)"
   ]
  },
  {
   "cell_type": "code",
   "execution_count": 74,
   "metadata": {},
   "outputs": [
    {
     "data": {
      "text/plain": [
       "array([[0.0000000e+00],\n",
       "       [8.8817842e-16]])"
      ]
     },
     "execution_count": 74,
     "metadata": {},
     "output_type": "execute_result"
    }
   ],
   "source": [
    "LaborDemand(dlog_w, dlog_y, dlog_p, dlog_epsN, curlyL) - LaborSupply(dlog_H,dlog_theta,curlyF)"
   ]
  },
  {
   "attachments": {},
   "cell_type": "markdown",
   "metadata": {},
   "source": [
    "The aggregate response of output to technology and labor supply shocks is given by \n",
    "\\begin{align}\n",
    "   d\\log Y = \\bm{\\varepsilon^{\\mathcal{D}}_{c}}' \\left[ d\\log \\bm{\\varepsilon^{\\mathcal{D}}_{c}}+d\\log\\bm{y}-d\\log\\bm{\\lambda}\\right] \\tag{7}\n",
    "\\end{align}"
   ]
  },
  {
   "cell_type": "code",
   "execution_count": 79,
   "metadata": {},
   "outputs": [],
   "source": [
    "def AggOutputFunc(dlog_y, dlog_lam, dlog_epsD, epsD):\n",
    "    dlog_aggY = epsD.T @ (dlog_epsD + dlog_y - dlog_lam)\n",
    "    return dlog_aggY"
   ]
  },
  {
   "attachments": {},
   "cell_type": "markdown",
   "metadata": {},
   "source": [
    "Assuming Cobb-Douglas, $d\\log\\bm{\\varepsilon^{\\mathcal{D}}_{c}}=0$. "
   ]
  },
  {
   "cell_type": "code",
   "execution_count": 81,
   "metadata": {},
   "outputs": [
    {
     "data": {
      "text/plain": [
       "array([[4.13797772]])"
      ]
     },
     "execution_count": 81,
     "metadata": {},
     "output_type": "execute_result"
    }
   ],
   "source": [
    "dlog_epsD = np.zeros_like(dlog_y)\n",
    "dlog_aggY = AggOutputFunc(dlog_y, dlog_lam, dlog_epsD, epsD)\n",
    "dlog_aggY"
   ]
  },
  {
   "attachments": {},
   "cell_type": "markdown",
   "metadata": {},
   "source": [
    "## Special case with one occupation per sector\n",
    "Basic setup."
   ]
  },
  {
   "cell_type": "code",
   "execution_count": 75,
   "metadata": {},
   "outputs": [
    {
     "data": {
      "text/plain": [
       "array([1., 1., 1., 1.])"
      ]
     },
     "execution_count": 75,
     "metadata": {},
     "output_type": "execute_result"
    }
   ],
   "source": [
    "# Size of network\n",
    "J = 4 # number of sectors\n",
    "O = J # number of occupations\n",
    "\n",
    "# Sampling input-output matrix entries \n",
    "μ = np.zeros(J+O)\n",
    "Σ = np.eye(J+O)\n",
    "z_draws = np.random.multivariate_normal(μ, Σ, J+1)\n",
    "elasticity_draws = np.exp(z_draws)/np.sum(np.exp(z_draws),1).reshape((J+1,1))\n",
    "\n",
    "# Elasticities\n",
    "epsD = elasticity_draws[0,:-O]/np.sum(elasticity_draws[0,:-O])\n",
    "epsD = epsD.reshape(J,1)\n",
    "Omega = elasticity_draws[1:,:-O]\n",
    "Psi = np.linalg.inv(np.eye(J)-Omega)\n",
    "epsN = np.diag(np.sum(elasticity_draws[1:,J:],1))\n",
    "l = epsN\n",
    "\n",
    "# Drawing elasticity of matching function wrt to U\n",
    "ν = np.random.uniform(size=O)\n",
    "epsQ =  -ν.reshape((O,1))\n",
    "epsF = np.ones((O,1)) + epsQ\n",
    "epsQ = epsQ.reshape((O,1))\n",
    "epsF = epsF.reshape((O,1))\n",
    "curlyQ = np.diag(epsQ.flatten())\n",
    "curlyF =  np.diag(epsF.flatten())\n",
    "\n",
    "np.sum(Omega,1) + np.sum(epsN,1) # checking constant returns holds"
   ]
  },
  {
   "cell_type": "code",
   "execution_count": 76,
   "metadata": {},
   "outputs": [
    {
     "data": {
      "text/plain": [
       "array([[0.02319921, 0.        , 0.        , 0.        ],\n",
       "       [0.        , 0.00769664, 0.        , 0.        ],\n",
       "       [0.        , 0.        , 0.0038407 , 0.        ],\n",
       "       [0.        , 0.        , 0.        , 0.0154689 ]])"
      ]
     },
     "execution_count": 76,
     "metadata": {},
     "output_type": "execute_result"
    }
   ],
   "source": [
    "tau = np.random.uniform(low=0,high=0.046,size=(O,1))\n",
    "curlyT = np.diag(tau.flatten())\n",
    "curlyT"
   ]
  },
  {
   "attachments": {},
   "cell_type": "markdown",
   "metadata": {},
   "source": [
    "Wage changes."
   ]
  },
  {
   "cell_type": "code",
   "execution_count": 77,
   "metadata": {},
   "outputs": [
    {
     "data": {
      "text/plain": [
       "array([[0.],\n",
       "       [0.],\n",
       "       [0.],\n",
       "       [0.]])"
      ]
     },
     "execution_count": 77,
     "metadata": {},
     "output_type": "execute_result"
    }
   ],
   "source": [
    "# Wage elasticities\n",
    "epsW_A = np.random.uniform(low=0,high=2,size=(O,J))\n",
    "epsW_H = np.random.uniform(low=-2,high=0,size=(O,O))\n",
    "\n",
    "# Technology shocks\n",
    "dlog_A = 0.01*np.ones((J,1))\n",
    "dlog_H = 0.01*np.zeros((O,1))\n",
    "\n",
    "dlog_w = WageFunc(dlog_A, dlog_H, epsW_A, epsW_H)\n",
    "dlog_w = np.zeros_like(dlog_w)\n",
    "dlog_w"
   ]
  },
  {
   "attachments": {},
   "cell_type": "markdown",
   "metadata": {},
   "source": [
    "Changes in tightness."
   ]
  },
  {
   "cell_type": "code",
   "execution_count": 78,
   "metadata": {},
   "outputs": [
    {
     "ename": "TypeError",
     "evalue": "ThetaFunc() missing 1 required positional argument: 'epsN'",
     "output_type": "error",
     "traceback": [
      "\u001b[0;31m---------------------------------------------------------------------------\u001b[0m",
      "\u001b[0;31mTypeError\u001b[0m                                 Traceback (most recent call last)",
      "\u001b[1;32m/Users/finnschule/Dropbox/BrownPhD/2nd Year/2nd Semester/Empirical Macro/UnemploymentNetwork/new_code/Multiple_occupations_example_code.ipynb Cell 43\u001b[0m in \u001b[0;36m<cell line: 5>\u001b[0;34m()\u001b[0m\n\u001b[1;32m      <a href='vscode-notebook-cell:/Users/finnschule/Dropbox/BrownPhD/2nd%20Year/2nd%20Semester/Empirical%20Macro/UnemploymentNetwork/new_code/Multiple_occupations_example_code.ipynb#X56sZmlsZQ%3D%3D?line=1'>2</a>\u001b[0m curlyE \u001b[39m=\u001b[39m curlyEFunc(dlog_epsN,epsN)\n\u001b[1;32m      <a href='vscode-notebook-cell:/Users/finnschule/Dropbox/BrownPhD/2nd%20Year/2nd%20Semester/Empirical%20Macro/UnemploymentNetwork/new_code/Multiple_occupations_example_code.ipynb#X56sZmlsZQ%3D%3D?line=2'>3</a>\u001b[0m dlog_lam \u001b[39m=\u001b[39m np\u001b[39m.\u001b[39mzeros_like(dlog_A)\n\u001b[0;32m----> <a href='vscode-notebook-cell:/Users/finnschule/Dropbox/BrownPhD/2nd%20Year/2nd%20Semester/Empirical%20Macro/UnemploymentNetwork/new_code/Multiple_occupations_example_code.ipynb#X56sZmlsZQ%3D%3D?line=4'>5</a>\u001b[0m dlog_theta \u001b[39m=\u001b[39m ThetaFunc(dlog_A, dlog_H, dlog_w, dlog_epsN, dlog_lam, Psi, curlyF, curlyQ, curlyT, curlyE, l, epsN, num \u001b[39m=\u001b[39;49m \u001b[39m0\u001b[39;49m)\n\u001b[1;32m      <a href='vscode-notebook-cell:/Users/finnschule/Dropbox/BrownPhD/2nd%20Year/2nd%20Semester/Empirical%20Macro/UnemploymentNetwork/new_code/Multiple_occupations_example_code.ipynb#X56sZmlsZQ%3D%3D?line=5'>6</a>\u001b[0m dlog_theta\n",
      "\u001b[0;31mTypeError\u001b[0m: ThetaFunc() missing 1 required positional argument: 'epsN'"
     ]
    }
   ],
   "source": [
    "\n",
    "dlog_epsN = np.zeros((J,O))\n",
    "curlyE = curlyEFunc(dlog_epsN,epsN)\n",
    "dlog_lam = np.zeros_like(dlog_A)\n",
    "\n",
    "dlog_theta = ThetaFunc(dlog_A, dlog_H, dlog_w, dlog_epsN, dlog_lam, Psi, Omega, curlyF, curlyQ, curlyT, curlyE, curlyL, epsN, num=0)\n",
    "dlog_theta"
   ]
  },
  {
   "attachments": {},
   "cell_type": "markdown",
   "metadata": {},
   "source": [
    "Changes in prices."
   ]
  },
  {
   "cell_type": "code",
   "execution_count": null,
   "metadata": {},
   "outputs": [
    {
     "data": {
      "text/plain": [
       "array([[-1.70002901e-16],\n",
       "       [-1.60978718e-02],\n",
       "       [-2.21109558e-02],\n",
       "       [-8.86068649e-03]])"
      ]
     },
     "execution_count": 83,
     "metadata": {},
     "output_type": "execute_result"
    }
   ],
   "source": [
    "dlog_p = PriceFunc(dlog_A, dlog_w, dlog_theta, Psi, curlyQ, epsN, curlyT)\n",
    "dlog_p"
   ]
  },
  {
   "attachments": {},
   "cell_type": "markdown",
   "metadata": {},
   "source": [
    "Changes in Output."
   ]
  },
  {
   "cell_type": "code",
   "execution_count": null,
   "metadata": {},
   "outputs": [
    {
     "data": {
      "text/plain": [
       "array([[0.04055621],\n",
       "       [0.05665408],\n",
       "       [0.06266716],\n",
       "       [0.04941689]])"
      ]
     },
     "execution_count": 84,
     "metadata": {},
     "output_type": "execute_result"
    }
   ],
   "source": [
    "dlog_y = OutputFunc(dlog_A, dlog_H, dlog_theta, dlog_lam, Psi, curlyQ, curlyF, epsN, curlyT, curlyE)\n",
    "dlog_y"
   ]
  },
  {
   "attachments": {},
   "cell_type": "markdown",
   "metadata": {},
   "source": [
    "Checking results."
   ]
  },
  {
   "cell_type": "code",
   "execution_count": null,
   "metadata": {},
   "outputs": [
    {
     "data": {
      "text/plain": [
       "array([[0.04055621],\n",
       "       [0.04055621],\n",
       "       [0.04055621],\n",
       "       [0.04055621]])"
      ]
     },
     "execution_count": 85,
     "metadata": {},
     "output_type": "execute_result"
    }
   ],
   "source": [
    "dlog_p + dlog_y"
   ]
  },
  {
   "cell_type": "code",
   "execution_count": null,
   "metadata": {},
   "outputs": [
    {
     "data": {
      "text/plain": [
       "array([[-1.80411242e-16],\n",
       "       [ 0.00000000e+00],\n",
       "       [ 1.38777878e-17],\n",
       "       [ 0.00000000e+00]])"
      ]
     },
     "execution_count": 86,
     "metadata": {},
     "output_type": "execute_result"
    }
   ],
   "source": [
    "LaborDemand(dlog_w, dlog_y, dlog_p, dlog_epsN, l) - LaborSupply(dlog_H,dlog_theta,curlyF)"
   ]
  }
 ],
 "metadata": {
  "kernelspec": {
   "display_name": "Python 3 (ipykernel)",
   "language": "python",
   "name": "python3"
  },
  "language_info": {
   "codemirror_mode": {
    "name": "ipython",
    "version": 3
   },
   "file_extension": ".py",
   "mimetype": "text/x-python",
   "name": "python",
   "nbconvert_exporter": "python",
   "pygments_lexer": "ipython3",
   "version": "3.8.12"
  },
  "vscode": {
   "interpreter": {
    "hash": "fbfaa7553469519299698c7576cfa5da0b434ea4638d3b56a3f047f0de3b7cd5"
   }
  }
 },
 "nbformat": 4,
 "nbformat_minor": 4
}
