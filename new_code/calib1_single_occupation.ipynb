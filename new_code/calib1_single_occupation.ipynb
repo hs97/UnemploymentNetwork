{
 "cells": [
  {
   "cell_type": "code",
   "execution_count": 143,
   "metadata": {},
   "outputs": [],
   "source": [
    "import numpy as np\n",
    "import pandas as pd\n",
    "import functions.multi_occupation_network as multi_occupation_network\n",
    "import matplotlib.pyplot as plt"
   ]
  },
  {
   "attachments": {},
   "cell_type": "markdown",
   "metadata": {},
   "source": [
    "# Calibration Excersize 1: Single Occupation\n",
    "\n",
    "Suppose there is just one type of labor, in other words that $\\mathcal{O}=1$. We calibrate our model to mathc BEA input-output tables, and treat the residual, the part of production not accounted for by intermediate inputs, as the labor elasticity. "
   ]
  },
  {
   "cell_type": "code",
   "execution_count": 127,
   "metadata": {},
   "outputs": [],
   "source": [
    "data_dir = '../data/clean/'\n",
    "dfA      = pd.read_csv(data_dir + 'A.csv')\n",
    "dfParam  = pd.read_csv(data_dir + 'params.csv')\n",
    "dfLshare = pd.read_csv(data_dir + 'labor_share.csv')\n",
    "dfLabor_market_yearly= pd.read_csv(data_dir + 'labor_market_yearly.csv')\n",
    "dfLabor_market_yearly = dfLabor_market_yearly.sort_values(by=['year', 'BEA_sector'])\n",
    "dfLabor_market_yearly = dfLabor_market_yearly.dropna(axis=0)\n",
    "dfLabor_market_yearly = dfLabor_market_yearly[dfLabor_market_yearly['year'] == 2005]\n",
    "# reformatting parameters\n",
    "Omega = np.array(dfA.iloc[:, 1:], dtype='float64')\n",
    "Psi = np.linalg.inv(np.eye(Omega.shape[0])-Omega)\n",
    "J = Omega.shape[0]\n",
    "O = 1\n",
    "\n",
    "epsN = np.array(dfParam.α).reshape((J,O))\n",
    "epsD = np.array(dfParam.θ_alt).reshape((J,1))\n",
    "\n",
    "# labor market stats\n",
    "θ = dfLabor_market_yearly['v'].sum() / dfLabor_market_yearly['u'].sum() \n",
    "ν = np.ones(O) * 0.5\n",
    "curlyQ = np.diag(-ν)\n",
    "curlyF =  np.eye(O) + curlyQ\n",
    "r = 0.0282\n",
    "curlyT = np.diag(r / (θ**(-ν) - r))\n",
    "# NOTE: here I am picking the r so the τ's roughly look right. Down the line, we can calibrate τ directly from the data. \n",
    "# Also note that tightness is computed from unemployed workers, but in our model it should be computed from the whole work force.\n",
    "\n",
    "curlyL = np.array(dfLabor_market_yearly['e']/dfLabor_market_yearly['e'].sum()).reshape((O,J))\n"
   ]
  },
  {
   "attachments": {},
   "cell_type": "markdown",
   "metadata": {},
   "source": [
    "First, we define the shocks we are interested in to allow us to easily change these in the future, that is we define the vectors $d\\log\\bm{A}$ and $d\\log\\bm{H}$."
   ]
  },
  {
   "cell_type": "code",
   "execution_count": 128,
   "metadata": {},
   "outputs": [],
   "source": [
    "dlog_A = np.zeros((J, 1))\n",
    "dlog_A[3] = 0.01 \n",
    "dlog_H = np.zeros((O,1))"
   ]
  },
  {
   "attachments": {},
   "cell_type": "markdown",
   "metadata": {},
   "source": [
    "We assume Cobb-Douglas production and preferences."
   ]
  },
  {
   "cell_type": "code",
   "execution_count": 129,
   "metadata": {},
   "outputs": [],
   "source": [
    "dlog_lam = np.zeros_like(dlog_A)\n",
    "dlog_epsN = np.zeros_like(epsN)\n",
    "dlog_epsD = np.zeros_like(epsD)"
   ]
  },
  {
   "attachments": {},
   "cell_type": "markdown",
   "metadata": {},
   "source": [
    "Finally, we need to make some assumption about how wages change. We begin by assuming that wages net of sectoral employment weighted prices do not change in response to changes in either productivity or the labor force."
   ]
  },
  {
   "cell_type": "code",
   "execution_count": 130,
   "metadata": {},
   "outputs": [
    {
     "data": {
      "text/plain": [
       "array([[0.10656133, 0.02306299, 0.08647666, 0.36979604, 0.02282295,\n",
       "        0.21167203, 0.17416404, 0.11105386, 0.07859807, 0.11266754,\n",
       "        0.32066736, 0.06687355, 0.45518659, 0.15413244, 0.11495578,\n",
       "        0.07581048, 0.05211025]])"
      ]
     },
     "execution_count": 130,
     "metadata": {},
     "output_type": "execute_result"
    }
   ],
   "source": [
    "#epsW_A = np.zeros((O,J))\n",
    "gamma_A = 1\n",
    "gamma_H = 1\n",
    "epsW_A, epsW_H = multi_occupation_network.WageElasticityFunc(gamma_A, gamma_H, Psi, curlyL, epsN)\n",
    "epsW_A"
   ]
  },
  {
   "cell_type": "code",
   "execution_count": 131,
   "metadata": {},
   "outputs": [],
   "source": [
    "dlog_wR = multi_occupation_network.WageFunc(dlog_A, dlog_H, epsW_A, epsW_H)"
   ]
  },
  {
   "attachments": {},
   "cell_type": "markdown",
   "metadata": {},
   "source": [
    "With these pieces in hand, we can now estimate responses to tightness. For details, see the multiple occupations example code."
   ]
  },
  {
   "cell_type": "code",
   "execution_count": 132,
   "metadata": {},
   "outputs": [
    {
     "data": {
      "text/plain": [
       "array([[5.55111512e-17]])"
      ]
     },
     "execution_count": 132,
     "metadata": {},
     "output_type": "execute_result"
    }
   ],
   "source": [
    "curlyE = multi_occupation_network.curlyEFunc(dlog_epsN,epsN)\n",
    "dlog_theta = multi_occupation_network.ThetaFunc(dlog_A, dlog_H, dlog_wR, dlog_epsN, dlog_lam, Psi, Omega, curlyF, curlyQ, curlyT, curlyE, curlyL, epsN)\n",
    "dlog_theta"
   ]
  },
  {
   "cell_type": "code",
   "execution_count": 133,
   "metadata": {},
   "outputs": [
    {
     "data": {
      "text/plain": [
       "array([[ 0.00000000e+00],\n",
       "       [ 1.51291126e-05],\n",
       "       [-6.33827206e-03],\n",
       "       [-1.95856091e-02],\n",
       "       [ 2.42313346e-04],\n",
       "       [ 8.66557770e-04],\n",
       "       [-1.18828419e-04],\n",
       "       [-8.50104220e-05],\n",
       "       [-1.12048795e-03],\n",
       "       [-2.78191602e-03],\n",
       "       [-2.60782739e-03],\n",
       "       [-9.30805219e-04],\n",
       "       [ 1.69910558e-04],\n",
       "       [-1.10237000e-03],\n",
       "       [ 2.60390345e-04],\n",
       "       [-6.19598947e-04],\n",
       "       [ 3.98151742e-04]])"
      ]
     },
     "execution_count": 133,
     "metadata": {},
     "output_type": "execute_result"
    }
   ],
   "source": [
    "num = 0\n",
    "dlog_p = multi_occupation_network.PriceFunc(dlog_A, dlog_wR, dlog_theta, Psi, curlyQ, epsN, curlyT, curlyL, num=num)\n",
    "dlog_p"
   ]
  },
  {
   "cell_type": "code",
   "execution_count": 134,
   "metadata": {},
   "outputs": [
    {
     "data": {
      "text/plain": [
       "array([[0.00189839],\n",
       "       [0.00188326],\n",
       "       [0.00823666],\n",
       "       [0.021484  ],\n",
       "       [0.00165608],\n",
       "       [0.00103183],\n",
       "       [0.00201722],\n",
       "       [0.0019834 ],\n",
       "       [0.00301888],\n",
       "       [0.00468031],\n",
       "       [0.00450622],\n",
       "       [0.0028292 ],\n",
       "       [0.00172848],\n",
       "       [0.00300076],\n",
       "       [0.001638  ],\n",
       "       [0.00251799],\n",
       "       [0.00150024]])"
      ]
     },
     "execution_count": 134,
     "metadata": {},
     "output_type": "execute_result"
    }
   ],
   "source": [
    "dlog_y = multi_occupation_network.OutputFunc(dlog_A,dlog_H, dlog_theta, dlog_lam, Psi, Omega, curlyQ, curlyF, epsN, curlyT, curlyE)\n",
    "dlog_y"
   ]
  },
  {
   "attachments": {},
   "cell_type": "markdown",
   "metadata": {},
   "source": [
    "We can check labor market clearing holds."
   ]
  },
  {
   "cell_type": "code",
   "execution_count": 135,
   "metadata": {},
   "outputs": [
    {
     "data": {
      "text/plain": [
       "array([[8.67361738e-19]])"
      ]
     },
     "execution_count": 135,
     "metadata": {},
     "output_type": "execute_result"
    }
   ],
   "source": [
    "multi_occupation_network.LaborSupply(dlog_H, dlog_theta, curlyF) - multi_occupation_network.LaborDemand(dlog_wR, dlog_y, dlog_p, dlog_epsN, curlyL)"
   ]
  },
  {
   "attachments": {},
   "cell_type": "markdown",
   "metadata": {},
   "source": [
    "Finally, we can calculate changes in aggregate output."
   ]
  },
  {
   "cell_type": "code",
   "execution_count": 136,
   "metadata": {},
   "outputs": [
    {
     "data": {
      "text/plain": [
       "array([[0.00717491]])"
      ]
     },
     "execution_count": 136,
     "metadata": {},
     "output_type": "execute_result"
    }
   ],
   "source": [
    "dlog_aggY = multi_occupation_network.AggOutputFunc(dlog_y, dlog_lam, dlog_epsD, epsD)\n",
    "dlog_aggY"
   ]
  },
  {
   "attachments": {},
   "cell_type": "markdown",
   "metadata": {},
   "source": [
    "Since labor market frictions are the only source of inefficiency in our network economy, in the absence of labor market frictions our network economy is fully efficient. It is well known that Hulten's theorem holds in efficient network economies with Cobb-Douglas technology. We can therefore easily compare the implications of labor market frictions for aggregate output with the implications of the same technology shocks absent labor market frictions.  "
   ]
  },
  {
   "cell_type": "code",
   "execution_count": 137,
   "metadata": {},
   "outputs": [
    {
     "data": {
      "text/plain": [
       "array([[0.00717491]])"
      ]
     },
     "execution_count": 137,
     "metadata": {},
     "output_type": "execute_result"
    }
   ],
   "source": [
    "epsD.T @ Psi @ dlog_A"
   ]
  },
  {
   "attachments": {},
   "cell_type": "markdown",
   "metadata": {},
   "source": [
    "We can also compare sector level output changes with and without labor market frictions."
   ]
  },
  {
   "cell_type": "code",
   "execution_count": 138,
   "metadata": {},
   "outputs": [
    {
     "data": {
      "text/html": [
       "<div>\n",
       "<style scoped>\n",
       "    .dataframe tbody tr th:only-of-type {\n",
       "        vertical-align: middle;\n",
       "    }\n",
       "\n",
       "    .dataframe tbody tr th {\n",
       "        vertical-align: top;\n",
       "    }\n",
       "\n",
       "    .dataframe thead th {\n",
       "        text-align: right;\n",
       "    }\n",
       "</style>\n",
       "<table border=\"1\" class=\"dataframe\">\n",
       "  <thead>\n",
       "    <tr style=\"text-align: right;\">\n",
       "      <th></th>\n",
       "      <th>year</th>\n",
       "      <th>BEA_sector</th>\n",
       "      <th>v</th>\n",
       "      <th>u</th>\n",
       "      <th>e</th>\n",
       "      <th>U_yearly</th>\n",
       "    </tr>\n",
       "  </thead>\n",
       "  <tbody>\n",
       "    <tr>\n",
       "      <th>68</th>\n",
       "      <td>2005</td>\n",
       "      <td>Accommodation and food services</td>\n",
       "      <td>5428</td>\n",
       "      <td>9305</td>\n",
       "      <td>131070.7</td>\n",
       "      <td>78080.0</td>\n",
       "    </tr>\n",
       "    <tr>\n",
       "      <th>69</th>\n",
       "      <td>2005</td>\n",
       "      <td>Arts, entertainment, and recreation</td>\n",
       "      <td>806</td>\n",
       "      <td>1750</td>\n",
       "      <td>22687.8</td>\n",
       "      <td>78080.0</td>\n",
       "    </tr>\n",
       "    <tr>\n",
       "      <th>70</th>\n",
       "      <td>2005</td>\n",
       "      <td>Construction</td>\n",
       "      <td>1917</td>\n",
       "      <td>8384</td>\n",
       "      <td>88001.0</td>\n",
       "      <td>78080.0</td>\n",
       "    </tr>\n",
       "    <tr>\n",
       "      <th>71</th>\n",
       "      <td>2005</td>\n",
       "      <td>Durable goods</td>\n",
       "      <td>2519</td>\n",
       "      <td>5814</td>\n",
       "      <td>107450.0</td>\n",
       "      <td>78080.0</td>\n",
       "    </tr>\n",
       "    <tr>\n",
       "      <th>72</th>\n",
       "      <td>2005</td>\n",
       "      <td>Educational services</td>\n",
       "      <td>818</td>\n",
       "      <td>1565</td>\n",
       "      <td>34010.8</td>\n",
       "      <td>78080.0</td>\n",
       "    </tr>\n",
       "    <tr>\n",
       "      <th>73</th>\n",
       "      <td>2005</td>\n",
       "      <td>Finance and insurance</td>\n",
       "      <td>2990</td>\n",
       "      <td>2195</td>\n",
       "      <td>72225.7</td>\n",
       "      <td>78080.0</td>\n",
       "    </tr>\n",
       "    <tr>\n",
       "      <th>74</th>\n",
       "      <td>2005</td>\n",
       "      <td>Government</td>\n",
       "      <td>4783</td>\n",
       "      <td>6407</td>\n",
       "      <td>261649.0</td>\n",
       "      <td>78080.0</td>\n",
       "    </tr>\n",
       "    <tr>\n",
       "      <th>75</th>\n",
       "      <td>2005</td>\n",
       "      <td>Health care and social assistance</td>\n",
       "      <td>7156</td>\n",
       "      <td>5972</td>\n",
       "      <td>174427.7</td>\n",
       "      <td>78080.0</td>\n",
       "    </tr>\n",
       "    <tr>\n",
       "      <th>76</th>\n",
       "      <td>2005</td>\n",
       "      <td>Information</td>\n",
       "      <td>1318</td>\n",
       "      <td>1962</td>\n",
       "      <td>36733.0</td>\n",
       "      <td>78080.0</td>\n",
       "    </tr>\n",
       "    <tr>\n",
       "      <th>77</th>\n",
       "      <td>2005</td>\n",
       "      <td>Mining</td>\n",
       "      <td>165</td>\n",
       "      <td>227</td>\n",
       "      <td>7528.0</td>\n",
       "      <td>78080.0</td>\n",
       "    </tr>\n",
       "    <tr>\n",
       "      <th>78</th>\n",
       "      <td>2005</td>\n",
       "      <td>Nondurable goods</td>\n",
       "      <td>1204</td>\n",
       "      <td>3910</td>\n",
       "      <td>63253.0</td>\n",
       "      <td>78080.0</td>\n",
       "    </tr>\n",
       "    <tr>\n",
       "      <th>79</th>\n",
       "      <td>2005</td>\n",
       "      <td>Other services, except government</td>\n",
       "      <td>1807</td>\n",
       "      <td>3607</td>\n",
       "      <td>64737.0</td>\n",
       "      <td>78080.0</td>\n",
       "    </tr>\n",
       "    <tr>\n",
       "      <th>80</th>\n",
       "      <td>2005</td>\n",
       "      <td>Professional and business services</td>\n",
       "      <td>9564</td>\n",
       "      <td>9510</td>\n",
       "      <td>203422.0</td>\n",
       "      <td>78080.0</td>\n",
       "    </tr>\n",
       "    <tr>\n",
       "      <th>81</th>\n",
       "      <td>2005</td>\n",
       "      <td>Real estate and rental and leasing</td>\n",
       "      <td>731</td>\n",
       "      <td>1065</td>\n",
       "      <td>25606.9</td>\n",
       "      <td>78080.0</td>\n",
       "    </tr>\n",
       "    <tr>\n",
       "      <th>82</th>\n",
       "      <td>2005</td>\n",
       "      <td>Retail trade</td>\n",
       "      <td>5354</td>\n",
       "      <td>11433</td>\n",
       "      <td>183372.2</td>\n",
       "      <td>78080.0</td>\n",
       "    </tr>\n",
       "    <tr>\n",
       "      <th>83</th>\n",
       "      <td>2005</td>\n",
       "      <td>Transportation and warehousing</td>\n",
       "      <td>1440</td>\n",
       "      <td>2788</td>\n",
       "      <td>52356.4</td>\n",
       "      <td>78080.0</td>\n",
       "    </tr>\n",
       "    <tr>\n",
       "      <th>84</th>\n",
       "      <td>2005</td>\n",
       "      <td>Wholesale trade</td>\n",
       "      <td>1755</td>\n",
       "      <td>2186</td>\n",
       "      <td>69146.5</td>\n",
       "      <td>78080.0</td>\n",
       "    </tr>\n",
       "  </tbody>\n",
       "</table>\n",
       "</div>"
      ],
      "text/plain": [
       "    year                           BEA_sector     v      u         e  U_yearly\n",
       "68  2005      Accommodation and food services  5428   9305  131070.7   78080.0\n",
       "69  2005  Arts, entertainment, and recreation   806   1750   22687.8   78080.0\n",
       "70  2005                         Construction  1917   8384   88001.0   78080.0\n",
       "71  2005                        Durable goods  2519   5814  107450.0   78080.0\n",
       "72  2005                 Educational services   818   1565   34010.8   78080.0\n",
       "73  2005                Finance and insurance  2990   2195   72225.7   78080.0\n",
       "74  2005                           Government  4783   6407  261649.0   78080.0\n",
       "75  2005    Health care and social assistance  7156   5972  174427.7   78080.0\n",
       "76  2005                          Information  1318   1962   36733.0   78080.0\n",
       "77  2005                               Mining   165    227    7528.0   78080.0\n",
       "78  2005                     Nondurable goods  1204   3910   63253.0   78080.0\n",
       "79  2005    Other services, except government  1807   3607   64737.0   78080.0\n",
       "80  2005   Professional and business services  9564   9510  203422.0   78080.0\n",
       "81  2005   Real estate and rental and leasing   731   1065   25606.9   78080.0\n",
       "82  2005                         Retail trade  5354  11433  183372.2   78080.0\n",
       "83  2005       Transportation and warehousing  1440   2788   52356.4   78080.0\n",
       "84  2005                      Wholesale trade  1755   2186   69146.5   78080.0"
      ]
     },
     "execution_count": 138,
     "metadata": {},
     "output_type": "execute_result"
    }
   ],
   "source": [
    "dfLabor_market_yearly"
   ]
  },
  {
   "attachments": {},
   "cell_type": "markdown",
   "metadata": {},
   "source": [
    "## Calibration figures \n",
    "\n",
    "### Aggregate importance of deviations from Hulten.\n",
    "\n",
    "To analyse the quantitative importance of deviations from Hulten's theorem, below we vary $\\gamma_A$ from 0 to 2, and plot the aggregate response to a 1\\% shock to durable goods."
   ]
  },
  {
   "cell_type": "code",
   "execution_count": 141,
   "metadata": {},
   "outputs": [],
   "source": [
    "N=1000\n",
    "gamma_a_vec = np.linspace(0,2,N)\n",
    "aggY_vec = np.zeros_like(gamma_a_vec)\n",
    "dlog_A = np.zeros((J, 1))\n",
    "dlog_A[3] = 0.01 \n",
    "dlog_H = np.zeros((O,1))\n",
    "curlyE = multi_occupation_network.curlyEFunc(dlog_epsN,epsN)\n",
    "\n",
    "\n",
    "for i in range(N):\n",
    "    epsW_A, epsW_H = multi_occupation_network.WageElasticityFunc(gamma_a_vec[i], 1, Psi, curlyL, epsN)\n",
    "    dlog_wR = multi_occupation_network.WageFunc(dlog_A, dlog_H, epsW_A, epsW_H)\n",
    "    dlog_theta = multi_occupation_network.ThetaFunc(dlog_A, dlog_H, dlog_wR, dlog_epsN, dlog_lam, Psi, Omega, curlyF, curlyQ, curlyT, curlyE, curlyL, epsN)\n",
    "    dlog_y = multi_occupation_network.OutputFunc(dlog_A,dlog_H, dlog_theta, dlog_lam, Psi, Omega, curlyQ, curlyF, epsN, curlyT, curlyE)\n",
    "    aggY_vec[i] = multi_occupation_network.AggOutputFunc(dlog_y, dlog_lam, dlog_epsD, epsD)"
   ]
  },
  {
   "cell_type": "code",
   "execution_count": 144,
   "metadata": {},
   "outputs": [
    {
     "data": {
      "text/plain": [
       "[<matplotlib.lines.Line2D at 0x7ff59093fb80>]"
      ]
     },
     "execution_count": 144,
     "metadata": {},
     "output_type": "execute_result"
    },
    {
     "data": {
      "image/png": "[encoded data removed]",
      "text/plain": [
       "<Figure size 432x288 with 1 Axes>"
      ]
     },
     "metadata": {
      "needs_background": "light"
     },
     "output_type": "display_data"
    }
   ],
   "source": [
    "plt.plot(gamma_a_vec,aggY_vec)"
   ]
  }
 ],
 "metadata": {
  "kernelspec": {
   "display_name": "base",
   "language": "python",
   "name": "python3"
  },
  "language_info": {
   "codemirror_mode": {
    "name": "ipython",
    "version": 3
   },
   "file_extension": ".py",
   "mimetype": "text/x-python",
   "name": "python",
   "nbconvert_exporter": "python",
   "pygments_lexer": "ipython3",
   "version": "3.8.12"
  },
  "orig_nbformat": 4
 },
 "nbformat": 4,
 "nbformat_minor": 2
}
