{
 "cells": [
  {
   "cell_type": "code",
   "execution_count": 1,
   "metadata": {},
   "outputs": [],
   "source": [
    "import numpy as np\n",
    "import pandas as pd\n",
    "import functions.multi_occupation_network as multi_occupation_network"
   ]
  },
  {
   "attachments": {},
   "cell_type": "markdown",
   "metadata": {},
   "source": [
    "# Calibration Excersize 1: Single Occupation\n",
    "\n",
    "Suppose there is just one type of labor, in other words that $\\mathcal{O}=1$. We calibrate our model to mathc BEA input-output tables, and treat the residual, the part of production not accounted for by intermediate inputs, as the labor elasticity. "
   ]
  },
  {
   "cell_type": "code",
   "execution_count": 2,
   "metadata": {},
   "outputs": [],
   "source": [
    "data_dir = '../data/clean/'\n",
    "dfA      = pd.read_csv(data_dir + 'A.csv')\n",
    "dfParam  = pd.read_csv(data_dir + 'params.csv')\n",
    "dfLshare = pd.read_csv(data_dir + 'labor_share.csv')\n",
    "dfLabor_market_yearly= pd.read_csv(data_dir + 'labor_market_yearly.csv')\n",
    "dfLabor_market_yearly = dfLabor_market_yearly.sort_values(by=['year', 'BEA_sector'])\n",
    "dfLabor_market_yearly = dfLabor_market_yearly.dropna(axis=0)\n",
    "dfLabor_market_yearly = dfLabor_market_yearly[dfLabor_market_yearly['year'] == 2005]\n",
    "# reformatting parameters\n",
    "Omega = np.array(dfA.iloc[:, 1:], dtype='float64')\n",
    "Psi = np.linalg.inv(np.eye(Omega.shape[0])-Omega)\n",
    "J = Omega.shape[0]\n",
    "O = 1\n",
    "\n",
    "epsN = np.array(dfParam.α).reshape((J,O))\n",
    "epsD = np.array(dfParam.θ_alt).reshape((J,1))\n",
    "\n",
    "# labor market stats\n",
    "θ = dfLabor_market_yearly['v'].sum() / dfLabor_market_yearly['u'].sum() \n",
    "ν = np.ones(O) * 0.5\n",
    "curlyQ = np.diag(-ν)\n",
    "curlyF =  np.eye(O) + curlyQ\n",
    "r = 0.0282\n",
    "curlyT = np.diag(r / (θ**(-ν) - r))\n",
    "# NOTE: here I am picking the r so the τ's roughly look right. Down the line, we can calibrate τ directly from the data. \n",
    "# Also note that tightness is computed from unemployed workers, but in our model it should be computed from the whole work force.\n",
    "\n",
    "curlyL = np.array(dfLabor_market_yearly['e']/dfLabor_market_yearly['e'].sum()).reshape((O,J))\n"
   ]
  },
  {
   "attachments": {},
   "cell_type": "markdown",
   "metadata": {},
   "source": [
    "First, we define the shocks we are interested in to allow us to easily change these in the future, that is we define the vectors $d\\log\\bm{A}$ and $d\\log\\bm{H}$."
   ]
  },
  {
   "cell_type": "code",
   "execution_count": 3,
   "metadata": {},
   "outputs": [],
   "source": [
    "dlog_A = np.zeros((J, 1))\n",
    "dlog_A[3] = 0.01 \n",
    "dlog_H = np.zeros((O,1))"
   ]
  },
  {
   "attachments": {},
   "cell_type": "markdown",
   "metadata": {},
   "source": [
    "We assume Cobb-Douglas production and preferences."
   ]
  },
  {
   "cell_type": "code",
   "execution_count": 4,
   "metadata": {},
   "outputs": [],
   "source": [
    "dlog_lam = np.zeros_like(dlog_A)\n",
    "dlog_epsN = np.zeros_like(epsN)\n",
    "dlog_epsD = np.zeros_like(epsD)"
   ]
  },
  {
   "attachments": {},
   "cell_type": "markdown",
   "metadata": {},
   "source": [
    "Finally, we need to make some assumption about how wages change. We begin by assuming that nominal wages do not change in respond to changes in either productivity or the labor force."
   ]
  },
  {
   "cell_type": "code",
   "execution_count": 5,
   "metadata": {},
   "outputs": [],
   "source": [
    "epsW_A = np.zeros((O,J))\n",
    "epsW_H = np.zeros((O,O))\n",
    "dlog_w = multi_occupation_network.WageFunc(dlog_A, dlog_H, epsW_A, epsW_H)"
   ]
  },
  {
   "attachments": {},
   "cell_type": "markdown",
   "metadata": {},
   "source": [
    "With these pieces in hand, we can now estimate responses to tightness. For details, see the multiple occupations example code."
   ]
  },
  {
   "cell_type": "code",
   "execution_count": 6,
   "metadata": {},
   "outputs": [
    {
     "data": {
      "text/plain": [
       "array([[0.16355163]])"
      ]
     },
     "execution_count": 6,
     "metadata": {},
     "output_type": "execute_result"
    }
   ],
   "source": [
    "curlyE = multi_occupation_network.curlyEFunc(dlog_epsN,epsN)\n",
    "num=1\n",
    "dlog_theta = multi_occupation_network.ThetaFunc(dlog_A, dlog_H, dlog_w, dlog_epsN, dlog_lam, Psi, Omega, curlyF, curlyQ, curlyT, curlyE, curlyL, epsN, num=num)\n",
    "dlog_theta"
   ]
  },
  {
   "cell_type": "code",
   "execution_count": 7,
   "metadata": {},
   "outputs": [
    {
     "data": {
      "text/plain": [
       "array([[-1.51291126e-05],\n",
       "       [-9.14698005e-15],\n",
       "       [-6.35340118e-03],\n",
       "       [-1.96007382e-02],\n",
       "       [ 2.27184233e-04],\n",
       "       [ 8.51428657e-04],\n",
       "       [-1.33957531e-04],\n",
       "       [-1.00139535e-04],\n",
       "       [-1.13561706e-03],\n",
       "       [-2.79704513e-03],\n",
       "       [-2.62295650e-03],\n",
       "       [-9.45934332e-04],\n",
       "       [ 1.54781445e-04],\n",
       "       [-1.11749911e-03],\n",
       "       [ 2.45261232e-04],\n",
       "       [-6.34728060e-04],\n",
       "       [ 3.83022630e-04]])"
      ]
     },
     "execution_count": 7,
     "metadata": {},
     "output_type": "execute_result"
    }
   ],
   "source": [
    "dlog_p = multi_occupation_network.PriceFunc(dlog_A, dlog_w, dlog_theta, Psi, curlyQ, epsN, curlyT)\n",
    "dlog_p"
   ]
  },
  {
   "cell_type": "code",
   "execution_count": 8,
   "metadata": {},
   "outputs": [
    {
     "data": {
      "text/plain": [
       "array([[0.08179094],\n",
       "       [0.08177582],\n",
       "       [0.08812922],\n",
       "       [0.10137655],\n",
       "       [0.08154863],\n",
       "       [0.08092439],\n",
       "       [0.08190977],\n",
       "       [0.08187596],\n",
       "       [0.08291143],\n",
       "       [0.08457286],\n",
       "       [0.08439877],\n",
       "       [0.08272175],\n",
       "       [0.08162103],\n",
       "       [0.08289331],\n",
       "       [0.08153055],\n",
       "       [0.08241054],\n",
       "       [0.08139279]])"
      ]
     },
     "execution_count": 8,
     "metadata": {},
     "output_type": "execute_result"
    }
   ],
   "source": [
    "dlog_y = multi_occupation_network.OutputFunc(dlog_A,dlog_H, dlog_theta, dlog_lam, Psi, Omega, curlyQ, curlyF, epsN, curlyT, curlyE)\n",
    "dlog_y"
   ]
  },
  {
   "cell_type": "code",
   "execution_count": 9,
   "metadata": {},
   "outputs": [
    {
     "data": {
      "text/plain": [
       "array([[0.08706747]])"
      ]
     },
     "execution_count": 9,
     "metadata": {},
     "output_type": "execute_result"
    }
   ],
   "source": [
    "dlog_aggY = multi_occupation_network.AggOutputFunc(dlog_y, dlog_lam, dlog_epsD, epsD)\n",
    "dlog_aggY"
   ]
  },
  {
   "cell_type": "code",
   "execution_count": 11,
   "metadata": {},
   "outputs": [
    {
     "data": {
      "text/plain": [
       "array([[0.00717491]])"
      ]
     },
     "execution_count": 11,
     "metadata": {},
     "output_type": "execute_result"
    }
   ],
   "source": [
    "epsD.T @ Psi @ dlog_A"
   ]
  }
 ],
 "metadata": {
  "kernelspec": {
   "display_name": "base",
   "language": "python",
   "name": "python3"
  },
  "language_info": {
   "codemirror_mode": {
    "name": "ipython",
    "version": 3
   },
   "file_extension": ".py",
   "mimetype": "text/x-python",
   "name": "python",
   "nbconvert_exporter": "python",
   "pygments_lexer": "ipython3",
   "version": "3.8.12"
  },
  "orig_nbformat": 4
 },
 "nbformat": 4,
 "nbformat_minor": 2
}
