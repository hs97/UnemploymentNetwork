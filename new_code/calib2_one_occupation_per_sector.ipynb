{
 "cells": [
  {
   "cell_type": "code",
   "execution_count": 1,
   "metadata": {},
   "outputs": [],
   "source": [
    "import numpy as np\n",
    "import pandas as pd\n",
    "import functions.multi_occupation_network as multi_occupation_network"
   ]
  },
  {
   "attachments": {},
   "cell_type": "markdown",
   "metadata": {},
   "source": [
    "# Calibration Excersize 2: One Occupation Per Sector\n",
    "\n",
    "Suppose there is one type of labor specific to each sector, in other words that $\\mathcal{O}=J$. We calibrate our model to mathc BEA input-output tables, and treat the residual, the part of production not accounted for by intermediate inputs, as the labor elasticity. "
   ]
  },
  {
   "cell_type": "code",
   "execution_count": 2,
   "metadata": {},
   "outputs": [],
   "source": [
    "data_dir = '../data/clean/'\n",
    "dfA      = pd.read_csv(data_dir + 'A.csv')\n",
    "dfParam  = pd.read_csv(data_dir + 'params.csv')\n",
    "dfLshare = pd.read_csv(data_dir + 'labor_share.csv')\n",
    "dfLabor_market_yearly= pd.read_csv(data_dir + 'labor_market_yearly.csv')\n",
    "dfLabor_market_yearly = dfLabor_market_yearly.sort_values(by=['year', 'BEA_sector'])\n",
    "dfLabor_market_yearly = dfLabor_market_yearly.dropna(axis=0)\n",
    "dfLabor_market_yearly = dfLabor_market_yearly[dfLabor_market_yearly['year'] == 2005]\n",
    "# reformatting parameters\n",
    "Omega = np.array(dfA.iloc[:, 1:], dtype='float64')\n",
    "Psi = np.linalg.inv(np.eye(Omega.shape[0])-Omega)\n",
    "J = Omega.shape[0]\n",
    "O = J\n",
    "\n",
    "φ = np.array(dfParam.φ)\n",
    "\n",
    "epsN = np.diag(np.array(dfParam.α))\n",
    "epsD = np.array(dfParam.θ_alt).reshape((J,1))\n",
    "\n",
    "θ = dfLabor_market_yearly['v'] / dfLabor_market_yearly['u'] \n",
    "ν = np.ones(J) * 0.5\n",
    "curlyQ = np.diag(-ν)\n",
    "curlyF =  np.eye(J) + curlyQ\n",
    "r = 0.045\n",
    "curlyT = np.diag(r / (φ*θ**(-ν) - r))\n",
    "# NOTE: here I am picking the r so the τ's roughly look right. Down the line, we can calibrate τ directly from the data. \n",
    "# Also note that tightness is computed from unemployed workers, but in our model it should be computed from the whole work force.\n",
    "curlyL = np.eye(J)"
   ]
  },
  {
   "attachments": {},
   "cell_type": "markdown",
   "metadata": {},
   "source": [
    "First, we define the shocks we are interested in to allow us to easily change these in the future, that is we define the vectors $d\\log\\bm{A}$ and $d\\log\\bm{H}$."
   ]
  },
  {
   "cell_type": "code",
   "execution_count": 3,
   "metadata": {},
   "outputs": [],
   "source": [
    "dlog_A = np.zeros((J, 1))\n",
    "dlog_A[3] = 0.01 \n",
    "dlog_H = np.zeros((O,1))"
   ]
  },
  {
   "attachments": {},
   "cell_type": "markdown",
   "metadata": {},
   "source": [
    "We assume Cobb-Douglas production and preferences."
   ]
  },
  {
   "cell_type": "code",
   "execution_count": 4,
   "metadata": {},
   "outputs": [],
   "source": [
    "dlog_lam = np.zeros_like(dlog_A)\n",
    "dlog_epsN = np.zeros_like(epsN)\n",
    "dlog_epsD = np.zeros_like(epsD)"
   ]
  },
  {
   "attachments": {},
   "cell_type": "markdown",
   "metadata": {},
   "source": [
    "Finally, we need to make some assumption about how wages change. We begin by assuming that nominal wages do not change in respond to changes in either productivity or the labor force."
   ]
  },
  {
   "cell_type": "code",
   "execution_count": 5,
   "metadata": {},
   "outputs": [],
   "source": [
    "epsW_A = np.zeros((O,J))\n",
    "epsW_H = np.zeros((O,O))\n",
    "dlog_wR = multi_occupation_network.WageFunc(dlog_A, dlog_H, epsW_A, epsW_H)"
   ]
  },
  {
   "attachments": {},
   "cell_type": "markdown",
   "metadata": {},
   "source": [
    "With these pieces in hand, we can now estimate responses to tightness. For details, see the multiple occupations example code."
   ]
  },
  {
   "cell_type": "code",
   "execution_count": 6,
   "metadata": {},
   "outputs": [
    {
     "data": {
      "text/plain": [
       "array([[0.25358101],\n",
       "       [0.2535073 ],\n",
       "       [0.30057066],\n",
       "       [0.33285749],\n",
       "       [0.2473364 ],\n",
       "       [0.23078661],\n",
       "       [0.24915762],\n",
       "       [0.24411318],\n",
       "       [0.25525792],\n",
       "       [0.26959477],\n",
       "       [0.27047053],\n",
       "       [0.2584406 ],\n",
       "       [0.24786359],\n",
       "       [0.25593014],\n",
       "       [0.25102185],\n",
       "       [0.25751229],\n",
       "       [0.24575877]])"
      ]
     },
     "execution_count": 6,
     "metadata": {},
     "output_type": "execute_result"
    }
   ],
   "source": [
    "curlyE = multi_occupation_network.curlyEFunc(dlog_epsN,epsN)\n",
    "dlog_theta = multi_occupation_network.ThetaFunc(dlog_A, dlog_H, dlog_wR, dlog_epsN, dlog_lam, Psi, Omega, curlyF, curlyQ, curlyT, curlyE, curlyL, epsN)\n",
    "dlog_theta"
   ]
  },
  {
   "cell_type": "code",
   "execution_count": 7,
   "metadata": {},
   "outputs": [
    {
     "ename": "TypeError",
     "evalue": "PriceFunc() missing 1 required positional argument: 'curlyL'",
     "output_type": "error",
     "traceback": [
      "\u001b[0;31m---------------------------------------------------------------------------\u001b[0m",
      "\u001b[0;31mTypeError\u001b[0m                                 Traceback (most recent call last)",
      "\u001b[1;32m/Users/finnschule/Dropbox/BrownPhD/2nd Year/2nd Semester/Empirical Macro/UnemploymentNetwork/new_code/calib2_one_occupation_per_sector.ipynb Cell 12\u001b[0m in \u001b[0;36m<cell line: 2>\u001b[0;34m()\u001b[0m\n\u001b[1;32m      <a href='vscode-notebook-cell:/Users/finnschule/Dropbox/BrownPhD/2nd%20Year/2nd%20Semester/Empirical%20Macro/UnemploymentNetwork/new_code/calib2_one_occupation_per_sector.ipynb#X14sZmlsZQ%3D%3D?line=0'>1</a>\u001b[0m num\u001b[39m=\u001b[39m\u001b[39m0\u001b[39m\n\u001b[0;32m----> <a href='vscode-notebook-cell:/Users/finnschule/Dropbox/BrownPhD/2nd%20Year/2nd%20Semester/Empirical%20Macro/UnemploymentNetwork/new_code/calib2_one_occupation_per_sector.ipynb#X14sZmlsZQ%3D%3D?line=1'>2</a>\u001b[0m dlog_p \u001b[39m=\u001b[39m multi_occupation_network\u001b[39m.\u001b[39;49mPriceFunc(dlog_A, dlog_wR, dlog_theta, Psi, curlyQ, epsN, curlyT, num\u001b[39m=\u001b[39;49mnum)\n\u001b[1;32m      <a href='vscode-notebook-cell:/Users/finnschule/Dropbox/BrownPhD/2nd%20Year/2nd%20Semester/Empirical%20Macro/UnemploymentNetwork/new_code/calib2_one_occupation_per_sector.ipynb#X14sZmlsZQ%3D%3D?line=2'>3</a>\u001b[0m dlog_p\n",
      "\u001b[0;31mTypeError\u001b[0m: PriceFunc() missing 1 required positional argument: 'curlyL'"
     ]
    }
   ],
   "source": [
    "num=0\n",
    "dlog_p = multi_occupation_network.PriceFunc(dlog_A, dlog_wR, dlog_theta, Psi, curlyQ, epsN, curlyT, curlyL, num=num)\n",
    "dlog_p"
   ]
  },
  {
   "cell_type": "code",
   "execution_count": null,
   "metadata": {},
   "outputs": [
    {
     "data": {
      "text/plain": [
       "array([[0.06447656],\n",
       "       [0.06457813],\n",
       "       [0.07104382],\n",
       "       [0.08366083],\n",
       "       [0.06381953],\n",
       "       [0.06205146],\n",
       "       [0.06378489],\n",
       "       [0.06339253],\n",
       "       [0.0647949 ],\n",
       "       [0.06710084],\n",
       "       [0.06695392],\n",
       "       [0.06518504],\n",
       "       [0.06400067],\n",
       "       [0.06514515],\n",
       "       [0.06430199],\n",
       "       [0.06487003],\n",
       "       [0.06369928]])"
      ]
     },
     "execution_count": 22,
     "metadata": {},
     "output_type": "execute_result"
    }
   ],
   "source": [
    "dlog_y = multi_occupation_network.OutputFunc(dlog_A,dlog_H, dlog_theta, dlog_lam, Psi, Omega, curlyQ, curlyF, epsN, curlyT, curlyE)\n",
    "dlog_y"
   ]
  },
  {
   "cell_type": "markdown",
   "metadata": {},
   "source": [
    "We can check labor market clearing holds."
   ]
  },
  {
   "cell_type": "code",
   "execution_count": null,
   "metadata": {},
   "outputs": [],
   "source": [
    "multi_occupation_network.LaborSupply(dlog_H, dlog_theta, curlyF) - multi_occupation_network.LaborDemand(dlog_wR, dlog_y, dlog_p, dlog_epsN, curlyL)"
   ]
  },
  {
   "attachments": {},
   "cell_type": "markdown",
   "metadata": {},
   "source": [
    "Aggregate output changes are."
   ]
  },
  {
   "cell_type": "code",
   "execution_count": null,
   "metadata": {},
   "outputs": [
    {
     "data": {
      "text/plain": [
       "array([[0.06924625]])"
      ]
     },
     "execution_count": 23,
     "metadata": {},
     "output_type": "execute_result"
    }
   ],
   "source": [
    "dlog_aggY = multi_occupation_network.AggOutputFunc(dlog_y, dlog_lam, dlog_epsD, epsD)\n",
    "dlog_aggY"
   ]
  },
  {
   "attachments": {},
   "cell_type": "markdown",
   "metadata": {},
   "source": [
    "Since labor market frictions are the only source of inefficiency in our network economy, in the absence of labor market frictions our network economy is fully efficient. It is well known that Hulten's theorem holds in efficient network economies with Cobb-Douglas technology. We can therefore easily compare the implications of labor market frictions for aggregate output with the implications of the same technology shocks absent labor market frictions.  "
   ]
  },
  {
   "cell_type": "code",
   "execution_count": null,
   "metadata": {},
   "outputs": [
    {
     "data": {
      "text/plain": [
       "array([[0.00717491]])"
      ]
     },
     "execution_count": 24,
     "metadata": {},
     "output_type": "execute_result"
    }
   ],
   "source": [
    "epsD.T @ Psi @ dlog_A"
   ]
  }
 ],
 "metadata": {
  "kernelspec": {
   "display_name": "base",
   "language": "python",
   "name": "python3"
  },
  "language_info": {
   "codemirror_mode": {
    "name": "ipython",
    "version": 3
   },
   "file_extension": ".py",
   "mimetype": "text/x-python",
   "name": "python",
   "nbconvert_exporter": "python",
   "pygments_lexer": "ipython3",
   "version": "3.8.12"
  },
  "orig_nbformat": 4
 },
 "nbformat": 4,
 "nbformat_minor": 2
}
