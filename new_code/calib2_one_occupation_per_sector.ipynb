{
 "cells": [
  {
   "cell_type": "code",
   "execution_count": 1,
   "metadata": {},
   "outputs": [],
   "source": [
    "import numpy as np\n",
    "import pandas as pd\n",
    "import functions.multi_occupation_network as multi_occupation_network\n",
    "from  functions.network_figures import bar_plot"
   ]
  },
  {
   "cell_type": "markdown",
   "metadata": {},
   "source": [
    "# Calibration Excersize 2: One Occupation Per Sector\n",
    "\n",
    "Suppose there is one type of labor specific to each sector, in other words that $\\mathcal{O}=J$. We calibrate our model to mathc BEA input-output tables, and treat the residual, the part of production not accounted for by intermediate inputs, as the labor elasticity. "
   ]
  },
  {
   "cell_type": "code",
   "execution_count": 2,
   "metadata": {},
   "outputs": [
    {
     "data": {
      "text/plain": [
       "0.02282143444747698"
      ]
     },
     "execution_count": 2,
     "metadata": {},
     "output_type": "execute_result"
    }
   ],
   "source": [
    "data_dir = '../data/clean/'\n",
    "dfA      = pd.read_csv(data_dir + 'A.csv')\n",
    "dfParam  = pd.read_csv(data_dir + 'params.csv')\n",
    "dfLshare = pd.read_csv(data_dir + 'labor_share.csv')\n",
    "dfLabor_market_yearly= pd.read_csv(data_dir + 'labor_market_yearly.csv')\n",
    "dfLabor_market_yearly = dfLabor_market_yearly.sort_values(by=['year', 'BEA_sector'])\n",
    "dfLabor_market_yearly = dfLabor_market_yearly.dropna(axis=0)\n",
    "dfLabor_market_yearly = dfLabor_market_yearly[dfLabor_market_yearly['year'] == 2005]\n",
    "# reformatting parameters\n",
    "Omega = np.array(dfA.iloc[:, 1:], dtype='float64')\n",
    "Psi = np.linalg.inv(np.eye(Omega.shape[0])-Omega)\n",
    "J = Omega.shape[0]\n",
    "O = J\n",
    "\n",
    "φ = np.array(dfParam.φ)\n",
    "\n",
    "epsN = np.diag(np.array(dfParam.α))\n",
    "epsD = np.array(dfParam.θ_alt).reshape((J,1))\n",
    "\n",
    "θ = dfLabor_market_yearly['v'] / dfLabor_market_yearly['u'] \n",
    "ν = np.ones(J) * 0.5\n",
    "curlyQ = np.diag(-ν)\n",
    "curlyF =  np.eye(J) + curlyQ\n",
    "r = 0.031\n",
    "curlyT = np.diag(r / (φ*θ**(-ν) - r))\n",
    "# NOTE: here I am picking the r so the τ's roughly look right. Down the line, we can calibrate τ directly from the data. \n",
    "# Also note that tightness is computed from unemployed workers, but in our model it should be computed from the whole work force.\n",
    "curlyL = np.eye(J)\n",
    "np.mean(np.diag(curlyT))"
   ]
  },
  {
   "cell_type": "markdown",
   "metadata": {},
   "source": [
    "## First, we define the shocks we are interested in to allow us to easily change these in the future, that is we define the vectors $d\\log\\bm{A}$ and $d\\log\\bm{H}$."
   ]
  },
  {
   "cell_type": "code",
   "execution_count": 3,
   "metadata": {},
   "outputs": [],
   "source": [
    "dlog_A = np.zeros((J, 1))\n",
    "dlog_A[3] = 0.01 \n",
    "dlog_H = np.zeros((O,1))"
   ]
  },
  {
   "cell_type": "markdown",
   "metadata": {},
   "source": [
    "We assume Cobb-Douglas production and preferences."
   ]
  },
  {
   "cell_type": "code",
   "execution_count": 4,
   "metadata": {},
   "outputs": [],
   "source": [
    "dlog_lam = np.zeros_like(dlog_A)\n",
    "dlog_epsN = np.zeros_like(epsN)\n",
    "dlog_epsD = np.zeros_like(epsD)"
   ]
  },
  {
   "cell_type": "markdown",
   "metadata": {},
   "source": [
    "Finally, we need to make some assumption about how wages change. We begin by assuming that nominal wages do not change in respond to changes in either productivity or the labor force."
   ]
  },
  {
   "cell_type": "code",
   "execution_count": 7,
   "metadata": {},
   "outputs": [],
   "source": [
    "#epsW_A = np.zeros((O,J))\n",
    "gamma_A = 0.95\n",
    "gamma_H = 1\n",
    "epsW_A, epsW_H = multi_occupation_network.WageElasticityFunc(gamma_A, gamma_H, Psi, curlyL, epsN)\n",
    "dlog_wR = multi_occupation_network.WageFunc(dlog_A, dlog_H, epsW_A, epsW_H)"
   ]
  },
  {
   "cell_type": "markdown",
   "metadata": {},
   "source": [
    "With these pieces in hand, we can now estimate responses to tightness. For details, see the multiple occupations example code."
   ]
  },
  {
   "cell_type": "code",
   "execution_count": 8,
   "metadata": {},
   "outputs": [
    {
     "data": {
      "text/plain": [
       "array([[0.01873109],\n",
       "       [0.0187259 ],\n",
       "       [0.0211201 ],\n",
       "       [0.02274948],\n",
       "       [0.01841278],\n",
       "       [0.01755929],\n",
       "       [0.01851135],\n",
       "       [0.01825069],\n",
       "       [0.01882182],\n",
       "       [0.01954432],\n",
       "       [0.01959109],\n",
       "       [0.01897922],\n",
       "       [0.01843889],\n",
       "       [0.0188471 ],\n",
       "       [0.0185996 ],\n",
       "       [0.01893261],\n",
       "       [0.01833148]])"
      ]
     },
     "execution_count": 8,
     "metadata": {},
     "output_type": "execute_result"
    }
   ],
   "source": [
    "curlyE = multi_occupation_network.curlyEFunc(dlog_epsN,epsN)\n",
    "dlog_theta = multi_occupation_network.ThetaFunc(dlog_A, dlog_H, dlog_wR, dlog_epsN, dlog_lam, Psi, Omega, curlyF, curlyQ, curlyT, curlyE, curlyL, epsN)\n",
    "dlog_theta"
   ]
  },
  {
   "cell_type": "code",
   "execution_count": 9,
   "metadata": {},
   "outputs": [
    {
     "data": {
      "text/plain": [
       "array([[ 0.00000000e+00],\n",
       "       [ 1.69707961e-05],\n",
       "       [-7.21586406e-03],\n",
       "       [-2.06155226e-02],\n",
       "       [ 3.89352938e-04],\n",
       "       [ 1.40913368e-03],\n",
       "       [-3.01725605e-06],\n",
       "       [ 1.59440494e-04],\n",
       "       [-1.10982775e-03],\n",
       "       [-3.04943482e-03],\n",
       "       [-2.90743447e-03],\n",
       "       [-1.00832861e-03],\n",
       "       [ 3.07518385e-04],\n",
       "       [-1.10525368e-03],\n",
       "       [ 3.13119201e-04],\n",
       "       [-6.89375516e-04],\n",
       "       [ 5.78052086e-04]])"
      ]
     },
     "execution_count": 9,
     "metadata": {},
     "output_type": "execute_result"
    }
   ],
   "source": [
    "num=0\n",
    "dlog_p = multi_occupation_network.PriceFunc(dlog_A, dlog_wR, dlog_theta, Psi, curlyQ, epsN, curlyT, curlyL, num=num)\n",
    "dlog_p"
   ]
  },
  {
   "cell_type": "code",
   "execution_count": 10,
   "metadata": {},
   "outputs": [
    {
     "data": {
      "text/plain": [
       "array([[0.01116902],\n",
       "       [0.01115205],\n",
       "       [0.01838488],\n",
       "       [0.03178454],\n",
       "       [0.01077966],\n",
       "       [0.00975988],\n",
       "       [0.01117203],\n",
       "       [0.01100958],\n",
       "       [0.01227885],\n",
       "       [0.01421845],\n",
       "       [0.01407645],\n",
       "       [0.01217735],\n",
       "       [0.0108615 ],\n",
       "       [0.01227427],\n",
       "       [0.0108559 ],\n",
       "       [0.01185839],\n",
       "       [0.01059097]])"
      ]
     },
     "execution_count": 10,
     "metadata": {},
     "output_type": "execute_result"
    }
   ],
   "source": [
    "dlog_y = multi_occupation_network.OutputFunc(dlog_A,dlog_H, dlog_theta, dlog_lam, Psi, Omega, curlyQ, curlyF, epsN, curlyT, curlyE)\n",
    "dlog_y"
   ]
  },
  {
   "cell_type": "markdown",
   "metadata": {},
   "source": [
    "We can check labor market clearing holds."
   ]
  },
  {
   "cell_type": "code",
   "execution_count": 11,
   "metadata": {},
   "outputs": [
    {
     "data": {
      "text/plain": [
       "array([[-3.98986399e-17],\n",
       "       [ 1.56125113e-17],\n",
       "       [ 0.00000000e+00],\n",
       "       [ 1.38777878e-17],\n",
       "       [ 1.73472348e-18],\n",
       "       [ 3.46944695e-18],\n",
       "       [-6.93889390e-18],\n",
       "       [-6.93889390e-18],\n",
       "       [-3.46944695e-18],\n",
       "       [ 1.21430643e-17],\n",
       "       [-2.25514052e-17],\n",
       "       [-2.60208521e-17],\n",
       "       [ 0.00000000e+00],\n",
       "       [-2.08166817e-17],\n",
       "       [-1.73472348e-17],\n",
       "       [-3.46944695e-18],\n",
       "       [-5.20417043e-18]])"
      ]
     },
     "execution_count": 11,
     "metadata": {},
     "output_type": "execute_result"
    }
   ],
   "source": [
    "multi_occupation_network.LaborSupply(dlog_H, dlog_theta, curlyF) - multi_occupation_network.LaborDemand(dlog_wR, dlog_y, dlog_p, dlog_epsN, curlyL)"
   ]
  },
  {
   "cell_type": "markdown",
   "metadata": {},
   "source": [
    "Aggregate output changes are."
   ]
  },
  {
   "cell_type": "code",
   "execution_count": 12,
   "metadata": {},
   "outputs": [
    {
     "data": {
      "text/plain": [
       "array([[0.01667662]])"
      ]
     },
     "execution_count": 12,
     "metadata": {},
     "output_type": "execute_result"
    }
   ],
   "source": [
    "dlog_aggY = multi_occupation_network.AggOutputFunc(dlog_y, dlog_lam, dlog_epsD, epsD)\n",
    "dlog_aggY"
   ]
  },
  {
   "cell_type": "markdown",
   "metadata": {},
   "source": [
    "Since labor market frictions are the only source of inefficiency in our network economy, in the absence of labor market frictions our network economy is fully efficient. It is well known that Hulten's theorem holds in efficient network economies with Cobb-Douglas technology. We can therefore easily compare the implications of labor market frictions for aggregate output with the implications of the same technology shocks absent labor market frictions.  "
   ]
  },
  {
   "cell_type": "code",
   "execution_count": 13,
   "metadata": {},
   "outputs": [
    {
     "data": {
      "text/plain": [
       "array([[0.00717491]])"
      ]
     },
     "execution_count": 13,
     "metadata": {},
     "output_type": "execute_result"
    }
   ],
   "source": [
    "epsD.T @ Psi @ dlog_A"
   ]
  },
  {
   "cell_type": "code",
   "execution_count": null,
   "metadata": {},
   "outputs": [],
   "source": [
    "dlog_wR + curlyL @ dlog_p"
   ]
  },
  {
   "cell_type": "code",
   "execution_count": 16,
   "metadata": {},
   "outputs": [
    {
     "name": "stdout",
     "output_type": "stream",
     "text": [
      "0.8\n",
      "[[0.04518172]]\n",
      "1.0\n",
      "[[0.00717491]]\n",
      "1.2\n",
      "[[-0.0308319]]\n"
     ]
    }
   ],
   "source": [
    "gamma_A_vec = np.array([0.8,1,1.2])\n",
    "sectorY_vec = np.zeros((J+1,3))\n",
    "for i in range(3):\n",
    "    epsW_A, epsW_H = multi_occupation_network.WageElasticityFunc(gamma_A_vec[i], 1, Psi, curlyL, epsN)\n",
    "    dlog_wR = multi_occupation_network.WageFunc(dlog_A, dlog_H, epsW_A, epsW_H)\n",
    "    dlog_theta = multi_occupation_network.ThetaFunc(dlog_A, dlog_H, dlog_wR, dlog_epsN, dlog_lam, Psi, Omega, curlyF, curlyQ, curlyT, curlyE, curlyL, epsN)\n",
    "    dlog_y = multi_occupation_network.OutputFunc(dlog_A,dlog_H, dlog_theta, dlog_lam, Psi, Omega, curlyQ, curlyF, epsN, curlyT, curlyE)\n",
    "    dlog_aggY = multi_occupation_network.AggOutputFunc(dlog_y, dlog_lam, dlog_epsD, epsD)\n",
    "    print(gamma_A_vec[i])\n",
    "    print(dlog_aggY)\n",
    "    sectorY_vec[:-1, i] = dlog_y.flatten()\n",
    "    sectorY_vec[-1, i] = multi_occupation_network.AggOutputFunc(dlog_y, dlog_lam, dlog_epsD, epsD)"
   ]
  },
  {
   "cell_type": "code",
   "execution_count": null,
   "metadata": {},
   "outputs": [],
   "source": [
    "sector_names = ['Food S', 'Rec', 'Const', 'Dur', 'Educ S', 'Fin', 'Gov', 'Health',\n",
    "           'Info', 'Mining', 'Nondur', 'Other S', 'Bus S', 'Real Est', 'Retail', 'Trans',\n",
    "           'Whsale', 'Agg Y']\n",
    "title = 'Response to 1% Technology Shock in Durables'\n",
    "xlab = ''\n",
    "ylab = '$\\Delta$ output (pct. points)'\n",
    "save_path = '../output/figures/durables_shock.png'\n",
    "labels = ['$\\gamma_{A} = 0.95$','$\\gamma_{A} = 1$','$\\gamma_{A} = 1.05$']\n",
    "bar_plot(100*sectorY_vec, sector_names, title, xlab, ylab, labels, save_path, rotation=30, fontsize=10, barWidth = 0.25, dpi=300)"
   ]
  },
  {
   "cell_type": "code",
   "execution_count": null,
   "metadata": {},
   "outputs": [],
   "source": []
  }
 ],
 "metadata": {
  "kernelspec": {
   "display_name": "Python 3 (ipykernel)",
   "language": "python",
   "name": "python3"
  },
  "language_info": {
   "codemirror_mode": {
    "name": "ipython",
    "version": 3
   },
   "file_extension": ".py",
   "mimetype": "text/x-python",
   "name": "python",
   "nbconvert_exporter": "python",
   "pygments_lexer": "ipython3",
   "version": "3.9.7"
  }
 },
 "nbformat": 4,
 "nbformat_minor": 4
}
