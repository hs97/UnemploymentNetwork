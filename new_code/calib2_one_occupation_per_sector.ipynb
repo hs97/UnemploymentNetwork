{
 "cells": [
  {
   "cell_type": "code",
   "execution_count": 1,
   "metadata": {},
   "outputs": [],
   "source": [
    "import numpy as np\n",
    "import pandas as pd\n",
    "import functions.multi_occupation_network as multi_occupation_network"
   ]
  },
  {
   "attachments": {},
   "cell_type": "markdown",
   "metadata": {},
   "source": [
    "# Calibration Excersize 2: One Occupation Per Sector\n",
    "\n",
    "Suppose there is one type of labor specific to each sector, in other words that $\\mathcal{O}=J$. We calibrate our model to mathc BEA input-output tables, and treat the residual, the part of production not accounted for by intermediate inputs, as the labor elasticity. "
   ]
  },
  {
   "cell_type": "code",
   "execution_count": 2,
   "metadata": {},
   "outputs": [],
   "source": [
    "data_dir = '../data/clean/'\n",
    "dfA      = pd.read_csv(data_dir + 'A.csv')\n",
    "dfParam  = pd.read_csv(data_dir + 'params.csv')\n",
    "dfLshare = pd.read_csv(data_dir + 'labor_share.csv')\n",
    "dfLabor_market_yearly= pd.read_csv(data_dir + 'labor_market_yearly.csv')\n",
    "dfLabor_market_yearly = dfLabor_market_yearly.sort_values(by=['year', 'BEA_sector'])\n",
    "dfLabor_market_yearly = dfLabor_market_yearly.dropna(axis=0)\n",
    "dfLabor_market_yearly = dfLabor_market_yearly[dfLabor_market_yearly['year'] == 2005]\n",
    "# reformatting parameters\n",
    "Omega = np.array(dfA.iloc[:, 1:], dtype='float64')\n",
    "Psi = np.linalg.inv(np.eye(Omega.shape[0])-Omega)\n",
    "J = Omega.shape[0]\n",
    "O = J\n",
    "\n",
    "φ = np.array(dfParam.φ)\n",
    "\n",
    "epsN = np.diag(np.array(dfParam.α))\n",
    "epsD = np.array(dfParam.θ_alt).reshape((J,1))\n",
    "\n",
    "θ = dfLabor_market_yearly['v'] / dfLabor_market_yearly['u'] \n",
    "ν = np.ones(J) * 0.5\n",
    "curlyQ = np.diag(-ν)\n",
    "curlyF =  np.eye(J) + curlyQ\n",
    "r = 0.045\n",
    "curlyT = np.diag(r / (φ*θ**(-ν) - r))\n",
    "# NOTE: here I am picking the r so the τ's roughly look right. Down the line, we can calibrate τ directly from the data. \n",
    "# Also note that tightness is computed from unemployed workers, but in our model it should be computed from the whole work force.\n",
    "curlyL = np.eye(J)"
   ]
  },
  {
   "attachments": {},
   "cell_type": "markdown",
   "metadata": {},
   "source": [
    "First, we define the shocks we are interested in to allow us to easily change these in the future, that is we define the vectors $d\\log\\bm{A}$ and $d\\log\\bm{H}$."
   ]
  },
  {
   "cell_type": "code",
   "execution_count": 3,
   "metadata": {},
   "outputs": [],
   "source": [
    "dlog_A = np.zeros((J, 1))\n",
    "dlog_A[3] = 0.01 \n",
    "dlog_H = np.zeros((O,1))"
   ]
  },
  {
   "attachments": {},
   "cell_type": "markdown",
   "metadata": {},
   "source": [
    "We assume Cobb-Douglas production and preferences."
   ]
  },
  {
   "cell_type": "code",
   "execution_count": 4,
   "metadata": {},
   "outputs": [],
   "source": [
    "dlog_lam = np.zeros_like(dlog_A)\n",
    "dlog_epsN = np.zeros_like(epsN)\n",
    "dlog_epsD = np.zeros_like(epsD)"
   ]
  },
  {
   "attachments": {},
   "cell_type": "markdown",
   "metadata": {},
   "source": [
    "Finally, we need to make some assumption about how wages change. We begin by assuming that nominal wages do not change in respond to changes in either productivity or the labor force."
   ]
  },
  {
   "cell_type": "code",
   "execution_count": 5,
   "metadata": {},
   "outputs": [],
   "source": [
    "epsW_A = np.zeros((O,J))\n",
    "epsW_H = np.zeros((O,O))\n",
    "dlog_w = multi_occupation_network.WageFunc(dlog_A, dlog_H, epsW_A, epsW_H)"
   ]
  },
  {
   "attachments": {},
   "cell_type": "markdown",
   "metadata": {},
   "source": [
    "With these pieces in hand, we can now estimate responses to tightness. For details, see the multiple occupations example code."
   ]
  },
  {
   "cell_type": "code",
   "execution_count": 11,
   "metadata": {},
   "outputs": [
    {
     "data": {
      "text/plain": [
       "array([[0.12895312],\n",
       "       [0.12895312],\n",
       "       [0.12895312],\n",
       "       [0.12895312],\n",
       "       [0.12895312],\n",
       "       [0.12895312],\n",
       "       [0.12895312],\n",
       "       [0.12895312],\n",
       "       [0.12895312],\n",
       "       [0.12895312],\n",
       "       [0.12895312],\n",
       "       [0.12895312],\n",
       "       [0.12895312],\n",
       "       [0.12895312],\n",
       "       [0.12895312],\n",
       "       [0.12895312],\n",
       "       [0.12895312]])"
      ]
     },
     "execution_count": 11,
     "metadata": {},
     "output_type": "execute_result"
    }
   ],
   "source": [
    "curlyE = multi_occupation_network.curlyEFunc(dlog_epsN,epsN)\n",
    "num=0\n",
    "dlog_theta = multi_occupation_network.ThetaFunc(dlog_A, dlog_H, dlog_w, dlog_epsN, dlog_lam, Psi, Omega, curlyF, curlyQ, curlyT, curlyE, curlyL, epsN, num=num)\n",
    "dlog_theta"
   ]
  },
  {
   "cell_type": "code",
   "execution_count": 12,
   "metadata": {},
   "outputs": [
    {
     "data": {
      "text/plain": [
       "array([[-4.39427141e-15],\n",
       "       [-1.01573258e-04],\n",
       "       [-6.56725591e-03],\n",
       "       [-1.91842683e-02],\n",
       "       [ 6.57029691e-04],\n",
       "       [ 2.42509693e-03],\n",
       "       [ 6.91665896e-04],\n",
       "       [ 1.08402680e-03],\n",
       "       [-3.18343466e-04],\n",
       "       [-2.62427516e-03],\n",
       "       [-2.47735813e-03],\n",
       "       [-7.08478726e-04],\n",
       "       [ 4.75894022e-04],\n",
       "       [-6.68593750e-04],\n",
       "       [ 1.74571192e-04],\n",
       "       [-3.93469975e-04],\n",
       "       [ 7.77278059e-04]])"
      ]
     },
     "execution_count": 12,
     "metadata": {},
     "output_type": "execute_result"
    }
   ],
   "source": [
    "dlog_p = multi_occupation_network.PriceFunc(dlog_A, dlog_w, dlog_theta, Psi, curlyQ, epsN, curlyT)\n",
    "dlog_p"
   ]
  },
  {
   "cell_type": "code",
   "execution_count": 13,
   "metadata": {},
   "outputs": [
    {
     "data": {
      "text/plain": [
       "array([[0.06447656],\n",
       "       [0.06457813],\n",
       "       [0.07104382],\n",
       "       [0.08366083],\n",
       "       [0.06381953],\n",
       "       [0.06205146],\n",
       "       [0.06378489],\n",
       "       [0.06339253],\n",
       "       [0.0647949 ],\n",
       "       [0.06710084],\n",
       "       [0.06695392],\n",
       "       [0.06518504],\n",
       "       [0.06400067],\n",
       "       [0.06514515],\n",
       "       [0.06430199],\n",
       "       [0.06487003],\n",
       "       [0.06369928]])"
      ]
     },
     "execution_count": 13,
     "metadata": {},
     "output_type": "execute_result"
    }
   ],
   "source": [
    "dlog_y = multi_occupation_network.OutputFunc(dlog_A,dlog_H, dlog_theta, dlog_lam, Psi, Omega, curlyQ, curlyF, epsN, curlyT, curlyE)\n",
    "dlog_y"
   ]
  },
  {
   "cell_type": "code",
   "execution_count": 14,
   "metadata": {},
   "outputs": [
    {
     "data": {
      "text/plain": [
       "array([0.06924625, 0.06924625, 0.06924625, 0.06924625, 0.06924625,\n",
       "       0.06924625, 0.06924625, 0.06924625, 0.06924625, 0.06924625,\n",
       "       0.06924625, 0.06924625, 0.06924625, 0.06924625, 0.06924625,\n",
       "       0.06924625, 0.06924625])"
      ]
     },
     "execution_count": 14,
     "metadata": {},
     "output_type": "execute_result"
    }
   ],
   "source": [
    "dlog_aggY = multi_occupation_network.AggOutputFunc(dlog_y, dlog_lam, dlog_epsD, epsD)\n",
    "dlog_aggY"
   ]
  },
  {
   "cell_type": "code",
   "execution_count": 10,
   "metadata": {},
   "outputs": [
    {
     "data": {
      "text/plain": [
       "array([0.00717491])"
      ]
     },
     "execution_count": 10,
     "metadata": {},
     "output_type": "execute_result"
    }
   ],
   "source": [
    "epsD.T @ Psi @ dlog_A"
   ]
  }
 ],
 "metadata": {
  "kernelspec": {
   "display_name": "base",
   "language": "python",
   "name": "python3"
  },
  "language_info": {
   "codemirror_mode": {
    "name": "ipython",
    "version": 3
   },
   "file_extension": ".py",
   "mimetype": "text/x-python",
   "name": "python",
   "nbconvert_exporter": "python",
   "pygments_lexer": "ipython3",
   "version": "3.8.12"
  },
  "orig_nbformat": 4
 },
 "nbformat": 4,
 "nbformat_minor": 2
}
