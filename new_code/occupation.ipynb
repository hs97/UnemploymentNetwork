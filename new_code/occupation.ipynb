{
 "cells": [
  {
   "cell_type": "code",
   "execution_count": 21,
   "id": "262e8108-281b-41d0-87ca-32c330102463",
   "metadata": {},
   "outputs": [],
   "source": [
    "import pandas as pd\n",
    "import seaborn as sns\n",
    "import matplotlib.pyplot as plt\n",
    "from matplotlib.colors import LogNorm, Normalize\n",
    "%matplotlib inline"
   ]
  },
  {
   "cell_type": "code",
   "execution_count": 22,
   "id": "46e8824a",
   "metadata": {},
   "outputs": [
    {
     "data": {
      "text/html": [
       "<div>\n",
       "<style scoped>\n",
       "    .dataframe tbody tr th:only-of-type {\n",
       "        vertical-align: middle;\n",
       "    }\n",
       "\n",
       "    .dataframe tbody tr th {\n",
       "        vertical-align: top;\n",
       "    }\n",
       "\n",
       "    .dataframe thead th {\n",
       "        text-align: right;\n",
       "    }\n",
       "</style>\n",
       "<table border=\"1\" class=\"dataframe\">\n",
       "  <thead>\n",
       "    <tr style=\"text-align: right;\">\n",
       "      <th></th>\n",
       "      <th>NAICS_TITLE</th>\n",
       "      <th>OCC_CODE</th>\n",
       "      <th>OCC_TITLE</th>\n",
       "      <th>TOT_EMP</th>\n",
       "      <th>WL</th>\n",
       "      <th>NAICS</th>\n",
       "      <th>A_MEAN</th>\n",
       "      <th>EMP_PCT</th>\n",
       "      <th>WL_PCT</th>\n",
       "    </tr>\n",
       "  </thead>\n",
       "  <tbody>\n",
       "    <tr>\n",
       "      <th>0</th>\n",
       "      <td>Dur</td>\n",
       "      <td>11-0000</td>\n",
       "      <td>Management Occupations</td>\n",
       "      <td>489090.0</td>\n",
       "      <td>6.807169e+10</td>\n",
       "      <td>33DG</td>\n",
       "      <td>NaN</td>\n",
       "      <td>0.054893</td>\n",
       "      <td>0.148072</td>\n",
       "    </tr>\n",
       "    <tr>\n",
       "      <th>1</th>\n",
       "      <td>Dur</td>\n",
       "      <td>13-0000</td>\n",
       "      <td>Business and Financial Operations Occupations</td>\n",
       "      <td>394910.0</td>\n",
       "      <td>3.311763e+10</td>\n",
       "      <td>33DG</td>\n",
       "      <td>NaN</td>\n",
       "      <td>0.044315</td>\n",
       "      <td>0.072038</td>\n",
       "    </tr>\n",
       "    <tr>\n",
       "      <th>2</th>\n",
       "      <td>Dur</td>\n",
       "      <td>15-0000</td>\n",
       "      <td>Computer and Mathematical Occupations</td>\n",
       "      <td>245210.0</td>\n",
       "      <td>2.780173e+10</td>\n",
       "      <td>33DG</td>\n",
       "      <td>NaN</td>\n",
       "      <td>0.053101</td>\n",
       "      <td>0.060475</td>\n",
       "    </tr>\n",
       "    <tr>\n",
       "      <th>3</th>\n",
       "      <td>Dur</td>\n",
       "      <td>17-0000</td>\n",
       "      <td>Architecture and Engineering Occupations</td>\n",
       "      <td>641020.0</td>\n",
       "      <td>5.878731e+10</td>\n",
       "      <td>33DG</td>\n",
       "      <td>NaN</td>\n",
       "      <td>0.266314</td>\n",
       "      <td>0.127876</td>\n",
       "    </tr>\n",
       "    <tr>\n",
       "      <th>4</th>\n",
       "      <td>Dur</td>\n",
       "      <td>19-0000</td>\n",
       "      <td>Life, Physical, and Social Science Occupations</td>\n",
       "      <td>31470.0</td>\n",
       "      <td>2.491280e+09</td>\n",
       "      <td>33DG</td>\n",
       "      <td>NaN</td>\n",
       "      <td>0.024924</td>\n",
       "      <td>0.005419</td>\n",
       "    </tr>\n",
       "    <tr>\n",
       "      <th>...</th>\n",
       "      <td>...</td>\n",
       "      <td>...</td>\n",
       "      <td>...</td>\n",
       "      <td>...</td>\n",
       "      <td>...</td>\n",
       "      <td>...</td>\n",
       "      <td>...</td>\n",
       "      <td>...</td>\n",
       "      <td>...</td>\n",
       "    </tr>\n",
       "    <tr>\n",
       "      <th>15499</th>\n",
       "      <td>Federal, State, and Local Government, excludin...</td>\n",
       "      <td>45-0000</td>\n",
       "      <td>Farming, Fishing, and Forestry Occupations</td>\n",
       "      <td>20570.0</td>\n",
       "      <td>9.248272e+08</td>\n",
       "      <td>99</td>\n",
       "      <td>44960.0</td>\n",
       "      <td>0.046022</td>\n",
       "      <td>0.001410</td>\n",
       "    </tr>\n",
       "    <tr>\n",
       "      <th>15516</th>\n",
       "      <td>Federal, State, and Local Government, excludin...</td>\n",
       "      <td>47-0000</td>\n",
       "      <td>Construction and Extraction Occupations</td>\n",
       "      <td>444400.0</td>\n",
       "      <td>2.402871e+10</td>\n",
       "      <td>99</td>\n",
       "      <td>54070.0</td>\n",
       "      <td>0.075979</td>\n",
       "      <td>0.036630</td>\n",
       "    </tr>\n",
       "    <tr>\n",
       "      <th>15589</th>\n",
       "      <td>Federal, State, and Local Government, excludin...</td>\n",
       "      <td>49-0000</td>\n",
       "      <td>Installation, Maintenance, and Repair Occupations</td>\n",
       "      <td>411030.0</td>\n",
       "      <td>2.368766e+10</td>\n",
       "      <td>99</td>\n",
       "      <td>57630.0</td>\n",
       "      <td>0.073735</td>\n",
       "      <td>0.036110</td>\n",
       "    </tr>\n",
       "    <tr>\n",
       "      <th>15652</th>\n",
       "      <td>Federal, State, and Local Government, excludin...</td>\n",
       "      <td>51-0000</td>\n",
       "      <td>Production Occupations</td>\n",
       "      <td>167960.0</td>\n",
       "      <td>9.936514e+09</td>\n",
       "      <td>99</td>\n",
       "      <td>59160.0</td>\n",
       "      <td>0.019976</td>\n",
       "      <td>0.015148</td>\n",
       "    </tr>\n",
       "    <tr>\n",
       "      <th>15752</th>\n",
       "      <td>Federal, State, and Local Government, excludin...</td>\n",
       "      <td>53-0000</td>\n",
       "      <td>Transportation and Material Moving Occupations</td>\n",
       "      <td>386880.0</td>\n",
       "      <td>2.193996e+10</td>\n",
       "      <td>99</td>\n",
       "      <td>56710.0</td>\n",
       "      <td>0.030608</td>\n",
       "      <td>0.033446</td>\n",
       "    </tr>\n",
       "  </tbody>\n",
       "</table>\n",
       "<p>436 rows × 9 columns</p>\n",
       "</div>"
      ],
      "text/plain": [
       "                                             NAICS_TITLE OCC_CODE  \\\n",
       "0                                                    Dur  11-0000   \n",
       "1                                                    Dur  13-0000   \n",
       "2                                                    Dur  15-0000   \n",
       "3                                                    Dur  17-0000   \n",
       "4                                                    Dur  19-0000   \n",
       "...                                                  ...      ...   \n",
       "15499  Federal, State, and Local Government, excludin...  45-0000   \n",
       "15516  Federal, State, and Local Government, excludin...  47-0000   \n",
       "15589  Federal, State, and Local Government, excludin...  49-0000   \n",
       "15652  Federal, State, and Local Government, excludin...  51-0000   \n",
       "15752  Federal, State, and Local Government, excludin...  53-0000   \n",
       "\n",
       "                                               OCC_TITLE   TOT_EMP  \\\n",
       "0                                 Management Occupations  489090.0   \n",
       "1          Business and Financial Operations Occupations  394910.0   \n",
       "2                  Computer and Mathematical Occupations  245210.0   \n",
       "3               Architecture and Engineering Occupations  641020.0   \n",
       "4         Life, Physical, and Social Science Occupations   31470.0   \n",
       "...                                                  ...       ...   \n",
       "15499         Farming, Fishing, and Forestry Occupations   20570.0   \n",
       "15516            Construction and Extraction Occupations  444400.0   \n",
       "15589  Installation, Maintenance, and Repair Occupations  411030.0   \n",
       "15652                             Production Occupations  167960.0   \n",
       "15752     Transportation and Material Moving Occupations  386880.0   \n",
       "\n",
       "                 WL NAICS   A_MEAN   EMP_PCT    WL_PCT  \n",
       "0      6.807169e+10  33DG      NaN  0.054893  0.148072  \n",
       "1      3.311763e+10  33DG      NaN  0.044315  0.072038  \n",
       "2      2.780173e+10  33DG      NaN  0.053101  0.060475  \n",
       "3      5.878731e+10  33DG      NaN  0.266314  0.127876  \n",
       "4      2.491280e+09  33DG      NaN  0.024924  0.005419  \n",
       "...             ...   ...      ...       ...       ...  \n",
       "15499  9.248272e+08    99  44960.0  0.046022  0.001410  \n",
       "15516  2.402871e+10    99  54070.0  0.075979  0.036630  \n",
       "15589  2.368766e+10    99  57630.0  0.073735  0.036110  \n",
       "15652  9.936514e+09    99  59160.0  0.019976  0.015148  \n",
       "15752  2.193996e+10    99  56710.0  0.030608  0.033446  \n",
       "\n",
       "[436 rows x 9 columns]"
      ]
     },
     "execution_count": 22,
     "metadata": {},
     "output_type": "execute_result"
    }
   ],
   "source": [
    "occ_by_ind"
   ]
  },
  {
   "cell_type": "code",
   "execution_count": 23,
   "id": "9f78ca04-9c34-432f-b978-d50e43574d20",
   "metadata": {},
   "outputs": [],
   "source": [
    "occ_by_ind = pd.read_excel(\"../data/OES/natsector_M2021_dl.xlsx\")\n",
    "# A lot of total employment and wage estimates for \"major\" are showing up as unavailable. At some point we need \n",
    "# to estimate them from more granular occupation data\n",
    "occ_by_ind = occ_by_ind[occ_by_ind['O_GROUP'] == 'major'][['NAICS', 'NAICS_TITLE', \"OCC_CODE\", \"OCC_TITLE\", \"TOT_EMP\", \"A_MEAN\"]]\n",
    "occ_by_ind.loc[:, 'TOT_EMP'] = pd.to_numeric(occ_by_ind['TOT_EMP'], errors='coerce').fillna(0)\n",
    "occ_by_ind.loc[:, 'A_MEAN'] = pd.to_numeric(occ_by_ind['A_MEAN'], errors='coerce').fillna(0)\n",
    "occ_by_ind.loc[:, \"WL\"] = occ_by_ind.loc[:, 'TOT_EMP'] * occ_by_ind.loc[:, 'A_MEAN']\n",
    "# Take out manufacturing and put in durable and nondurable manufacturing\n",
    "occ_by_ind = occ_by_ind[occ_by_ind['NAICS'] != '31-33']"
   ]
  },
  {
   "cell_type": "code",
   "execution_count": 24,
   "id": "f1db7ce8-3d78-4d80-b3ab-10adfbc6a326",
   "metadata": {},
   "outputs": [],
   "source": [
    "manu_dict = {'Nondur': list(range(311, 317)) + list(range(322, 327)),\n",
    "             'Dur': [321, 327, 339] + list(range(331, 338))}\n",
    "occ_3d = pd.read_excel(\"../data/OES/nat3d_M2021_dl.xlsx\")\n",
    "occ_3d = occ_3d[occ_3d['O_GROUP'] == 'major'][['NAICS', 'NAICS_TITLE', \"OCC_CODE\", \"OCC_TITLE\", \"TOT_EMP\", \"A_MEAN\"]]\n",
    "occ_3d.loc[:, 'TOT_EMP'] = pd.to_numeric(occ_3d['TOT_EMP'], errors='coerce').fillna(0)\n",
    "occ_3d.loc[:, 'A_MEAN'] = pd.to_numeric(occ_3d['A_MEAN'], errors='coerce').fillna(0)\n",
    "occ_3d.loc[:, 'NAICS'] = occ_3d['NAICS'] // 1000\n",
    "\n",
    "# Helper for retrieving industry names\n",
    "def helper(x, manu_dict):\n",
    "    for k, v in manu_dict.items():\n",
    "        if x in v:\n",
    "            return k\n",
    "        else:\n",
    "            None\n",
    "occ_3d.loc[:, 'NAICS_TITLE'] = occ_3d['NAICS'].apply(lambda x: helper(x, manu_dict)).dropna()\n",
    "occ_3d.loc[:, \"WL\"] = occ_3d.loc[:, 'TOT_EMP'] * occ_3d.loc[:, 'A_MEAN']"
   ]
  },
  {
   "cell_type": "code",
   "execution_count": 25,
   "id": "a9d9e672-ef3e-4533-b6ae-8c7d47404b9c",
   "metadata": {},
   "outputs": [],
   "source": [
    "# aggregate 3-digit sectors to durable and nondurable and compute total employment and wage expenditures\n",
    "occ_manu = occ_3d.dropna(subset=['NAICS_TITLE']).groupby(['NAICS_TITLE', 'OCC_CODE', 'OCC_TITLE']).agg({'TOT_EMP':'sum','WL':'sum'}).reset_index()\n",
    "# assign naics codes\n",
    "occ_manu.loc[:, \"NAICS\"] = occ_manu['NAICS_TITLE'].transform(lambda x: '33DG' if x == 'Dur' else '31ND')\n",
    "occ_by_ind = pd.concat([occ_manu, occ_by_ind])\n",
    "# compute employment share and wage expenditure share. Here the wage expenditure shares are not normalized by labor shares\n",
    "occ_by_ind.loc[:, 'EMP_PCT'] = occ_by_ind['TOT_EMP']/occ_by_ind.groupby('OCC_CODE')['TOT_EMP'].transform(sum)\n",
    "occ_by_ind.loc[:, 'WL_PCT'] = occ_by_ind['WL']/occ_by_ind.groupby('NAICS_TITLE')['WL'].transform(sum)\n",
    "curlyL = occ_by_ind.pivot_table(columns=['OCC_TITLE'], index=['NAICS_TITLE'], values='EMP_PCT').fillna(0)\n",
    "epsN = occ_by_ind.pivot_table(columns=['OCC_TITLE'], index=['NAICS_TITLE'], values='WL_PCT').fillna(0)"
   ]
  },
  {
   "cell_type": "code",
   "execution_count": 26,
   "id": "a65aec91",
   "metadata": {},
   "outputs": [
    {
     "data": {
      "text/plain": [
       "array(['Management Occupations',\n",
       "       'Business and Financial Operations Occupations',\n",
       "       'Computer and Mathematical Occupations',\n",
       "       'Architecture and Engineering Occupations',\n",
       "       'Life, Physical, and Social Science Occupations',\n",
       "       'Community and Social Service Occupations', 'Legal Occupations',\n",
       "       'Educational Instruction and Library Occupations',\n",
       "       'Arts, Design, Entertainment, Sports, and Media Occupations',\n",
       "       'Healthcare Practitioners and Technical Occupations',\n",
       "       'Healthcare Support Occupations', 'Protective Service Occupations',\n",
       "       'Food Preparation and Serving Related Occupations',\n",
       "       'Building and Grounds Cleaning and Maintenance Occupations',\n",
       "       'Personal Care and Service Occupations',\n",
       "       'Sales and Related Occupations',\n",
       "       'Office and Administrative Support Occupations',\n",
       "       'Farming, Fishing, and Forestry Occupations',\n",
       "       'Construction and Extraction Occupations',\n",
       "       'Installation, Maintenance, and Repair Occupations',\n",
       "       'Production Occupations',\n",
       "       'Transportation and Material Moving Occupations'], dtype=object)"
      ]
     },
     "execution_count": 26,
     "metadata": {},
     "output_type": "execute_result"
    }
   ],
   "source": [
    "occ_by_ind['OCC_TITLE'].unique()"
   ]
  },
  {
   "cell_type": "code",
   "execution_count": 27,
   "id": "cc63242f",
   "metadata": {},
   "outputs": [],
   "source": [
    "index_dict = {'Food S':'Accommodation and Food Services', 'Rec':'Arts, Entertainment, and Recreation', \n",
    "                'Const':'Construction', 'Educ S':'Educational Services', 'Fin':'Finance and Insurance', \n",
    "                'Gov': 'Federal, State, and Local Government (excluding state and local schools and hospitals)', \n",
    "                'Health S':'Health Care and Social Assistance',\n",
    "                'Info': 'Information', 'Mining':'Mining, Quarrying, and Oil and Gas Extraction', \n",
    "                'Manu': 'Manufacturing', 'Other S':'Other Services (except Public Administration)', \n",
    "                'Bus S': 'Professional, Scientific, and Technical Services', \n",
    "                'Real Est':'Real Estate and Rental and Leasing', 'Retail':'Retail Trade', 'Trans':'Transportation and Warehousing',\n",
    "                'Whsale':'Wholesale Trade', 'Management':'Management of Companies and Enterprises',\n",
    "                'Admin': 'Administrative and Support and Waste Management and Remediation Services', \n",
    "                'Agri': 'Agriculture, Forestry, Fishing and Hunting'}\n",
    "occ_map = {'Architecture and Engineering Occupations': 'Eng', \n",
    "           'Arts, Design, Entertainment, Sports, and Media Occupations': 'Arts',\n",
    "           'Building and Grounds Cleaning and Maintenance Occupations': 'Clean',\n",
    "           'Business and Financial Operations Occupations': 'Bus Ops',\n",
    "           'Community and Social Service Occupations': 'Soc S',\n",
    "           'Computer and Mathematical Occupations': 'Math',\n",
    "           'Construction and Extraction Occupations': 'Cons',\n",
    "           'Educational Instruction and Library Occupations': 'Educ',\n",
    "           'Farming, Fishing, and Forestry Occupations': 'Agg',\n",
    "           'Food Preparation and Serving Related Occupations': 'Food S',\n",
    "           'Healthcare Practitioners and Technical Occupations': 'Health P',\n",
    "           'Healthcare Support Occupations': 'Health S', \n",
    "           'Installation, Maintenance, and Repair Occupations': 'Repair', \n",
    "           'Legal Occupations': 'Legal', 'Life, Physical, and Social Science Occupations':'Science',\n",
    "           'Management Occupations': 'Manag', 'Office and Administrative Support Occupations': 'Admin',\n",
    "           'Personal Care and Service Occupations': 'Care', 'Production Occupations': 'Prod',\n",
    "           'Protective Service Occupations': 'Prot S', 'Sales and Related Occupations': 'Sales', \n",
    "           'Transportation and Material Moving Occupations': 'Trans'}\n",
    "index_dict_swap = {v: k for k, v in index_dict.items()}\n",
    "curlyL = curlyL.rename(index=index_dict_swap, columns=occ_map)\n",
    "epsN = epsN.rename(index=index_dict_swap, columns=occ_map)"
   ]
  },
  {
   "cell_type": "code",
   "execution_count": 28,
   "id": "505d4e0d",
   "metadata": {},
   "outputs": [
    {
     "data": {
      "image/png": "[encoded data removed]",
      "text/plain": [
       "<Figure size 432x288 with 2 Axes>"
      ]
     },
     "metadata": {
      "needs_background": "light"
     },
     "output_type": "display_data"
    }
   ],
   "source": [
    "sns.heatmap(curlyL, cmap=\"Blues\")\n",
    "plt.xlabel('Occupation')\n",
    "plt.ylabel('Industry')\n",
    "plt.savefig('../output/figures/occupation_2021_heatmap.png', dpi=300)"
   ]
  },
  {
   "cell_type": "code",
   "execution_count": 29,
   "id": "e1659dad-f73e-45b3-a7fa-1e8e67ef303d",
   "metadata": {},
   "outputs": [
    {
     "data": {
      "image/png": "[encoded data removed]",
      "text/plain": [
       "<Figure size 432x288 with 2 Axes>"
      ]
     },
     "metadata": {
      "needs_background": "light"
     },
     "output_type": "display_data"
    }
   ],
   "source": [
    "sns.heatmap(epsN, cmap=\"Blues\")\n",
    "plt.xlabel('Occupation')\n",
    "plt.ylabel('Industry')\n",
    "plt.savefig('../output/figures/epsN_2021_heatmap.png',dpi=300)"
   ]
  },
  {
   "cell_type": "code",
   "execution_count": 30,
   "id": "38533b4a",
   "metadata": {},
   "outputs": [],
   "source": [
    "data_dir = '../data/clean/'\n",
    "dfA      = pd.read_csv(data_dir + 'A.csv')\n",
    "dfA.columns\n",
    "dfA.index = dfA.BEA_sector\n",
    "dfA = dfA.drop(labels=['BEA_sector'],axis=1)"
   ]
  },
  {
   "cell_type": "code",
   "execution_count": 31,
   "id": "43365f05",
   "metadata": {},
   "outputs": [],
   "source": [
    "sectors_dict = {'Food S':'Accommodation and food services','Rec':'Arts, entertainment, and recreation',\n",
    "                'Const':'Construction','Dur':'Durable goods','Educ S':'Educational services','Fin':'Finance and insurance',\n",
    "                'Gov':'Government','Health S':'Health care and social assistance','Info':'Information','Mining':'Mining',\n",
    "                'Nondur':'Nondurable goods','Other S':'Other services, except government', 'Bus S':'Professional and business services',\n",
    "                'Real Est':'Real estate and rental and leasing','Retail':'Retail trade','Trans':'Transportation and warehousing',\n",
    "                'Whsale':'Wholesale trade'}\n",
    "sector_dict_swap = {v: k for k, v in sectors_dict.items()}\n",
    "dfA = dfA.rename(index=sector_dict_swap, columns=sector_dict_swap)"
   ]
  },
  {
   "cell_type": "code",
   "execution_count": 32,
   "id": "2484d122",
   "metadata": {},
   "outputs": [
    {
     "data": {
      "image/png": "[encoded data removed]",
      "text/plain": [
       "<Figure size 432x288 with 2 Axes>"
      ]
     },
     "metadata": {
      "needs_background": "light"
     },
     "output_type": "display_data"
    }
   ],
   "source": [
    "sns.heatmap(dfA, cmap=\"Blues\")\n",
    "plt.xlabel('Input Usage')\n",
    "plt.ylabel('Industry')\n",
    "plt.savefig('../output/figures/sectors_heatmap.png',dpi=300)"
   ]
  },
  {
   "cell_type": "code",
   "execution_count": 33,
   "id": "dd6a4a0c-97b6-45e3-abfe-263663b7d8a0",
   "metadata": {},
   "outputs": [],
   "source": [
    "# Keep only the sectors we have data for\n",
    "curlyL = curlyL[curlyL.index.isin(dfA.index)]\n",
    "curlyL.rename(index=sectors_dict).sort_index().T.to_csv(\"../data/clean/curlyL_2021.csv\")\n",
    "epsN = epsN[epsN.index.isin(dfA.index)]\n",
    "epsN.rename(index=sectors_dict).sort_index().to_csv(\"../data/clean/epsN_2021.csv\")"
   ]
  }
 ],
 "metadata": {
  "kernelspec": {
   "display_name": "Python 3 (ipykernel)",
   "language": "python",
   "name": "python3"
  },
  "language_info": {
   "codemirror_mode": {
    "name": "ipython",
    "version": 3
   },
   "file_extension": ".py",
   "mimetype": "text/x-python",
   "name": "python",
   "nbconvert_exporter": "python",
   "pygments_lexer": "ipython3",
   "version": "3.9.7"
  },
  "vscode": {
   "interpreter": {
    "hash": "aba428117bf3f5081293259125dae1bedc5a4b761006daec6f7a75954088c611"
   }
  }
 },
 "nbformat": 4,
 "nbformat_minor": 5
}
