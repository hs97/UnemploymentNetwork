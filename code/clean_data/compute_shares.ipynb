{
 "cells": [
  {
   "attachments": {},
   "cell_type": "markdown",
   "id": "eafda2d2-fa32-43f7-b189-d43db65ecd3f",
   "metadata": {},
   "source": [
    "# Computing Capital and Energy Shares\n",
    "\n",
    "This notebook extracts sector-level factor shares from KLEMS. "
   ]
  },
  {
   "cell_type": "code",
   "execution_count": 1,
   "id": "9cc3781d-c90b-4e16-86e6-2bfb3d31b145",
   "metadata": {},
   "outputs": [],
   "source": [
    "import pandas as pd"
   ]
  },
  {
   "cell_type": "code",
   "execution_count": 3,
   "id": "419bad86-d597-450e-bd5b-48b93347d544",
   "metadata": {},
   "outputs": [],
   "source": [
    "shares = pd.read_excel(\"../../data/raw/major-industry-total-factor-productivity-klems.xlsx\", sheet_name=\"MachineReadable\")"
   ]
  },
  {
   "cell_type": "code",
   "execution_count": 4,
   "id": "78063513-b8df-4b39-b470-a7977a5630a5",
   "metadata": {},
   "outputs": [],
   "source": [
    "# Extract the needed measures\n",
    "shares_2021 = shares[(shares['Measure'].isin(['Energy share', 'Capital share', \\\n",
    "                                              'Sectoral output'])) \\\n",
    "                     & (shares['Year'] == 2021)]"
   ]
  },
  {
   "cell_type": "code",
   "execution_count": 5,
   "id": "482bf5f7-7d10-4326-9b31-4815b54a0768",
   "metadata": {},
   "outputs": [],
   "source": [
    "short_names = ['mining', 'trans', 'const', 'dur', 'nondur',\n",
    "                'trade', 'info', 'fin','profserv', 'edhealth',\n",
    "                'accom', 'other', 'gov']\n",
    "sector_names = ['Mining', 'Transportation and Utilities', 'Construction',\n",
    "                'Durable goods', 'Nondurable good', 'Wholesale and Retail trade',\n",
    "                'Information', 'Financial Activities', 'Professional and business services',\n",
    "                'Education and Health Services', 'Leisure  and Hospitality',\n",
    "                'Other services, except government','Government']\n",
    "sector_codes = ['21', ['22', '48TW'] ,'23', '33DG', ['31ND','11'], ['42', '44RT'],\n",
    "                       '51', ['52', '53'], ['54','55','56'],['61','62'], ['71','72'],\n",
    "                       '81','G']"
   ]
  },
  {
   "cell_type": "code",
   "execution_count": 6,
   "id": "bae6d764-d904-4756-a86c-3921cad44bc0",
   "metadata": {},
   "outputs": [],
   "source": [
    "# Create sector short name mappings \n",
    "sectors = pd.DataFrame({\"short_names\": short_names, \"NAICS\": sector_codes})\n",
    "sectors = sectors.explode(column='NAICS')\n",
    "replace_dict = {'48-49': '48TW', '44,45':'44RT', 'DM': '33DG', 'ND': '31ND'}"
   ]
  },
  {
   "cell_type": "code",
   "execution_count": 7,
   "id": "df63a525-bd2f-46ea-9b38-3afbb9c023a3",
   "metadata": {},
   "outputs": [],
   "source": [
    "# Merge KLEMS sectors with our available sector definitions\n",
    "shares_2021 = shares_2021.replace({'NAICS': replace_dict})\n",
    "shares_2021 = pd.merge(shares_2021, sectors,\n",
    "                       on='NAICS', how='inner')\\\n",
    "[['NAICS', 'short_names', 'Measure', 'Value']]\n",
    "shares_2021 = shares_2021.pivot(index=['NAICS', 'short_names'],\n",
    "                                columns='Measure', values='Value').reset_index()"
   ]
  },
  {
   "cell_type": "code",
   "execution_count": 8,
   "id": "a3de6f82-50a7-4b39-8f35-d5f65b448d13",
   "metadata": {},
   "outputs": [],
   "source": [
    "# Compute output share to weight the factor shares by\n",
    "shares_2021.loc[:, 'Output share'] = shares_2021['Sectoral output'] \\\n",
    "/ shares_2021.groupby('short_names')['Sectoral output'].transform('sum')"
   ]
  },
  {
   "cell_type": "code",
   "execution_count": 9,
   "id": "d397606b-59dd-4ef8-bf4d-b7d8af11d691",
   "metadata": {},
   "outputs": [],
   "source": [
    "# Compute output-weighted factor shares\n",
    "shares_2021.loc[:, 'Capital share'] = shares_2021['Capital share'] * shares_2021['Output share']\n",
    "shares_2021.loc[:, 'Energy share'] = shares_2021['Energy share'] * shares_2021['Output share']\n",
    "shares_2021 = shares_2021.groupby(['short_names'])\\\n",
    ".aggregate({'Capital share': 'sum', 'Energy share': 'sum'}).reset_index()"
   ]
  },
  {
   "cell_type": "code",
   "execution_count": 10,
   "id": "fe470bb3-b8d7-4a6f-8a20-dd1e3bfc06b2",
   "metadata": {},
   "outputs": [
    {
     "data": {
      "text/html": [
       "<div>\n",
       "<style scoped>\n",
       "    .dataframe tbody tr th:only-of-type {\n",
       "        vertical-align: middle;\n",
       "    }\n",
       "\n",
       "    .dataframe tbody tr th {\n",
       "        vertical-align: top;\n",
       "    }\n",
       "\n",
       "    .dataframe thead th {\n",
       "        text-align: right;\n",
       "    }\n",
       "</style>\n",
       "<table border=\"1\" class=\"dataframe\">\n",
       "  <thead>\n",
       "    <tr style=\"text-align: right;\">\n",
       "      <th>Measure</th>\n",
       "      <th>short_names</th>\n",
       "      <th>Capital share</th>\n",
       "      <th>Energy share</th>\n",
       "    </tr>\n",
       "  </thead>\n",
       "  <tbody>\n",
       "    <tr>\n",
       "      <th>0</th>\n",
       "      <td>accom</td>\n",
       "      <td>0.221841</td>\n",
       "      <td>0.023295</td>\n",
       "    </tr>\n",
       "    <tr>\n",
       "      <th>1</th>\n",
       "      <td>const</td>\n",
       "      <td>0.097000</td>\n",
       "      <td>0.024000</td>\n",
       "    </tr>\n",
       "    <tr>\n",
       "      <th>2</th>\n",
       "      <td>dur</td>\n",
       "      <td>0.271000</td>\n",
       "      <td>0.008000</td>\n",
       "    </tr>\n",
       "    <tr>\n",
       "      <th>3</th>\n",
       "      <td>edhealth</td>\n",
       "      <td>0.126015</td>\n",
       "      <td>0.011191</td>\n",
       "    </tr>\n",
       "    <tr>\n",
       "      <th>4</th>\n",
       "      <td>fin</td>\n",
       "      <td>0.330830</td>\n",
       "      <td>0.035048</td>\n",
       "    </tr>\n",
       "    <tr>\n",
       "      <th>12</th>\n",
       "      <td>gov</td>\n",
       "      <td>0.000000</td>\n",
       "      <td>0.000000</td>\n",
       "    </tr>\n",
       "    <tr>\n",
       "      <th>5</th>\n",
       "      <td>info</td>\n",
       "      <td>0.377000</td>\n",
       "      <td>0.004000</td>\n",
       "    </tr>\n",
       "    <tr>\n",
       "      <th>6</th>\n",
       "      <td>mining</td>\n",
       "      <td>0.524000</td>\n",
       "      <td>0.029000</td>\n",
       "    </tr>\n",
       "    <tr>\n",
       "      <th>7</th>\n",
       "      <td>nondur</td>\n",
       "      <td>0.280069</td>\n",
       "      <td>0.022101</td>\n",
       "    </tr>\n",
       "    <tr>\n",
       "      <th>8</th>\n",
       "      <td>other</td>\n",
       "      <td>0.070000</td>\n",
       "      <td>0.010000</td>\n",
       "    </tr>\n",
       "    <tr>\n",
       "      <th>9</th>\n",
       "      <td>profserv</td>\n",
       "      <td>0.099251</td>\n",
       "      <td>0.007855</td>\n",
       "    </tr>\n",
       "    <tr>\n",
       "      <th>10</th>\n",
       "      <td>trade</td>\n",
       "      <td>0.213265</td>\n",
       "      <td>0.020027</td>\n",
       "    </tr>\n",
       "    <tr>\n",
       "      <th>11</th>\n",
       "      <td>trans</td>\n",
       "      <td>0.244716</td>\n",
       "      <td>0.126913</td>\n",
       "    </tr>\n",
       "  </tbody>\n",
       "</table>\n",
       "</div>"
      ],
      "text/plain": [
       "Measure short_names  Capital share  Energy share\n",
       "0             accom       0.221841      0.023295\n",
       "1             const       0.097000      0.024000\n",
       "2               dur       0.271000      0.008000\n",
       "3          edhealth       0.126015      0.011191\n",
       "4               fin       0.330830      0.035048\n",
       "12              gov       0.000000      0.000000\n",
       "5              info       0.377000      0.004000\n",
       "6            mining       0.524000      0.029000\n",
       "7            nondur       0.280069      0.022101\n",
       "8             other       0.070000      0.010000\n",
       "9          profserv       0.099251      0.007855\n",
       "10            trade       0.213265      0.020027\n",
       "11            trans       0.244716      0.126913"
      ]
     },
     "execution_count": 10,
     "metadata": {},
     "output_type": "execute_result"
    }
   ],
   "source": [
    "# Add in government\n",
    "shares_2021.loc[len(shares_2021.index)] = ['gov', 0, 0] \n",
    "shares_2021.sort_values(by='short_names', inplace=True)\n",
    "shares_2021"
   ]
  },
  {
   "cell_type": "code",
   "execution_count": 11,
   "id": "4fbc974e-ab96-4b54-866c-63c3c93cb596",
   "metadata": {},
   "outputs": [],
   "source": [
    "shares_2021.to_csv(\"../../data/clean/energy_capital_shares.csv\", index=False)"
   ]
  }
 ],
 "metadata": {
  "kernelspec": {
   "display_name": "Python 3 (ipykernel)",
   "language": "python",
   "name": "python3"
  },
  "language_info": {
   "codemirror_mode": {
    "name": "ipython",
    "version": 3
   },
   "file_extension": ".py",
   "mimetype": "text/x-python",
   "name": "python",
   "nbconvert_exporter": "python",
   "pygments_lexer": "ipython3",
   "version": "3.9.7"
  }
 },
 "nbformat": 4,
 "nbformat_minor": 5
}
