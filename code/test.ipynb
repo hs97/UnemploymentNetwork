{
 "cells": [
  {
   "cell_type": "code",
   "execution_count": 1,
   "metadata": {},
   "outputs": [],
   "source": [
    "import numpy as np\n",
    "import pandas as pd\n",
    "import functions.multi_occupation_network as multi_occupation_network\n",
    "import functions.nominal_rigidity_network as nominal_rigidity_network\n",
    "import seaborn as sns\n",
    "import matplotlib.pyplot as plt\n",
    "from matplotlib.colors import LogNorm, Normalize\n",
    "from  functions.network_figures import bar_plot\n",
    "import scipy.optimize as opt"
   ]
  },
  {
   "cell_type": "code",
   "execution_count": 2,
   "metadata": {},
   "outputs": [],
   "source": [
    "A_spec = 1\n",
    "data_dir = '../data/clean/'\n",
    "dfTau    = pd.read_csv(data_dir + 'tau_2021_occu.csv').sort_values(by=['variable'])\n",
    "dfepsN   = pd.read_csv(data_dir + 'epsN_2021.csv', index_col=0).sort_index(axis=1)\n",
    "dfcurlyL = pd.read_csv(data_dir + 'curlyL_2021.csv', index_col=0).sort_index()\n",
    "dfA      = pd.read_csv(data_dir + f'A{A_spec}.csv')\n",
    "sectors  = dfA['short_names']\n",
    "dfDemand = pd.read_csv(data_dir + 'demand_tab.csv')\n",
    "dfLshare = pd.read_csv(data_dir + 'labor_tab.csv')\n",
    "dfLabor_market_yearly= pd.read_csv(data_dir + 'uvh_annual_updated_occu.csv')\n",
    "dfLabor_market_yearly = dfLabor_market_yearly.sort_values(by=['Year', 'variable'])\n",
    "dfLabor_market_yearly = dfLabor_market_yearly.dropna(axis=0)\n",
    "dfLabor_market_yearly = dfLabor_market_yearly[dfLabor_market_yearly['Year'] == 2021]\n",
    "dfMatching_params = pd.read_csv(data_dir + 'matching_param_estimates_occu.csv')\n",
    "shares = pd.read_csv(data_dir + 'energy_capital_shares.csv')\n",
    "sector_names = list(dfA['short_names']) + ['Agg Y']\n",
    "occupation_names = list(dfcurlyL.index)"
   ]
  },
  {
   "cell_type": "code",
   "execution_count": 3,
   "metadata": {},
   "outputs": [],
   "source": [
    "# reformatting parameters\n",
    "Omega = np.array(dfA.iloc[:, 1:], dtype='float64')\n",
    "rescaler = np.matrix(1 - shares['Capital share'] - shares['Energy share'])\n",
    "J = Omega.shape[0]\n",
    "Omega = np.multiply(Omega, (np.repeat(rescaler, J).reshape(J, J)))\n",
    "Psi = np.linalg.inv(np.eye(Omega.shape[0])-Omega)\n",
    "curlyL = np.array(dfcurlyL)\n",
    "\n",
    "O = dfcurlyL.shape[0]\n",
    "\n",
    "epsN = np.array((np.array(dfLshare[f'labor_elasticity{A_spec}'], dtype='float64') * dfepsN.T).T)\n",
    "epsN = np.multiply(epsN, rescaler.T)\n",
    "# normalized epsN to back out sectoral tightness\n",
    "epsN_norm = np.array(dfepsN)\n",
    "epsD = np.array(dfDemand['demand_elasticity']).reshape((J,1))\n",
    "epsK = np.matrix(shares[['Capital share', 'Energy share']])\n",
    "K = epsK.shape[1]\n",
    "\n",
    "# if you want to turn off network linkages, uncomment these two lines of code.\n",
    "# Omega = np.zeros_like(Omega)\n",
    "# Psi = np.eye(Omega.shape[0])\n",
    "θ = dfLabor_market_yearly['Tightness']\n",
    "ν = dfMatching_params['unemployment_elasticity']\n",
    "\n",
    "tau = dfTau['Tau']\n",
    "curlyT = np.diag(tau)\n",
    "curlyQ = np.diag(-ν)\n",
    "curlyF =  np.eye(O) + curlyQ\n",
    "sigma = np.array(dfDemand['demand_elasticity']).reshape((J,1))"
   ]
  },
  {
   "cell_type": "code",
   "execution_count": 4,
   "metadata": {},
   "outputs": [],
   "source": [
    "dlog_A = np.zeros((J, 1))\n",
    "dlog_H = np.zeros((O, 1))\n",
    "dlog_K = np.zeros((K, 1))\n",
    "dlog_K[1] = -0.1 \n",
    "dlog_lam = np.zeros_like(dlog_A)\n",
    "dlog_epsN = np.zeros_like(epsN)\n",
    "dlog_epsD = np.zeros_like(epsD)\n",
    "num = 3\n",
    "curlyE = multi_occupation_network.curlyEFunc(dlog_epsN,epsN)\n",
    "PriceAssumption = ['Hulten', 'Rigid Real']\n",
    "sectorY_vec = np.zeros((J+1,len(PriceAssumption)))\n",
    "secT_vec = np.zeros((J,len(PriceAssumption)))\n",
    "occT_vec = np.zeros((O, len(PriceAssumption)))\n",
    "occU_vec = np.zeros((O, len(PriceAssumption)))\n",
    "p_vec = np.zeros((J, len(PriceAssumption)))"
   ]
  },
  {
   "cell_type": "code",
   "execution_count": 5,
   "metadata": {},
   "outputs": [],
   "source": [
    "epsWs = {'Hulten': multi_occupation_network.WageElasticityFunc(gamma_A=1, gamma_H=1, gamma_K=1, Psi=Psi, curlyL=curlyL, epsN=epsN, epsK=epsK),\n",
    "        '0.5MP': multi_occupation_network.WageElasticityFuncMP(0.5,  Psi, epsN, epsK, curlyF, curlyQ, curlyT, curlyL),\n",
    "        'Rigid Real': multi_occupation_network.WageElasticityFuncMP(0,  Psi, epsN, epsK, curlyF, curlyQ, curlyT, curlyL),\n",
    "        'Dampening': multi_occupation_network.WageElasticityFunc(gamma_A=1.5, gamma_H=1.5, gamma_K=1.5, Psi=Psi, curlyL=curlyL, epsN=epsN, epsK=epsK)}\n",
    "dlog_Ws = {}\n",
    "for i in epsWs.keys():\n",
    "    epsW_A, epsW_H, epsW_K = epsWs[i]\n",
    "    dlog_Ws[i] = multi_occupation_network.WageFunc(dlog_A, dlog_H, dlog_K, epsW_A, epsW_H, epsW_K)"
   ]
  },
  {
   "cell_type": "code",
   "execution_count": 6,
   "metadata": {},
   "outputs": [],
   "source": [
    "epsW_A, epsW_H, epsW_K = epsWs['0.5MP']\n"
   ]
  },
  {
   "cell_type": "markdown",
   "metadata": {},
   "source": [
    "## Version with full model parametrization"
   ]
  },
  {
   "cell_type": "code",
   "execution_count": 7,
   "metadata": {},
   "outputs": [],
   "source": [
    "curlyM = -curlyQ\n",
    "I_o = np.eye(curlyT.shape[0])\n",
    "I_j = np.eye(Psi.shape[0]) \n",
    "Xi_theta = curlyL @ Psi @ epsN @ (I_o - curlyM @ (I_o + curlyT))\n",
    "coeffA = Psi @ (I_j + epsN @ (I_o - curlyM @ (I_o + curlyT)) @ np.linalg.inv((I_o - curlyM - Xi_theta)) @ (curlyL @ Psi - epsW_A))"
   ]
  },
  {
   "cell_type": "code",
   "execution_count": 8,
   "metadata": {},
   "outputs": [
    {
     "data": {
      "text/plain": [
       "<Axes: >"
      ]
     },
     "execution_count": 8,
     "metadata": {},
     "output_type": "execute_result"
    },
    {
     "data": {
      "image/png": "[encoded data removed]",
      "text/plain": [
       "<Figure size 640x480 with 2 Axes>"
      ]
     },
     "metadata": {},
     "output_type": "display_data"
    }
   ],
   "source": [
    "sns.heatmap(coeffA, cmap=\"Blues\")"
   ]
  },
  {
   "cell_type": "markdown",
   "metadata": {},
   "source": [
    "## Version with no production network"
   ]
  },
  {
   "cell_type": "code",
   "execution_count": 9,
   "metadata": {},
   "outputs": [],
   "source": [
    "epsNtil = np.copy(epsN)\n",
    "for i in range(epsNtil.shape[0]):\n",
    "    epsNtil[i,:] = epsN[i,:]/np.sum(epsN[i,:])*np.sum(Omega[i,:])"
   ]
  },
  {
   "cell_type": "code",
   "execution_count": 10,
   "metadata": {},
   "outputs": [],
   "source": [
    "curlyM = -curlyQ\n",
    "I_o = np.eye(curlyT.shape[0])\n",
    "I_j = np.eye(Psi.shape[0]) \n",
    "Xi_theta_till = curlyL @ I_j @ epsNtil @ (I_o - curlyM @ (I_o + curlyT))\n",
    "coeffAtil = I_j @ (I_j + epsNtil @ (I_o - curlyM @ (I_o + curlyT)) @ np.linalg.inv((I_o - curlyM - Xi_theta_till)) @ (curlyL @ I_j - epsW_A))"
   ]
  },
  {
   "cell_type": "code",
   "execution_count": 11,
   "metadata": {},
   "outputs": [
    {
     "data": {
      "text/plain": [
       "<Axes: >"
      ]
     },
     "execution_count": 11,
     "metadata": {},
     "output_type": "execute_result"
    },
    {
     "data": {
      "image/png": "[encoded data removed]",
      "text/plain": [
       "<Figure size 640x480 with 2 Axes>"
      ]
     },
     "metadata": {},
     "output_type": "display_data"
    }
   ],
   "source": [
    "sns.heatmap(coeffA-coeffAtil, cmap=\"Blues\")"
   ]
  },
  {
   "cell_type": "code",
   "execution_count": 12,
   "metadata": {},
   "outputs": [
    {
     "data": {
      "text/plain": [
       "matrix([[0.13250615, 0.06825181, 0.25014792, 0.21700417, 0.36835817,\n",
       "         0.11059297, 0.15447529, 0.05522147, 0.31158948, 0.06292648,\n",
       "         0.644781  , 0.15686946, 0.13087738],\n",
       "        [0.08780708, 0.04536533, 0.70878592, 0.21031536, 0.31642697,\n",
       "         0.10779611, 0.14425593, 0.08312167, 0.36092036, 0.05848107,\n",
       "         0.62736395, 0.16466833, 0.11483636],\n",
       "        [0.06748474, 0.05278677, 0.63283264, 0.15793415, 0.23170186,\n",
       "         0.0814132 , 0.1094099 , 0.05866032, 0.250419  , 0.04155797,\n",
       "         0.46621406, 0.12274771, 0.09551701],\n",
       "        [0.1459316 , 0.08578959, 0.32242866, 0.53128633, 0.47069658,\n",
       "         0.15615399, 0.18104077, 0.05605611, 0.31109732, 0.07697181,\n",
       "         0.76598992, 0.20688071, 0.13736955],\n",
       "        [0.09466122, 0.0864465 , 0.22360992, 0.217886  , 0.41037456,\n",
       "         0.11226324, 0.12999884, 0.03495818, 0.17553526, 0.05315461,\n",
       "         0.5624512 , 0.17578867, 0.11225593],\n",
       "        [0.14379187, 0.14377049, 0.44628161, 0.40677271, 0.47602384,\n",
       "         0.21355941, 0.21496206, 0.08285374, 0.40374738, 0.09223641,\n",
       "         0.88772534, 0.24310975, 0.1721971 ],\n",
       "        [0.09553727, 0.06191036, 0.24640637, 0.2019572 , 0.28773301,\n",
       "         0.10217859, 0.20370634, 0.03485051, 0.17661071, 0.05048668,\n",
       "         0.60384841, 0.15215575, 0.09868483],\n",
       "        [0.04686614, 0.04757473, 0.23471759, 0.11299667, 0.18029652,\n",
       "         0.06005272, 0.07537421, 0.08965657, 0.15548737, 0.02863169,\n",
       "         0.33418595, 0.08786629, 0.07007849],\n",
       "        [0.05008072, 0.04812085, 0.2313736 , 0.11867314, 0.19865751,\n",
       "         0.06099548, 0.08794084, 0.15832665, 0.49566866, 0.03153569,\n",
       "         0.3644826 , 0.08020986, 0.08596261],\n",
       "        [0.14816277, 0.10299983, 0.41059946, 0.34339821, 0.49130614,\n",
       "         0.15883269, 0.19579178, 0.05884657, 0.29991753, 0.09435247,\n",
       "         0.78483856, 0.23176128, 0.15568421],\n",
       "        [0.14523876, 0.09494029, 0.35658224, 0.31293547, 0.44889604,\n",
       "         0.16152171, 0.22385599, 0.0546326 , 0.28024985, 0.07738637,\n",
       "         0.90988289, 0.22096653, 0.15210253],\n",
       "        [0.10028506, 0.07263557, 0.27317416, 0.2273579 , 0.38923895,\n",
       "         0.11957534, 0.16263973, 0.04548976, 0.23248221, 0.06682788,\n",
       "         0.68668458, 0.19934984, 0.17126046],\n",
       "        [0.07897906, 0.05967027, 0.21709551, 0.16038494, 0.27633635,\n",
       "         0.09253753, 0.11253936, 0.06120095, 0.23017338, 0.04718098,\n",
       "         0.47065347, 0.12491742, 0.17940679]])"
      ]
     },
     "execution_count": 12,
     "metadata": {},
     "output_type": "execute_result"
    }
   ],
   "source": [
    "coeffA-coeffAtil"
   ]
  },
  {
   "cell_type": "code",
   "execution_count": 94,
   "metadata": {},
   "outputs": [],
   "source": [
    "def obj_reparam(control, param):\n",
    "    epsNtil = param['epsNtil']\n",
    "    coeffA = param['coeffA']\n",
    "    curlyL = param['curlyL']\n",
    "    epsW_A = param['epsW_A']\n",
    "    dlog_A = param['dlog_A']\n",
    "    sigma = param['sigma']\n",
    "    agg = param['agg']\n",
    "    I_o = np.eye(curlyL.shape[0])\n",
    "    I_j = np.eye(curlyL.shape[1])\n",
    "    \n",
    "    curlyMtil = np.diag(control[:curlyL.shape[0]])\n",
    "    curlyTtil = np.diag(control[curlyL.shape[0]:])\n",
    "\n",
    "    Xi_theta_till = curlyL @ I_j @ epsNtil @ (I_o - curlyMtil @ (I_o + curlyTtil))\n",
    "    coeffAtil = I_j @ (I_j + epsNtil @ (I_o - curlyMtil @ (I_o + curlyTtil)) @ np.linalg.inv((I_o - curlyMtil - Xi_theta_till)) @ (curlyL @ I_j - epsW_A))\n",
    "    if agg:\n",
    "        return np.linalg.norm( sigma.T @ (coeffAtil - coeffA) @ dlog_A)\n",
    "    else:\n",
    "        return np.max(np.abs((coeffAtil-coeffA) @ dlog_A))\n",
    "\n",
    "    \n",
    "    "
   ]
  },
  {
   "cell_type": "code",
   "execution_count": 117,
   "metadata": {},
   "outputs": [],
   "source": [
    "dlog_A = np.zeros((J,1))\n",
    "dlog_A[4] = 0.01\n",
    "param = {'epsNtil':epsN, 'coeffA':coeffA, 'curlyL':curlyL, 'epsW_A':epsW_A, 'sigma':sigma, 'dlog_A':dlog_A, 'agg':False}\n",
    "control0 = np.concatenate((np.diag(curlyM), np.diag(curlyT)))\n",
    "optim_out = opt.minimize(fun=obj_reparam, x0=control0, args=(param), method='Nelder-Mead', tol=1e-12, options={'maxiter':1000000})"
   ]
  },
  {
   "cell_type": "code",
   "execution_count": 119,
   "metadata": {},
   "outputs": [
    {
     "data": {
      "text/plain": [
       "       message: Optimization terminated successfully.\n",
       "       success: True\n",
       "        status: 0\n",
       "           fun: 0.0032805508893719902\n",
       "             x: [ 5.986e-01  7.086e-02 ...  5.422e-03  5.275e-03]\n",
       "           nit: 26078\n",
       "          nfev: 32709\n",
       " final_simplex: (array([[ 5.986e-01,  7.086e-02, ...,  5.422e-03,\n",
       "                         5.275e-03],\n",
       "                       [ 5.986e-01,  7.086e-02, ...,  5.422e-03,\n",
       "                         5.275e-03],\n",
       "                       ...,\n",
       "                       [ 5.986e-01,  7.086e-02, ...,  5.422e-03,\n",
       "                         5.275e-03],\n",
       "                       [ 5.986e-01,  7.086e-02, ...,  5.422e-03,\n",
       "                         5.275e-03]]), array([ 3.281e-03,  3.281e-03, ...,  3.281e-03,  3.281e-03]))"
      ]
     },
     "execution_count": 119,
     "metadata": {},
     "output_type": "execute_result"
    }
   ],
   "source": [
    "optim_out"
   ]
  },
  {
   "cell_type": "code",
   "execution_count": 120,
   "metadata": {},
   "outputs": [],
   "source": [
    "curlyMtil = np.diag(optim_out.x[:curlyL.shape[0]])\n",
    "curlyTtil = np.diag(optim_out.x[curlyL.shape[0]:])\n",
    "I_o = np.eye(curlyL.shape[0])\n",
    "I_j = np.eye(curlyL.shape[1])\n",
    "epsNtil = np.copy(epsN)\n",
    "Xi_theta_till = curlyL @ I_j @ epsNtil @ (I_o - curlyMtil @ (I_o + curlyTtil))\n",
    "coeffAtil = I_j @ (I_j + epsNtil @ (I_o - curlyMtil @ (I_o + curlyTtil)) @ np.linalg.inv((I_o - curlyMtil - Xi_theta_till)) @ (curlyL @ I_j - epsW_A))"
   ]
  },
  {
   "cell_type": "code",
   "execution_count": 121,
   "metadata": {},
   "outputs": [
    {
     "data": {
      "text/plain": [
       "matrix([[ 0.00187072],\n",
       "        [ 0.00262677],\n",
       "        [ 0.0017315 ],\n",
       "        [ 0.00328055],\n",
       "        [ 0.00291405],\n",
       "        [ 0.00278117],\n",
       "        [-0.00328055],\n",
       "        [ 0.00144771],\n",
       "        [ 0.00154559],\n",
       "        [ 0.00165946],\n",
       "        [ 0.00188153],\n",
       "        [ 0.00268316],\n",
       "        [ 0.0023456 ]])"
      ]
     },
     "execution_count": 121,
     "metadata": {},
     "output_type": "execute_result"
    }
   ],
   "source": [
    "(coeffA - coeffAtil)@dlog_A"
   ]
  },
  {
   "cell_type": "code",
   "execution_count": 24,
   "metadata": {},
   "outputs": [],
   "source": [
    "def obj_reparam1(control, param):\n",
    "    epsNtil = param['epsNtil']\n",
    "    coeffA = param['coeffA']\n",
    "    curlyL = param['curlyL']\n",
    "    epsW_A = param['epsW_A']\n",
    "    dlog_A = param['dlog_A']\n",
    "    sigma = param['sigma']\n",
    "    curlyMtil = param['curlyMtil']\n",
    "    agg = param['agg']\n",
    "    I_o = np.eye(curlyL.shape[0])\n",
    "    I_j = np.eye(curlyL.shape[1])\n",
    "    \n",
    "    curlyTtil = np.diag(control)\n",
    "\n",
    "    Xi_theta_till = curlyL @ I_j @ epsNtil @ (I_o - curlyMtil @ (I_o + curlyTtil))\n",
    "    coeffAtil = I_j @ (I_j + epsNtil @ (I_o - curlyMtil @ (I_o + curlyTtil)) @ np.linalg.inv((I_o - curlyMtil - Xi_theta_till)) @ (curlyL @ I_j - epsW_A))\n",
    "    if agg:\n",
    "        return np.linalg.norm( sigma.T @ (coeffAtil - coeffA) @ dlog_A)\n",
    "    else:\n",
    "        return np.max(np.abs(100*(coeffAtil-coeffA) @ dlog_A))"
   ]
  },
  {
   "cell_type": "code",
   "execution_count": 25,
   "metadata": {},
   "outputs": [],
   "source": [
    "dlog_A = np.zeros((J,1))\n",
    "dlog_A[4] = 0.01\n",
    "param = {'epsNtil':epsN, 'coeffA':coeffA, 'curlyL':curlyL, 'epsW_A':epsW_A, 'sigma':sigma, 'dlog_A':dlog_A, 'curlyMtil':curlyM, 'agg':False}\n",
    "control0 = np.diag(curlyM)\n",
    "optim_out = opt.minimize(fun=obj_reparam1, x0=control0, args=(param), method='Nelder-Mead', tol=1e-12, options={'maxiter':1000000})"
   ]
  },
  {
   "cell_type": "code",
   "execution_count": 26,
   "metadata": {},
   "outputs": [
    {
     "data": {
      "text/plain": [
       "       message: Optimization terminated successfully.\n",
       "       success: True\n",
       "        status: 0\n",
       "           fun: 0.23122107155282423\n",
       "             x: [-6.261e-01  1.533e+00 ... -5.801e-01  2.169e+00]\n",
       "           nit: 9425\n",
       "          nfev: 12908\n",
       " final_simplex: (array([[-6.261e-01,  1.533e+00, ..., -5.801e-01,\n",
       "                         2.169e+00],\n",
       "                       [-6.261e-01,  1.533e+00, ..., -5.801e-01,\n",
       "                         2.169e+00],\n",
       "                       ...,\n",
       "                       [-6.261e-01,  1.533e+00, ..., -5.801e-01,\n",
       "                         2.169e+00],\n",
       "                       [-6.261e-01,  1.533e+00, ..., -5.801e-01,\n",
       "                         2.169e+00]]), array([ 2.312e-01,  2.312e-01, ...,  2.312e-01,  2.312e-01]))"
      ]
     },
     "execution_count": 26,
     "metadata": {},
     "output_type": "execute_result"
    }
   ],
   "source": [
    "optim_out"
   ]
  },
  {
   "cell_type": "code",
   "execution_count": 27,
   "metadata": {},
   "outputs": [],
   "source": [
    "curlyTtil = np.diag(optim_out.x[:curlyL.shape[0]])\n",
    "curlyMtil = np.copy(curlyM)\n",
    "I_o = np.eye(curlyL.shape[0])\n",
    "I_j = np.eye(curlyL.shape[1])\n",
    "epsNtil = np.copy(epsN)\n",
    "Xi_theta_till = curlyL @ I_j @ epsNtil @ (I_o - curlyMtil @ (I_o + curlyTtil))\n",
    "coeffAtil = I_j @ (I_j + epsNtil @ (I_o - curlyMtil @ (I_o + curlyTtil)) @ np.linalg.inv((I_o - curlyMtil - Xi_theta_till)) @ (curlyL @ I_j - epsW_A))"
   ]
  },
  {
   "cell_type": "code",
   "execution_count": 30,
   "metadata": {},
   "outputs": [
    {
     "data": {
      "text/plain": [
       "matrix([[ 0.14771963],\n",
       "        [-0.02610375],\n",
       "        [ 0.03505407],\n",
       "        [ 0.22367452],\n",
       "        [-0.23122107],\n",
       "        [-0.00085909],\n",
       "        [-0.06353554],\n",
       "        [ 0.00074379],\n",
       "        [ 0.05427754],\n",
       "        [-0.12158034],\n",
       "        [-0.07609849],\n",
       "        [ 0.00401993],\n",
       "        [ 0.23122107]])"
      ]
     },
     "execution_count": 30,
     "metadata": {},
     "output_type": "execute_result"
    }
   ],
   "source": [
    "100*(coeffA-coeffAtil)@dlog_A"
   ]
  },
  {
   "cell_type": "code",
   "execution_count": 18,
   "metadata": {},
   "outputs": [
    {
     "data": {
      "text/plain": [
       "array([-0.62611364,  1.53332035, -0.72808778, -4.89503723,  0.48830765,\n",
       "        2.33534181,  0.40975345,  2.41497581,  3.74846989,  0.16094685,\n",
       "        2.1970103 , -4.5444216 ,  4.93266615, -9.45769255,  3.80330058,\n",
       "        1.37593895,  1.18381976, -0.60540612, -1.63616024,  2.56566199,\n",
       "       -0.58012469,  2.16888059])"
      ]
     },
     "execution_count": 18,
     "metadata": {},
     "output_type": "execute_result"
    }
   ],
   "source": [
    "np.diag(curlyTtil)"
   ]
  },
  {
   "cell_type": "markdown",
   "metadata": {},
   "source": [
    "## Allowing the algorithm to pick epsN as well. "
   ]
  },
  {
   "cell_type": "code",
   "execution_count": 104,
   "metadata": {},
   "outputs": [],
   "source": [
    "def obj_reparam_flex(control, param):\n",
    "    epsNtil = param['epsNtil']\n",
    "    coeffA = param['coeffA']\n",
    "    curlyL = param['curlyL']\n",
    "    epsW_A = param['epsW_A']\n",
    "    I_o = np.eye(curlyL.shape[0])\n",
    "    I_j = np.eye(curlyL.shape[1])\n",
    "    \n",
    "    curlyMtil = np.diag(control[:curlyL.shape[0]])\n",
    "    curlyTtil = np.diag(control[curlyL.shape[0]:2*curlyL.shape[0]])\n",
    "    epsNtil = control[2*curlyL.shape[0]:].reshape(epsNtil.shape)\n",
    "\n",
    "    Xi_theta_till = curlyL @ I_j @ epsNtil @ (I_o - curlyMtil @ (I_o + curlyTtil))\n",
    "    coeffAtil = I_j @ (I_j + epsNtil @ (I_o - curlyMtil @ (I_o + curlyTtil)) @ np.linalg.inv((I_o - curlyMtil - Xi_theta_till)) @ (curlyL @ I_j - epsW_A))\n",
    "\n",
    "    return np.linalg.norm(coeffAtil-coeffA)\n",
    "\n",
    "    "
   ]
  },
  {
   "cell_type": "code",
   "execution_count": 120,
   "metadata": {},
   "outputs": [],
   "source": [
    "param = {'epsNtil':epsN, 'coeffA':coeffA, 'curlyL':curlyL, 'epsW_A':epsW_A}\n",
    "control0 = np.concatenate((np.diag(curlyM), np.diag(curlyT), np.array(epsN).flatten()))\n",
    "optim_out = opt.minimize(obj_reparam_flex, control0, args=(param), method = 'Nelder-Mead', tol=1e-10, options={'maxiter':1000000})"
   ]
  },
  {
   "cell_type": "code",
   "execution_count": 122,
   "metadata": {},
   "outputs": [],
   "source": [
    "curlyMtil = np.diag(optim_out.x[:curlyL.shape[0]])\n",
    "curlyTtil = np.diag(optim_out.x[curlyL.shape[0]:2*curlyL.shape[0]])\n",
    "epsNtil = optim_out.x[2*curlyL.shape[0]:].reshape(epsNtil.shape)\n",
    "Xi_theta_till = curlyL @ I_j @ epsNtil @ (I_o - curlyMtil @ (I_o + curlyTtil))\n",
    "coeffAtil = I_j @ (I_j + epsNtil @ (I_o - curlyMtil @ (I_o + curlyTtil)) @ np.linalg.inv((I_o - curlyMtil - Xi_theta_till)) @ (curlyL @ I_j - epsW_A))"
   ]
  },
  {
   "cell_type": "code",
   "execution_count": 124,
   "metadata": {},
   "outputs": [
    {
     "data": {
      "text/plain": [
       "matrix([[ 0.00331871,  0.03381115,  0.01393067,  0.09719583, -0.07136959,\n",
       "          0.04686901, -0.03891742, -0.04834458, -0.17342767,  0.03145192,\n",
       "         -0.06707796,  0.09724009, -0.0423344 ],\n",
       "        [ 0.02914567, -0.00976531, -0.32492227,  0.12807846,  0.01285641,\n",
       "          0.06353281, -0.00806543, -0.07729763, -0.1512437 ,  0.07690933,\n",
       "          0.0094361 ,  0.12824657,  0.00158015],\n",
       "        [-0.01322052, -0.01157598,  0.04499727,  0.00221208, -0.06423941,\n",
       "          0.01064526, -0.0452694 , -0.0529687 ,  0.14174703,  0.01341606,\n",
       "         -0.0586031 ,  0.00705449, -0.05610193],\n",
       "        [-0.01953777,  0.06487845,  0.05487645, -0.16939346, -0.03472488,\n",
       "          0.06846227, -0.02769945, -0.04604821, -0.11933098,  0.05673545,\n",
       "          0.07337543,  0.0363244 , -0.03053698],\n",
       "        [-0.04221127,  0.01062737,  0.03596493,  0.0184953 , -0.05985608,\n",
       "          0.06448547, -0.03192891, -0.02880733, -0.04371283,  0.03377378,\n",
       "         -0.00122824, -0.03269925, -0.04277804],\n",
       "        [-0.04261873,  0.00763025,  0.07465011, -0.02504094, -0.02025421,\n",
       "         -0.09235858, -0.02549862, -0.07094953, -0.13636624,  0.03120108,\n",
       "          0.02768742,  0.07769666, -0.00697557],\n",
       "        [-0.01668961,  0.0257712 ,  0.02429022,  0.11368626, -0.0153364 ,\n",
       "          0.03892058, -0.06865303, -0.02868969, -0.04535304,  0.02407235,\n",
       "          0.00677214, -0.0276707 , -0.02722448],\n",
       "        [-0.00239627, -0.031275  , -0.01979984,  0.04630574, -0.03872462,\n",
       "          0.02723898, -0.02155165, -0.0860285 , -0.03534832,  0.02411545,\n",
       "         -0.02324649,  0.08382096,  0.05679832],\n",
       "        [ 0.01429726, -0.00847767,  0.21319117,  0.01986936, -0.04682884,\n",
       "          0.00550989, -0.02541675, -0.15408061, -0.2404871 ,  0.01959504,\n",
       "         -0.0374844 ,  0.05481422, -0.03384341],\n",
       "        [-0.00699381,  0.04528533,  0.0035517 ,  0.02298069, -0.07650414,\n",
       "          0.06742223, -0.04989491, -0.04842243, -0.08578857,  0.05452099,\n",
       "          0.05139469, -0.12507369, -0.03309509],\n",
       "        [-0.04883108,  0.03121609,  0.11236531,  0.07096718,  0.01519729,\n",
       "          0.0513453 , -0.01873189, -0.04613776, -0.05062441,  0.03806691,\n",
       "         -0.04177212,  0.02502343, -0.07705966],\n",
       "        [-0.02267054,  0.06253201,  0.08259541,  0.13998128, -0.09074601,\n",
       "          0.06538576, -0.02816971, -0.03548808, -0.04392446,  0.04497456,\n",
       "         -0.01861523, -0.10680255, -0.02226813],\n",
       "        [-0.00198904,  0.00747128,  0.04091341,  0.00890431, -0.06929973,\n",
       "          0.02269693, -0.02922392, -0.05480039, -0.08395621,  0.03410347,\n",
       "         -0.04739088,  0.11434554, -0.01617099]])"
      ]
     },
     "execution_count": 124,
     "metadata": {},
     "output_type": "execute_result"
    }
   ],
   "source": [
    "coeffAtil - coeffA"
   ]
  }
 ],
 "metadata": {
  "kernelspec": {
   "display_name": ".venv",
   "language": "python",
   "name": "python3"
  },
  "language_info": {
   "codemirror_mode": {
    "name": "ipython",
    "version": 3
   },
   "file_extension": ".py",
   "mimetype": "text/x-python",
   "name": "python",
   "nbconvert_exporter": "python",
   "pygments_lexer": "ipython3",
   "version": "3.11.5"
  }
 },
 "nbformat": 4,
 "nbformat_minor": 2
}
