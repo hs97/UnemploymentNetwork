{
 "cells": [
  {
   "cell_type": "code",
   "execution_count": 1,
   "metadata": {},
   "outputs": [],
   "source": [
    "import numpy as np\n",
    "import pandas as pd\n",
    "import functions.multi_occupation_network as multi_occupation_network\n",
    "import matplotlib.pyplot as plt\n",
    "from  functions.network_figures import bar_plot"
   ]
  },
  {
   "cell_type": "markdown",
   "metadata": {},
   "source": [
    "# Calibration Excersize 1: Single Occupation\n",
    "\n",
    "Suppose there is just one type of labor, in other words that $\\mathcal{O}=1$. We calibrate our model to mathc BEA input-output tables, and treat the residual, the part of production not accounted for by intermediate inputs, as the labor elasticity. "
   ]
  },
  {
   "cell_type": "code",
   "execution_count": 2,
   "metadata": {},
   "outputs": [],
   "source": [
    "A_spec = 1\n",
    "data_dir = '../data/clean/'\n",
    "dfTau = pd.read_csv(data_dir + 'tau_2021.csv').sort_values(by=['short_names'])\n",
    "dfA      = pd.read_csv(data_dir + f'A{A_spec}.csv')\n",
    "sectors = dfA['short_names']\n",
    "dfDemand  = pd.read_csv(data_dir + 'demand_tab.csv')\n",
    "dfLshare = pd.read_csv(data_dir + 'labor_tab.csv')\n",
    "dfLabor_market_yearly= pd.read_csv(data_dir + 'uvh_annual_updated.csv')\n",
    "dfLabor_market_yearly = dfLabor_market_yearly.sort_values(by=['Year', 'short_names'])\n",
    "dfLabor_market_yearly = dfLabor_market_yearly.dropna(axis=0)\n",
    "dfLabor_market_yearly = dfLabor_market_yearly[dfLabor_market_yearly['Year'] == 2021]\n",
    "dfMatching_params = pd.read_csv(data_dir + 'matching_param_estimates.csv')\n",
    "shares = pd.read_csv(data_dir + 'energy_capital_shares.csv')"
   ]
  },
  {
   "cell_type": "code",
   "execution_count": 3,
   "metadata": {},
   "outputs": [],
   "source": [
    "# reformatting parameters\n",
    "Omega = np.array(dfA.iloc[:, 1:], dtype='float64')\n",
    "# rescale based on energy shares\n",
    "rescaler = np.matrix(1 - shares['Capital share'] - shares['Energy share'])\n",
    "J = Omega.shape[0]\n",
    "Omega = np.multiply(Omega, (np.repeat(rescaler, J).reshape(J, J)))\n",
    "Psi = np.linalg.inv(np.eye(Omega.shape[0])-Omega)\n",
    "O = 1\n",
    "\n",
    "epsN = np.diag(np.array(dfLshare[f'labor_elasticity{A_spec}'], dtype='float64'))\n",
    "epsN = np.multiply(epsN, rescaler)\n",
    "epsD = np.array(dfDemand['demand_elasticity']).reshape((J,1))\n",
    "epsK = np.matrix(shares[['Capital share', 'Energy share']])\n",
    "K = epsK.shape[1]\n",
    "\n",
    "θ = dfLabor_market_yearly['Tightness'] \n",
    "curlyQ = -np.diag(dfMatching_params['unemployment_elasticity'])\n",
    "curlyF =  np.eye(J) + curlyQ\n",
    "curlyT = np.diag(dfTau['Tau'])\n",
    "\n",
    "curlyL = np.ones(J)"
   ]
  },
  {
   "cell_type": "code",
   "execution_count": 4,
   "metadata": {},
   "outputs": [
    {
     "ename": "ValueError",
     "evalue": "cannot reshape array of size 17 into shape (13,1)",
     "output_type": "error",
     "traceback": [
      "\u001b[0;31m---------------------------------------------------------------------------\u001b[0m",
      "\u001b[0;31mValueError\u001b[0m                                Traceback (most recent call last)",
      "\u001b[0;32m/var/folders/8d/sm7kcrm54cd6hg3rnqsh6sxm0000gp/T/ipykernel_64280/2744894638.py\u001b[0m in \u001b[0;36m<module>\u001b[0;34m\u001b[0m\n\u001b[1;32m     13\u001b[0m \u001b[0mO\u001b[0m \u001b[0;34m=\u001b[0m \u001b[0;36m1\u001b[0m\u001b[0;34m\u001b[0m\u001b[0;34m\u001b[0m\u001b[0m\n\u001b[1;32m     14\u001b[0m \u001b[0;34m\u001b[0m\u001b[0m\n\u001b[0;32m---> 15\u001b[0;31m \u001b[0mepsN\u001b[0m \u001b[0;34m=\u001b[0m \u001b[0mnp\u001b[0m\u001b[0;34m.\u001b[0m\u001b[0marray\u001b[0m\u001b[0;34m(\u001b[0m\u001b[0mdfParam\u001b[0m\u001b[0;34m.\u001b[0m\u001b[0mα\u001b[0m\u001b[0;34m)\u001b[0m\u001b[0;34m.\u001b[0m\u001b[0mreshape\u001b[0m\u001b[0;34m(\u001b[0m\u001b[0;34m(\u001b[0m\u001b[0mJ\u001b[0m\u001b[0;34m,\u001b[0m\u001b[0mO\u001b[0m\u001b[0;34m)\u001b[0m\u001b[0;34m)\u001b[0m\u001b[0;34m\u001b[0m\u001b[0;34m\u001b[0m\u001b[0m\n\u001b[0m\u001b[1;32m     16\u001b[0m \u001b[0mepsD\u001b[0m \u001b[0;34m=\u001b[0m \u001b[0mnp\u001b[0m\u001b[0;34m.\u001b[0m\u001b[0marray\u001b[0m\u001b[0;34m(\u001b[0m\u001b[0mdfParam\u001b[0m\u001b[0;34m.\u001b[0m\u001b[0mθ_alt\u001b[0m\u001b[0;34m)\u001b[0m\u001b[0;34m.\u001b[0m\u001b[0mreshape\u001b[0m\u001b[0;34m(\u001b[0m\u001b[0;34m(\u001b[0m\u001b[0mJ\u001b[0m\u001b[0;34m,\u001b[0m\u001b[0;36m1\u001b[0m\u001b[0;34m)\u001b[0m\u001b[0;34m)\u001b[0m\u001b[0;34m\u001b[0m\u001b[0;34m\u001b[0m\u001b[0m\n\u001b[1;32m     17\u001b[0m \u001b[0;34m\u001b[0m\u001b[0m\n",
      "\u001b[0;31mValueError\u001b[0m: cannot reshape array of size 17 into shape (13,1)"
     ]
    }
   ],
   "source": [
    "data_dir = '../data/clean/'\n",
    "dfA      = pd.read_csv(data_dir + 'A.csv')\n",
    "dfParam  = pd.read_csv(data_dir + 'params.csv')\n",
    "dfLshare = pd.read_csv(data_dir + 'labor_share.csv')\n",
    "dfLabor_market_yearly= pd.read_csv(data_dir + 'labor_market_yearly.csv')\n",
    "dfLabor_market_yearly = dfLabor_market_yearly.sort_values(by=['year', 'BEA_sector'])\n",
    "dfLabor_market_yearly = dfLabor_market_yearly.dropna(axis=0)\n",
    "dfLabor_market_yearly = dfLabor_market_yearly[dfLabor_market_yearly['year'] == 2021]\n",
    "# reformatting parameters\n",
    "Omega = np.array(dfA.iloc[:, 1:], dtype='float64')\n",
    "Psi = np.linalg.inv(np.eye(Omega.shape[0])-Omega)\n",
    "J = Omega.shape[0]\n",
    "O = 1\n",
    "\n",
    "epsN = np.array(dfParam.α).reshape((J,O))\n",
    "epsD = np.array(dfParam.θ_alt).reshape((J,1))\n",
    "\n",
    "# labor market stats\n",
    "θ = dfLabor_market_yearly['v'].sum() / dfLabor_market_yearly['u'].sum() \n",
    "ν = np.ones(O) * 0.5\n",
    "curlyQ = np.diag(-ν)\n",
    "curlyF =  np.eye(O) + curlyQ\n",
    "r = 0.0282\n",
    "curlyT = np.diag(r / (θ**(-ν) - r))\n",
    "# Picking r so that \\tau is roughly 2.3%.\n",
    "curlyL = np.array(dfLabor_market_yearly['e']/dfLabor_market_yearly['e'].sum()).reshape((O,J))\n",
    "curlyT"
   ]
  },
  {
   "cell_type": "markdown",
   "metadata": {},
   "source": [
    "First, we define the shocks we are interested in to allow us to easily change these in the future, that is we define the vectors $d\\log\\bm{A}$ and $d\\log\\bm{H}$."
   ]
  },
  {
   "cell_type": "code",
   "execution_count": null,
   "metadata": {},
   "outputs": [],
   "source": [
    "dlog_A = np.zeros((J, 1))\n",
    "dlog_A[3] = 0.01 \n",
    "dlog_H = np.zeros((O,1))"
   ]
  },
  {
   "cell_type": "markdown",
   "metadata": {},
   "source": [
    "We assume Cobb-Douglas production and preferences."
   ]
  },
  {
   "cell_type": "code",
   "execution_count": null,
   "metadata": {},
   "outputs": [],
   "source": [
    "dlog_lam = np.zeros_like(dlog_A)\n",
    "dlog_epsN = np.zeros_like(epsN)\n",
    "dlog_epsD = np.zeros_like(epsD)"
   ]
  },
  {
   "cell_type": "markdown",
   "metadata": {},
   "source": [
    "Finally, we need to make some assumption about how wages change. We begin by assuming that wages net of sectoral employment weighted prices do not change in response to changes in either productivity or the labor force."
   ]
  },
  {
   "cell_type": "code",
   "execution_count": null,
   "metadata": {},
   "outputs": [],
   "source": [
    "#epsW_A = np.zeros((O,J))\n",
    "gamma_A = 1\n",
    "gamma_H = 1\n",
    "epsW_A, epsW_H = multi_occupation_network.WageElasticityFunc(gamma_A, gamma_H, Psi, curlyL, epsN)\n",
    "epsW_A"
   ]
  },
  {
   "cell_type": "code",
   "execution_count": null,
   "metadata": {},
   "outputs": [],
   "source": [
    "dlog_wR = multi_occupation_network.WageFunc(dlog_A, dlog_H, epsW_A, epsW_H)"
   ]
  },
  {
   "cell_type": "markdown",
   "metadata": {},
   "source": [
    "With these pieces in hand, we can now estimate responses to tightness. For details, see the multiple occupations example code."
   ]
  },
  {
   "cell_type": "code",
   "execution_count": null,
   "metadata": {},
   "outputs": [],
   "source": [
    "curlyE = multi_occupation_network.curlyEFunc(dlog_epsN,epsN)\n",
    "dlog_theta = multi_occupation_network.ThetaFunc(dlog_A, dlog_H, dlog_wR, dlog_epsN, dlog_lam, Psi, Omega, curlyF, curlyQ, curlyT, curlyE, curlyL, epsN)\n",
    "dlog_theta"
   ]
  },
  {
   "cell_type": "code",
   "execution_count": null,
   "metadata": {},
   "outputs": [],
   "source": [
    "num = 0\n",
    "dlog_p = multi_occupation_network.PriceFunc(dlog_A, dlog_wR, dlog_theta, Psi, curlyQ, epsN, curlyT, curlyL, num=num)\n",
    "dlog_p"
   ]
  },
  {
   "cell_type": "code",
   "execution_count": null,
   "metadata": {},
   "outputs": [],
   "source": [
    "dlog_y = multi_occupation_network.OutputFunc(dlog_A,dlog_H, dlog_theta, dlog_lam, Psi, Omega, curlyQ, curlyF, epsN, curlyT, curlyE)\n",
    "dlog_y"
   ]
  },
  {
   "cell_type": "markdown",
   "metadata": {},
   "source": [
    "We can check labor market clearing holds."
   ]
  },
  {
   "cell_type": "code",
   "execution_count": null,
   "metadata": {},
   "outputs": [],
   "source": [
    "multi_occupation_network.LaborSupply(dlog_H, dlog_theta, curlyF) - multi_occupation_network.LaborDemand(dlog_wR, dlog_y, dlog_p, dlog_epsN, curlyL)"
   ]
  },
  {
   "cell_type": "markdown",
   "metadata": {},
   "source": [
    "Finally, we can calculate changes in aggregate output."
   ]
  },
  {
   "cell_type": "code",
   "execution_count": null,
   "metadata": {},
   "outputs": [],
   "source": [
    "dlog_aggY = multi_occupation_network.AggOutputFunc(dlog_y, dlog_lam, dlog_epsD, epsD)\n",
    "dlog_aggY"
   ]
  },
  {
   "cell_type": "markdown",
   "metadata": {},
   "source": [
    "Since labor market frictions are the only source of inefficiency in our network economy, in the absence of labor market frictions our network economy is fully efficient. It is well known that Hulten's theorem holds in efficient network economies with Cobb-Douglas technology. We can therefore easily compare the implications of labor market frictions for aggregate output with the implications of the same technology shocks absent labor market frictions.  "
   ]
  },
  {
   "cell_type": "code",
   "execution_count": null,
   "metadata": {},
   "outputs": [],
   "source": [
    "epsD.T @ Psi @ dlog_A"
   ]
  },
  {
   "cell_type": "markdown",
   "metadata": {},
   "source": [
    "We can also compare sector level output changes with and without labor market frictions."
   ]
  },
  {
   "cell_type": "markdown",
   "metadata": {},
   "source": [
    "## Calibration figures \n",
    "\n",
    "### Aggregate importance of deviations from Hulten.\n",
    "\n",
    "To analyse the quantitative importance of deviations from Hulten's theorem, below we vary $\\gamma_A$ from 0 to 2, and plot the aggregate response to a 1\\% shock to durable goods."
   ]
  },
  {
   "cell_type": "code",
   "execution_count": null,
   "metadata": {},
   "outputs": [],
   "source": [
    "N = 1000\n",
    "gamma_a_vec = np.linspace(0,2,N)\n",
    "aggY_vec = np.zeros_like(gamma_a_vec)\n",
    "dlog_A = np.zeros((J, 1))\n",
    "dlog_A[3] = 0.01 \n",
    "dlog_H = np.zeros((O,1))\n",
    "curlyE = multi_occupation_network.curlyEFunc(dlog_epsN,epsN)\n",
    "\n",
    "\n",
    "for i in range(N):\n",
    "    epsW_A, epsW_H = multi_occupation_network.WageElasticityFunc(gamma_a_vec[i], 1, Psi, curlyL, epsN)\n",
    "    dlog_wR = multi_occupation_network.WageFunc(dlog_A, dlog_H, epsW_A, epsW_H)\n",
    "    dlog_theta = multi_occupation_network.ThetaFunc(dlog_A, dlog_H, dlog_wR, dlog_epsN, dlog_lam, Psi, Omega, curlyF, curlyQ, curlyT, curlyE, curlyL, epsN)\n",
    "    dlog_y = multi_occupation_network.OutputFunc(dlog_A,dlog_H, dlog_theta, dlog_lam, Psi, Omega, curlyQ, curlyF, epsN, curlyT, curlyE)\n",
    "    aggY_vec[i] = multi_occupation_network.AggOutputFunc(dlog_y, dlog_lam, dlog_epsD, epsD)"
   ]
  },
  {
   "cell_type": "code",
   "execution_count": null,
   "metadata": {},
   "outputs": [],
   "source": [
    "plt.plot(gamma_a_vec,aggY_vec)"
   ]
  },
  {
   "cell_type": "markdown",
   "metadata": {},
   "source": [
    "Next, we plot responses of sectoral output to technology shocks assuming $\\gamma_A = [0.9, 1, 1.1]$. "
   ]
  },
  {
   "cell_type": "code",
   "execution_count": null,
   "metadata": {},
   "outputs": [],
   "source": [
    "gamma_A_vec = np.array([0.95,1,1.05])\n",
    "sectorY_vec = np.zeros((J+1,3))\n",
    "occT_vec = np.zeros((O,3))\n",
    "occU_vec = np.zeros((O,3))\n",
    "for i in range(3):\n",
    "    epsW_A, epsW_H = multi_occupation_network.WageElasticityFunc(gamma_A_vec[i], 1, Psi, curlyL, epsN)\n",
    "    dlog_wR = multi_occupation_network.WageFunc(dlog_A, dlog_H, epsW_A, epsW_H)\n",
    "    dlog_theta = multi_occupation_network.ThetaFunc(dlog_A, dlog_H, dlog_wR, dlog_epsN, dlog_lam, Psi, Omega, curlyF, curlyQ, curlyT, curlyE, curlyL, epsN)\n",
    "    occT_vec[:, i] = dlog_theta\n",
    "    dlog_y = multi_occupation_network.OutputFunc(dlog_A,dlog_H, dlog_theta, dlog_lam, Psi, Omega, curlyQ, curlyF, epsN, curlyT, curlyE)\n",
    "    sectorY_vec[:-1, i] = dlog_y.flatten()\n",
    "    sectorY_vec[-1, i] = multi_occupation_network.AggOutputFunc(dlog_y, dlog_lam, dlog_epsD, epsD)\n",
    "    occU_vec[:,i] = multi_occupation_network.UnemploymentFunc(multi_occupation_network.LaborSupply(dlog_H, dlog_theta, curlyF), dlog_H)"
   ]
  },
  {
   "cell_type": "code",
   "execution_count": null,
   "metadata": {},
   "outputs": [],
   "source": [
    "sector_names = ['Food S', 'Rec', 'Const', 'Dur', 'Educ S', 'Fin', 'Gov', 'Health',\n",
    "                'Info', 'Mining', 'Nondur', 'Other S', 'Bus S', 'Real Est', 'Retail', 'Trans',\n",
    "                'Whsale', 'Agg Y']\n",
    "title = 'Response to 1% Technology Shock in Durables'\n",
    "xlab = ''\n",
    "ylab = '$\\Delta$ output (pct. points)'\n",
    "save_path = '../output/figures/durables_AshockY_1occ.png'\n",
    "labels = ['$\\gamma_{A} = 0.95$','$\\gamma_{A} = 1$','$\\gamma_{A} = 1.05$']\n",
    "bar_plot(100*sectorY_vec, sector_names, title, xlab, ylab, labels, save_path, rotation=30, fontsize=10, barWidth = 0.25, dpi=300)"
   ]
  },
  {
   "cell_type": "code",
   "execution_count": null,
   "metadata": {},
   "outputs": [],
   "source": [
    "occupation_names = ['Common Labor Market']\n",
    "xlab = ''\n",
    "ylab = '$\\Delta \\\\theta$  (pct. points)'\n",
    "save_path = '../output/figures/durables_AshockT_1occ.png'\n",
    "labels = ['$\\gamma_{A} = 0.95$','$\\gamma_{A} = 1$','$\\gamma_{A} = 1.05$']\n",
    "bar_plot(100*occT_vec, occupation_names, title, xlab, ylab, labels, save_path, rotation=0, fontsize=10, barWidth = 0.25, dpi=300)"
   ]
  },
  {
   "cell_type": "code",
   "execution_count": null,
   "metadata": {},
   "outputs": [],
   "source": [
    "occupation_names = ['Common Labor Market']\n",
    "xlab = ''\n",
    "ylab = '$\\Delta U$  (pct. points)'\n",
    "save_path = '../output/figures/durables_AshockU_1occ.png'\n",
    "labels = ['$\\gamma_{A} = 0.95$','$\\gamma_{A} = 1$','$\\gamma_{A} = 1.05$']\n",
    "bar_plot(100*occU_vec, occupation_names, title, xlab, ylab, labels, save_path, rotation=0, fontsize=10, barWidth = 0.25, dpi=300)"
   ]
  },
  {
   "cell_type": "markdown",
   "metadata": {},
   "source": [
    "## Calibration Figures: Response to Labor Force Shock\n",
    "We repeat the code above for the case of a shock to the size of the labor force, $d\\log\\bm{H}$."
   ]
  },
  {
   "cell_type": "code",
   "execution_count": null,
   "metadata": {},
   "outputs": [],
   "source": [
    "dlog_A = np.zeros((J, 1))\n",
    "dlog_H = np.zeros((O,1))\n",
    "dlog_H[0] = 0.01 \n",
    "curlyE = multi_occupation_network.curlyEFunc(dlog_epsN,epsN)"
   ]
  },
  {
   "cell_type": "code",
   "execution_count": null,
   "metadata": {},
   "outputs": [],
   "source": [
    "gamma_H_vec = np.array([0.95,1,1.05])\n",
    "sectorY_vec = np.zeros((J+1,3))\n",
    "occT_vec = np.zeros((O,3))\n",
    "occU_vec = np.zeros((O,3))\n",
    "for i in range(3):\n",
    "    epsW_A, epsW_H = multi_occupation_network.WageElasticityFunc(1, gamma_H_vec[i], Psi, curlyL, epsN)\n",
    "    dlog_wR = multi_occupation_network.WageFunc(dlog_A, dlog_H, epsW_A, epsW_H)\n",
    "    dlog_theta = multi_occupation_network.ThetaFunc(dlog_A, dlog_H, dlog_wR, dlog_epsN, dlog_lam, Psi, Omega, curlyF, curlyQ, curlyT, curlyE, curlyL, epsN)\n",
    "    occT_vec[:, i] = dlog_theta.flatten()\n",
    "    dlog_y = multi_occupation_network.OutputFunc(dlog_A,dlog_H, dlog_theta, dlog_lam, Psi, Omega, curlyQ, curlyF, epsN, curlyT, curlyE)\n",
    "    sectorY_vec[:-1, i] = dlog_y.flatten()\n",
    "    sectorY_vec[-1, i] = multi_occupation_network.AggOutputFunc(dlog_y, dlog_lam, dlog_epsD, epsD)\n",
    "    occU_vec[:,i] = multi_occupation_network.UnemploymentFunc(multi_occupation_network.LaborSupply(dlog_H, dlog_theta, curlyF), dlog_H).flatten()"
   ]
  },
  {
   "cell_type": "code",
   "execution_count": null,
   "metadata": {},
   "outputs": [],
   "source": [
    "sector_names = ['Food S', 'Rec', 'Const', 'Dur', 'Educ S', 'Fin', 'Gov', 'Health',\n",
    "                'Info', 'Mining', 'Nondur', 'Other S', 'Bus S', 'Real Est', 'Retail', 'Trans',\n",
    "                'Whsale', 'Agg Y']\n",
    "title = 'Response to 1% Labor force Shock in Durables'\n",
    "xlab = ''\n",
    "ylab = '$\\Delta$ output (pct. points)'\n",
    "save_path = '../output/figures/durables_HshockY_1occ.png'\n",
    "labels = ['$\\gamma_{H} = 0.95$','$\\gamma_{H} = 1$','$\\gamma_{H} = 1.05$']\n",
    "bar_plot(100*sectorY_vec, sector_names, title, xlab, ylab, labels, save_path, rotation=30, fontsize=10, barWidth = 0.25, dpi=300)"
   ]
  },
  {
   "cell_type": "code",
   "execution_count": null,
   "metadata": {},
   "outputs": [],
   "source": [
    "occupation_names = ['Common Labor Market']\n",
    "xlab = ''\n",
    "ylab = '$\\Delta \\\\theta$  (pct. points)'\n",
    "save_path = '../output/figures/durables_HshockT_1occ.png'\n",
    "labels = ['$\\gamma_{H} = 0.95$','$\\gamma_{H} = 1$','$\\gamma_{H} = 1.05$']\n",
    "bar_plot(100*occT_vec, occupation_names, title, xlab, ylab, labels, save_path, rotation=0, fontsize=10, barWidth = 0.25, dpi=300)"
   ]
  },
  {
   "cell_type": "code",
   "execution_count": null,
   "metadata": {},
   "outputs": [],
   "source": [
    "xlab = ''\n",
    "ylab = '$\\Delta U$  (pct. points)'\n",
    "save_path = '../output/figures/durables_HshockU_1occ.png'\n",
    "labels = ['$\\gamma_{H} = 0.95$','$\\gamma_{H} = 1$','$\\gamma_{H} = 1.05$']\n",
    "bar_plot(100*occU_vec, occupation_names, title, xlab, ylab, labels, save_path, rotation=0, fontsize=10, barWidth = 0.25, dpi=300)"
   ]
  }
 ],
 "metadata": {
  "kernelspec": {
   "display_name": "Python 3 (ipykernel)",
   "language": "python",
   "name": "python3"
  },
  "language_info": {
   "codemirror_mode": {
    "name": "ipython",
    "version": 3
   },
   "file_extension": ".py",
   "mimetype": "text/x-python",
   "name": "python",
   "nbconvert_exporter": "python",
   "pygments_lexer": "ipython3",
   "version": "3.9.7"
  }
 },
 "nbformat": 4,
 "nbformat_minor": 4
}
